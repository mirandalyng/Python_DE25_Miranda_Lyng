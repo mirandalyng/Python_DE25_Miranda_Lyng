{
 "cells": [
  {
   "cell_type": "markdown",
   "metadata": {},
   "source": [
    "# Code along - OOP lecture 15/10 "
   ]
  },
  {
   "cell_type": "markdown",
   "metadata": {},
   "source": [
    "### 13 A - OOP Fundamentals"
   ]
  },
  {
   "cell_type": "code",
   "execution_count": 30,
   "metadata": {},
   "outputs": [
    {
     "name": "stdout",
     "output_type": "stream",
     "text": [
      "Dunder init running\n"
     ]
    },
    {
     "data": {
      "text/plain": [
       "'STI'"
      ]
     },
     "execution_count": 30,
     "metadata": {},
     "output_type": "execute_result"
    }
   ],
   "source": [
    "# Define a class with name Admission\n",
    "class Admission:  \n",
    "\n",
    "    #dunder-init - initializer - double underscore \n",
    "    # The first thing that will run\n",
    "    #this method will run when you instanciate a instance from this class \n",
    "    def __init__(self, school, name, program = \"Cool program\"): # as a default \n",
    "        \n",
    "        print(\"Dunder init running\")\n",
    "        \n",
    "        #set the attributes to the values from the arguments \n",
    "        self.school = school\n",
    "        self.name = name \n",
    "        self.program = program \n",
    "\n",
    "#Instansiate the instance person1 that is of type Admission - the dunder init will run\n",
    "person1 = Admission(\"STI\", \"Ceda\",)\n",
    "\n",
    "person1.school\n",
    "\n"
   ]
  },
  {
   "cell_type": "code",
   "execution_count": 31,
   "metadata": {},
   "outputs": [
    {
     "data": {
      "text/plain": [
       "'Cool program'"
      ]
     },
     "execution_count": 31,
     "metadata": {},
     "output_type": "execute_result"
    }
   ],
   "source": [
    "person1.program"
   ]
  },
  {
   "cell_type": "markdown",
   "metadata": {},
   "source": [
    "### Note on memory \n",
    "\n",
    "- By default, the __repr of an instance is showing the memory adress of where the instance live\n",
    "\n",
    "- each instance of the class lives in different memory adresses \n",
    "    - they are different objecs "
   ]
  },
  {
   "cell_type": "code",
   "execution_count": 32,
   "metadata": {},
   "outputs": [
    {
     "name": "stdout",
     "output_type": "stream",
     "text": [
      "Dunder init running\n"
     ]
    },
    {
     "data": {
      "text/plain": [
       "'Java'"
      ]
     },
     "execution_count": 32,
     "metadata": {},
     "output_type": "execute_result"
    }
   ],
   "source": [
    "person2 = Admission(name=\"Johnny\", school= \"Cool school\", program=\"Java\")\n",
    "person2.program\n"
   ]
  },
  {
   "cell_type": "code",
   "execution_count": 33,
   "metadata": {},
   "outputs": [
    {
     "data": {
      "text/plain": [
       "(<__main__.Admission at 0x107fbedb0>, <__main__.Admission at 0x107fbf140>)"
      ]
     },
     "execution_count": 33,
     "metadata": {},
     "output_type": "execute_result"
    }
   ],
   "source": [
    "person1, person2"
   ]
  },
  {
   "cell_type": "markdown",
   "metadata": {},
   "source": [
    "### Implement class student"
   ]
  },
  {
   "cell_type": "code",
   "execution_count": 57,
   "metadata": {},
   "outputs": [],
   "source": [
    "class Student: \n",
    "\n",
    "    def __init__(self, name, type_of_study, pass_, school, age):\n",
    "\n",
    "        self.name = name\n",
    "        self.type_of_study = type_of_study\n",
    "        self.pass_ = pass_\n",
    "        self.school = school \n",
    "        self.age = age \n",
    "\n",
    "    #Method \n",
    "    def study(self):\n",
    "        print(f\"{self.name} studies {self.type_of_study}\")\n",
    "    \n",
    "    \n",
    "student1 = Student(\"miranda\", \"Data Engineer\", True, \"STI\", 30)\n",
    "\n",
    "student2 = Student(\"Lisa\", \"Data Engineer\", True, \"STI\", 33)\n",
    "\n",
    "\n"
   ]
  },
  {
   "cell_type": "code",
   "execution_count": 39,
   "metadata": {},
   "outputs": [
    {
     "data": {
      "text/plain": [
       "'STI'"
      ]
     },
     "execution_count": 39,
     "metadata": {},
     "output_type": "execute_result"
    }
   ],
   "source": [
    "student1.school"
   ]
  },
  {
   "cell_type": "code",
   "execution_count": 40,
   "metadata": {},
   "outputs": [
    {
     "data": {
      "text/plain": [
       "'Lisa'"
      ]
     },
     "execution_count": 40,
     "metadata": {},
     "output_type": "execute_result"
    }
   ],
   "source": [
    "student2.name"
   ]
  },
  {
   "cell_type": "code",
   "execution_count": 41,
   "metadata": {},
   "outputs": [
    {
     "data": {
      "text/plain": [
       "True"
      ]
     },
     "execution_count": 41,
     "metadata": {},
     "output_type": "execute_result"
    }
   ],
   "source": [
    "student2.pass_"
   ]
  },
  {
   "cell_type": "code",
   "execution_count": 43,
   "metadata": {},
   "outputs": [
    {
     "name": "stdout",
     "output_type": "stream",
     "text": [
      "miranda studies Data Engineer\n"
     ]
    }
   ],
   "source": [
    "student1.study()"
   ]
  },
  {
   "cell_type": "code",
   "execution_count": 44,
   "metadata": {},
   "outputs": [
    {
     "name": "stdout",
     "output_type": "stream",
     "text": [
      "Lisa studies Data Engineer\n"
     ]
    }
   ],
   "source": [
    "student2.study()"
   ]
  },
  {
   "cell_type": "markdown",
   "metadata": {},
   "source": [
    "### \\_\\_repr\\_\\_ - dunder repper method "
   ]
  },
  {
   "cell_type": "markdown",
   "metadata": {},
   "source": [
    "- kind of an representation \n",
    "- Method to repsresent your class to other developers \n",
    "- usually: describe how to create an instance from this class \n",
    "- By default we get the : <__main__.Student at 0x107fa7350>\n"
   ]
  },
  {
   "cell_type": "code",
   "execution_count": 67,
   "metadata": {},
   "outputs": [
    {
     "data": {
      "text/plain": [
       "Student(name = 'Miranda', type_of_study = 'Data Engineer', school = 'STI', age = 30, passed = True)"
      ]
     },
     "execution_count": 67,
     "metadata": {},
     "output_type": "execute_result"
    }
   ],
   "source": [
    "class Student: \n",
    "\n",
    "    def __init__(self, name, type_of_study, pass_, school, age):\n",
    "\n",
    "        self.name = name\n",
    "        self.type_of_study = type_of_study\n",
    "        self.pass_ = pass_\n",
    "        self.school = school \n",
    "        self.age = age \n",
    "\n",
    "    #Method \n",
    "    def study(self):\n",
    "        print(f\"{self.name} studies {self.type_of_study}\")\n",
    "\n",
    "    def __repr__(self): \n",
    "\n",
    "        return f\"Student(name = '{self.name}', type_of_study = '{self.type_of_study}', school = '{self.school}', age = {self.age}, passed = {self.pass_})\"\n",
    "    \n",
    "    \n",
    "student3 = Student(\"Miranda\", \"Data Engineer\", True, \"STI\", 30)\n",
    "\n",
    "student3\n"
   ]
  },
  {
   "cell_type": "code",
   "execution_count": 69,
   "metadata": {},
   "outputs": [
    {
     "name": "stdout",
     "output_type": "stream",
     "text": [
      "Student(name = 'Miranda', type_of_study = 'Data Engineer', school = 'STI', age = 30, passed = True)\n"
     ]
    }
   ],
   "source": [
    "#printing (using the print()) --> look for __str__ method, if it doesn't exist look for __repr__ as a fallback \n",
    "\n",
    "print(student3)"
   ]
  },
  {
   "cell_type": "code",
   "execution_count": 73,
   "metadata": {},
   "outputs": [
    {
     "data": {
      "text/plain": [
       "Student(name = 'Miranda', type_of_study = 'Data Engineer', school = 'STI', age = 30, passed = True)"
      ]
     },
     "execution_count": 73,
     "metadata": {},
     "output_type": "execute_result"
    }
   ],
   "source": [
    "class Student: \n",
    "\n",
    "    def __init__(self, name, type_of_study, pass_, school, age):\n",
    "\n",
    "        self.name = name\n",
    "        self.type_of_study = type_of_study\n",
    "        self.pass_ = pass_\n",
    "        self.school = school \n",
    "        self.age = age \n",
    "\n",
    "    #Method \n",
    "    def study(self):\n",
    "        print(f\"{self.name} studies {self.type_of_study}\")\n",
    "\n",
    "    def __str__(self): \n",
    "        return f\"{self.name} is studying {self.type_of_study} at {self.school}\"\n",
    "    \n",
    "    def __repr__(self): \n",
    "\n",
    "        return f\"Student(name = '{self.name}', type_of_study = '{self.type_of_study}', school = '{self.school}', age = {self.age}, passed = {self.pass_})\"\n",
    "    \n",
    "student3 = Student(\"Miranda\", \"Data Engineer\", True, \"STI\", 30)\n",
    "\n",
    "student3"
   ]
  },
  {
   "cell_type": "code",
   "execution_count": 77,
   "metadata": {},
   "outputs": [
    {
     "name": "stdout",
     "output_type": "stream",
     "text": [
      "Miranda is studying Data Engineer at STI\n"
     ]
    }
   ],
   "source": [
    "#if you use print you get the __str__ \n",
    "#if you just use student3 you get the __repr__ \n",
    "print(student3)"
   ]
  }
 ],
 "metadata": {
  "kernelspec": {
   "display_name": ".venv",
   "language": "python",
   "name": "python3"
  },
  "language_info": {
   "codemirror_mode": {
    "name": "ipython",
    "version": 3
   },
   "file_extension": ".py",
   "mimetype": "text/x-python",
   "name": "python",
   "nbconvert_exporter": "python",
   "pygments_lexer": "ipython3",
   "version": "3.12.9"
  }
 },
 "nbformat": 4,
 "nbformat_minor": 2
}
