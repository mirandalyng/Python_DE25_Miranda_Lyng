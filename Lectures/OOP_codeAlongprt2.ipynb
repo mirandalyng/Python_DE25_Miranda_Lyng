{
 "cells": [
  {
   "cell_type": "markdown",
   "metadata": {},
   "source": [
    "# OOP - lecture 16/10 "
   ]
  },
  {
   "cell_type": "markdown",
   "metadata": {},
   "source": [
    "### OOP Encapsulation"
   ]
  },
  {
   "cell_type": "markdown",
   "metadata": {},
   "source": [
    "- information hiding \n",
    "\n",
    "- user don't need to know underlying how it works\n",
    "    - ex a class you need to know the methods you can use and work with and how but not    how it works \n",
    "\n",
    "- exampel : we can hide validation - e.g. proper age for a person \n",
    "\n",
    "- user of your class needs to knwo how to use it - i.e. wich methods and attributes can be used\n",
    "\n",
    "In general \n",
    "- one way to do encapsulation is to use private attributes and methods \n",
    "    - these can't be acessed from outside of the class \n",
    "\n",
    "- however in python there is no such thing as private (everything can be accessed some how\n",
    "- in Python - private by convension by using a underscore prefix (_)\n",
    "\n"
   ]
  },
  {
   "cell_type": "code",
   "execution_count": 1,
   "metadata": {},
   "outputs": [
    {
     "data": {
      "text/plain": [
       "('Miranda', 30)"
      ]
     },
     "execution_count": 1,
     "metadata": {},
     "output_type": "execute_result"
    }
   ],
   "source": [
    "#everything is public \n",
    "class Person:\n",
    "    def __init__(self, name, age): \n",
    "        self.name = name \n",
    "        self.age = age \n",
    "\n",
    "#instanciate a person \n",
    "p1 = Person(\"Miranda\", 30)\n",
    "\n",
    "p1.name, p1.age \n"
   ]
  },
  {
   "cell_type": "code",
   "execution_count": 2,
   "metadata": {},
   "outputs": [
    {
     "data": {
      "text/plain": [
       "-5"
      ]
     },
     "execution_count": 2,
     "metadata": {},
     "output_type": "execute_result"
    }
   ],
   "source": [
    "p2 = Person(\"Ada\", -5)\n",
    "p2.age"
   ]
  },
  {
   "cell_type": "code",
   "execution_count": 4,
   "metadata": {},
   "outputs": [
    {
     "ename": "AttributeError",
     "evalue": "'Person' object has no attribute 'name'",
     "output_type": "error",
     "traceback": [
      "\u001b[31m---------------------------------------------------------------------------\u001b[39m",
      "\u001b[31mAttributeError\u001b[39m                            Traceback (most recent call last)",
      "\u001b[36mCell\u001b[39m\u001b[36m \u001b[39m\u001b[32mIn[4]\u001b[39m\u001b[32m, line 9\u001b[39m\n\u001b[32m      5\u001b[39m         \u001b[38;5;28mself\u001b[39m._age = age \n\u001b[32m      7\u001b[39m p3 = Person(\u001b[33m\"\u001b[39m\u001b[33mBeda\u001b[39m\u001b[33m\"\u001b[39m, -\u001b[32m3\u001b[39m)\n\u001b[32m----> \u001b[39m\u001b[32m9\u001b[39m \u001b[43mp3\u001b[49m\u001b[43m.\u001b[49m\u001b[43mname\u001b[49m\n",
      "\u001b[31mAttributeError\u001b[39m: 'Person' object has no attribute 'name'"
     ]
    }
   ],
   "source": [
    "#private (age)\n",
    "class Person:\n",
    "    def __init__(self, name, age): \n",
    "        self._name = name \n",
    "        self._age = age \n",
    "\n",
    "p3 = Person(\"Beda\", -3)\n",
    "\n",
    "#  name attribute don't exist anymore \n",
    "p3.name"
   ]
  },
  {
   "cell_type": "code",
   "execution_count": 5,
   "metadata": {},
   "outputs": [
    {
     "data": {
      "text/plain": [
       "'Beda'"
      ]
     },
     "execution_count": 5,
     "metadata": {},
     "output_type": "execute_result"
    }
   ],
   "source": [
    "#you should not do this, but you can \n",
    "#python programmers know that underscore prefix is private by convention \n",
    "p3._name"
   ]
  },
  {
   "cell_type": "markdown",
   "metadata": {},
   "source": [
    "fix validation of age - Naive approache "
   ]
  },
  {
   "cell_type": "code",
   "execution_count": 19,
   "metadata": {},
   "outputs": [
    {
     "name": "stdout",
     "output_type": "stream",
     "text": [
      "Age must be between 0 and 124\n"
     ]
    },
    {
     "data": {
      "text/plain": [
       "Person('Kajsa', 4)"
      ]
     },
     "execution_count": 19,
     "metadata": {},
     "output_type": "execute_result"
    }
   ],
   "source": [
    "class Person:\n",
    "    def __init__(self, name, age): \n",
    "        self._name = name \n",
    "\n",
    "        if not (0 <= age < 125): \n",
    "            raise ValueError(\"Age must be between 0 and 124\")\n",
    "        \n",
    "        self._age = age\n",
    "\n",
    "    def __repr__(self): \n",
    "        return f\"Person('{self._name}', {self._age})\"\n",
    "try: \n",
    "    p4 = Person(\"Doda\", -5)\n",
    "except ValueError as err: \n",
    "    print(err)\n",
    "\n",
    "\n",
    "p5 = Person(\"Kajsa\", 4)\n",
    "\n",
    "p5"
   ]
  }
 ],
 "metadata": {
  "kernelspec": {
   "display_name": ".venv",
   "language": "python",
   "name": "python3"
  },
  "language_info": {
   "codemirror_mode": {
    "name": "ipython",
    "version": 3
   },
   "file_extension": ".py",
   "mimetype": "text/x-python",
   "name": "python",
   "nbconvert_exporter": "python",
   "pygments_lexer": "ipython3",
   "version": "3.12.9"
  }
 },
 "nbformat": 4,
 "nbformat_minor": 2
}
