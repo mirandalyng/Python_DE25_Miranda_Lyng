{
 "cells": [
  {
   "cell_type": "markdown",
   "metadata": {},
   "source": [
    "# OOP - lecture 16/10 "
   ]
  },
  {
   "cell_type": "markdown",
   "metadata": {},
   "source": [
    "### OOP Encapsulation"
   ]
  },
  {
   "cell_type": "markdown",
   "metadata": {},
   "source": [
    "- information hiding \n",
    "\n",
    "- user don't need to know underlying how it works\n",
    "    - ex a class you need to know the methods you can use and work with and how but not    how it works \n",
    "\n",
    "- exampel : we can hide validation - e.g. proper age for a person \n",
    "\n",
    "- user of your class needs to knwo how to use it - i.e. wich methods and attributes can be used\n",
    "\n",
    "In general \n",
    "- one way to do encapsulation is to use private attributes and methods \n",
    "    - these can't be acessed from outside of the class \n",
    "\n",
    "- however in python there is no such thing as private (everything can be accessed some how\n",
    "- in Python - private by convension by using a underscore prefix (_)\n",
    "\n"
   ]
  },
  {
   "cell_type": "code",
   "execution_count": 1,
   "metadata": {},
   "outputs": [
    {
     "data": {
      "text/plain": [
       "('Miranda', 30)"
      ]
     },
     "execution_count": 1,
     "metadata": {},
     "output_type": "execute_result"
    }
   ],
   "source": [
    "#everything is public \n",
    "class Person:\n",
    "    def __init__(self, name, age): \n",
    "        self.name = name \n",
    "        self.age = age \n",
    "\n",
    "#instanciate a person \n",
    "p1 = Person(\"Miranda\", 30)\n",
    "\n",
    "p1.name, p1.age \n"
   ]
  },
  {
   "cell_type": "code",
   "execution_count": 2,
   "metadata": {},
   "outputs": [
    {
     "data": {
      "text/plain": [
       "-5"
      ]
     },
     "execution_count": 2,
     "metadata": {},
     "output_type": "execute_result"
    }
   ],
   "source": [
    "p2 = Person(\"Ada\", -5)\n",
    "p2.age"
   ]
  },
  {
   "cell_type": "code",
   "execution_count": 4,
   "metadata": {},
   "outputs": [
    {
     "ename": "AttributeError",
     "evalue": "'Person' object has no attribute 'name'",
     "output_type": "error",
     "traceback": [
      "\u001b[31m---------------------------------------------------------------------------\u001b[39m",
      "\u001b[31mAttributeError\u001b[39m                            Traceback (most recent call last)",
      "\u001b[36mCell\u001b[39m\u001b[36m \u001b[39m\u001b[32mIn[4]\u001b[39m\u001b[32m, line 9\u001b[39m\n\u001b[32m      5\u001b[39m         \u001b[38;5;28mself\u001b[39m._age = age \n\u001b[32m      7\u001b[39m p3 = Person(\u001b[33m\"\u001b[39m\u001b[33mBeda\u001b[39m\u001b[33m\"\u001b[39m, -\u001b[32m3\u001b[39m)\n\u001b[32m----> \u001b[39m\u001b[32m9\u001b[39m \u001b[43mp3\u001b[49m\u001b[43m.\u001b[49m\u001b[43mname\u001b[49m\n",
      "\u001b[31mAttributeError\u001b[39m: 'Person' object has no attribute 'name'"
     ]
    }
   ],
   "source": [
    "#private (age)\n",
    "class Person:\n",
    "    def __init__(self, name, age): \n",
    "        self._name = name \n",
    "        self._age = age \n",
    "\n",
    "p3 = Person(\"Beda\", -3)\n",
    "\n",
    "#  name attribute don't exist anymore \n",
    "p3.name"
   ]
  },
  {
   "cell_type": "code",
   "execution_count": 5,
   "metadata": {},
   "outputs": [
    {
     "data": {
      "text/plain": [
       "'Beda'"
      ]
     },
     "execution_count": 5,
     "metadata": {},
     "output_type": "execute_result"
    }
   ],
   "source": [
    "#you should not do this, but you can \n",
    "#python programmers know that underscore prefix is private by convention \n",
    "p3._name"
   ]
  },
  {
   "cell_type": "markdown",
   "metadata": {},
   "source": [
    "fix validation of age - Naive approache "
   ]
  },
  {
   "cell_type": "code",
   "execution_count": 19,
   "metadata": {},
   "outputs": [
    {
     "name": "stdout",
     "output_type": "stream",
     "text": [
      "Age must be between 0 and 124\n"
     ]
    },
    {
     "data": {
      "text/plain": [
       "Person('Kajsa', 4)"
      ]
     },
     "execution_count": 19,
     "metadata": {},
     "output_type": "execute_result"
    }
   ],
   "source": [
    "class Person:\n",
    "    def __init__(self, name, age): \n",
    "        self._name = name \n",
    "\n",
    "        if not (0 <= age < 125): \n",
    "            raise ValueError(\"Age must be between 0 and 124\")\n",
    "        \n",
    "        self._age = age\n",
    "\n",
    "    def __repr__(self): \n",
    "        return f\"Person('{self._name}', {self._age})\"\n",
    "try: \n",
    "    p4 = Person(\"Doda\", -5)\n",
    "except ValueError as err: \n",
    "    print(err)\n",
    "\n",
    "\n",
    "p5 = Person(\"Kajsa\", 4)\n",
    "\n",
    "p5"
   ]
  },
  {
   "cell_type": "code",
   "execution_count": 21,
   "metadata": {},
   "outputs": [
    {
     "data": {
      "text/plain": [
       "Person('Kajsa', -5)"
      ]
     },
     "execution_count": 21,
     "metadata": {},
     "output_type": "execute_result"
    }
   ],
   "source": [
    "#this is not good, but ok because validation happens only in __init__\n",
    "p5._age = -5\n",
    "#this is possible when we do the error in the instansiation but \n",
    "#it doesn't apply to when you change the value\n",
    "p5"
   ]
  },
  {
   "cell_type": "markdown",
   "metadata": {},
   "source": [
    "### Property "
   ]
  },
  {
   "cell_type": "markdown",
   "metadata": {},
   "source": [
    "- getter --> gets a value \n",
    "- setter --> sets a value \n",
    "\n",
    "\n",
    "idea: put the validation code in the setter -> encapsulated validation code "
   ]
  },
  {
   "cell_type": "markdown",
   "metadata": {},
   "source": [
    "# Property \n",
    "- in other languages there is get and set "
   ]
  },
  {
   "cell_type": "markdown",
   "metadata": {},
   "source": [
    "## getter property \n",
    "\n",
    "- read only age \n",
    "- only the getter is defined that is with the @ property "
   ]
  },
  {
   "cell_type": "code",
   "execution_count": 26,
   "metadata": {},
   "outputs": [
    {
     "name": "stdout",
     "output_type": "stream",
     "text": [
      "age getter called\n"
     ]
    },
    {
     "data": {
      "text/plain": [
       "8"
      ]
     },
     "execution_count": 26,
     "metadata": {},
     "output_type": "execute_result"
    }
   ],
   "source": [
    "class Person:\n",
    "    def __init__(self, name, age): \n",
    "        self._name = name \n",
    "\n",
    "        if not (0 <= age < 125): \n",
    "            raise ValueError(\"Age must be between 0 and 124\")\n",
    "        \n",
    "        self._age = age\n",
    "   \n",
    "    #decorator - decorates a function - makes a funcion having more functionallity \n",
    "    #a decorator - makes it into a property (getter and setter) \n",
    "    @property\n",
    "    def age(self): \n",
    "        print(\"age getter called\")\n",
    "        return self._age\n",
    "\n",
    "\n",
    "    def __repr__(self): \n",
    "        return f\"Person('{self._name}', {self._age})\"\n",
    "    \n",
    "\n",
    "p6 = Person(\"Bibbi\", 8)\n",
    "p6.age"
   ]
  },
  {
   "cell_type": "code",
   "execution_count": 28,
   "metadata": {},
   "outputs": [
    {
     "ename": "AttributeError",
     "evalue": "property 'age' of 'Person' object has no setter",
     "output_type": "error",
     "traceback": [
      "\u001b[31m---------------------------------------------------------------------------\u001b[39m",
      "\u001b[31mAttributeError\u001b[39m                            Traceback (most recent call last)",
      "\u001b[36mCell\u001b[39m\u001b[36m \u001b[39m\u001b[32mIn[28]\u001b[39m\u001b[32m, line 1\u001b[39m\n\u001b[32m----> \u001b[39m\u001b[32m1\u001b[39m \u001b[43mp6\u001b[49m\u001b[43m.\u001b[49m\u001b[43mage\u001b[49m = \u001b[32m5\u001b[39m\n",
      "\u001b[31mAttributeError\u001b[39m: property 'age' of 'Person' object has no setter"
     ]
    }
   ],
   "source": [
    "#there is no setter \n",
    "p6.age = 5"
   ]
  },
  {
   "cell_type": "markdown",
   "metadata": {},
   "source": [
    "## implemating Setter property "
   ]
  },
  {
   "cell_type": "code",
   "execution_count": 46,
   "metadata": {},
   "outputs": [
    {
     "name": "stdout",
     "output_type": "stream",
     "text": [
      "age setter called\n",
      "age getter called\n"
     ]
    },
    {
     "data": {
      "text/plain": [
       "8"
      ]
     },
     "execution_count": 46,
     "metadata": {},
     "output_type": "execute_result"
    }
   ],
   "source": [
    "class Person:\n",
    "    def __init__(self, name, age): \n",
    "        self._name = name   \n",
    "\n",
    "        #whenever we do assignment where there is a setter \n",
    "        # the setter will be called      \n",
    "        self.age = age\n",
    "   \n",
    "    #decorator - decorates a function - makes a funcion having more functionallity \n",
    "    #a decorator - makes it into a property (getter and setter) \n",
    "\n",
    "    #implemating getter \n",
    "    @property\n",
    "\n",
    "     \n",
    "    def age(self): \n",
    "        print(\"age getter called\")\n",
    "        return self._age\n",
    "    \n",
    "    #implemating setter\n",
    "    @age.setter\n",
    "    def age(self, value): \n",
    "        print(\"age setter called\")\n",
    "        if not (0 <= value < 125): \n",
    "            raise ValueError(f\"Age must be between 0 and 124 not {value}\")\n",
    "        \n",
    "        self._age = value\n",
    "\n",
    "\n",
    "\n",
    "    def __repr__(self): \n",
    "        return f\"Person('{self._name}', {self.age})\"\n",
    "    \n",
    "#when instanciating a Person - we use the age setter \n",
    "p7 = Person(\"Bobbo\", 8)\n",
    "\n",
    "#use the age getter \n",
    "p7.age\n"
   ]
  },
  {
   "cell_type": "code",
   "execution_count": 32,
   "metadata": {},
   "outputs": [
    {
     "name": "stdout",
     "output_type": "stream",
     "text": [
      "age setter called\n"
     ]
    },
    {
     "data": {
      "text/plain": [
       "Person('Bobbo', 33)"
      ]
     },
     "execution_count": 32,
     "metadata": {},
     "output_type": "execute_result"
    }
   ],
   "source": [
    "p7.age = 33 \n",
    "p7"
   ]
  },
  {
   "cell_type": "code",
   "execution_count": 44,
   "metadata": {},
   "outputs": [
    {
     "name": "stdout",
     "output_type": "stream",
     "text": [
      "age setter called\n",
      "Age must be between 0 and 124 not -5\n"
     ]
    }
   ],
   "source": [
    "try:\n",
    "    p7.age = -5\n",
    "    p7\n",
    "except ValueError as err: \n",
    "    print(err)"
   ]
  },
  {
   "cell_type": "code",
   "execution_count": 45,
   "metadata": {},
   "outputs": [
    {
     "name": "stdout",
     "output_type": "stream",
     "text": [
      "age setter called\n"
     ]
    },
    {
     "ename": "ValueError",
     "evalue": "Age must be between 0 and 124 not -3",
     "output_type": "error",
     "traceback": [
      "\u001b[31m---------------------------------------------------------------------------\u001b[39m",
      "\u001b[31mValueError\u001b[39m                                Traceback (most recent call last)",
      "\u001b[36mCell\u001b[39m\u001b[36m \u001b[39m\u001b[32mIn[45]\u001b[39m\u001b[32m, line 1\u001b[39m\n\u001b[32m----> \u001b[39m\u001b[32m1\u001b[39m p8 = \u001b[43mPerson\u001b[49m\u001b[43m(\u001b[49m\u001b[33;43m\"\u001b[39;49m\u001b[33;43mAnja\u001b[39;49m\u001b[33;43m\"\u001b[39;49m\u001b[43m,\u001b[49m\u001b[43m \u001b[49m\u001b[43m-\u001b[49m\u001b[32;43m3\u001b[39;49m\u001b[43m)\u001b[49m\n\u001b[32m      2\u001b[39m p8\n",
      "\u001b[36mCell\u001b[39m\u001b[36m \u001b[39m\u001b[32mIn[42]\u001b[39m\u001b[32m, line 4\u001b[39m, in \u001b[36mPerson.__init__\u001b[39m\u001b[34m(self, name, age)\u001b[39m\n\u001b[32m      2\u001b[39m \u001b[38;5;28;01mdef\u001b[39;00m\u001b[38;5;250m \u001b[39m\u001b[34m__init__\u001b[39m(\u001b[38;5;28mself\u001b[39m, name, age): \n\u001b[32m      3\u001b[39m     \u001b[38;5;28mself\u001b[39m._name = name         \n\u001b[32m----> \u001b[39m\u001b[32m4\u001b[39m     \u001b[38;5;28;43mself\u001b[39;49m\u001b[43m.\u001b[49m\u001b[43mage\u001b[49m = age\n",
      "\u001b[36mCell\u001b[39m\u001b[36m \u001b[39m\u001b[32mIn[42]\u001b[39m\u001b[32m, line 22\u001b[39m, in \u001b[36mPerson.age\u001b[39m\u001b[34m(self, value)\u001b[39m\n\u001b[32m     20\u001b[39m \u001b[38;5;28mprint\u001b[39m(\u001b[33m\"\u001b[39m\u001b[33mage setter called\u001b[39m\u001b[33m\"\u001b[39m)\n\u001b[32m     21\u001b[39m \u001b[38;5;28;01mif\u001b[39;00m \u001b[38;5;129;01mnot\u001b[39;00m (\u001b[32m0\u001b[39m <= value < \u001b[32m125\u001b[39m): \n\u001b[32m---> \u001b[39m\u001b[32m22\u001b[39m     \u001b[38;5;28;01mraise\u001b[39;00m \u001b[38;5;167;01mValueError\u001b[39;00m(\u001b[33mf\u001b[39m\u001b[33m\"\u001b[39m\u001b[33mAge must be between 0 and 124 not \u001b[39m\u001b[38;5;132;01m{\u001b[39;00mvalue\u001b[38;5;132;01m}\u001b[39;00m\u001b[33m\"\u001b[39m)\n\u001b[32m     24\u001b[39m \u001b[38;5;28mself\u001b[39m._age = value\n",
      "\u001b[31mValueError\u001b[39m: Age must be between 0 and 124 not -3"
     ]
    }
   ],
   "source": [
    "p8 = Person(\"Anja\", -3)\n",
    "p8"
   ]
  },
  {
   "cell_type": "markdown",
   "metadata": {},
   "source": [
    "note in other languages \n",
    "\n",
    "- p7.get_age()\n",
    "- p7.set_age()"
   ]
  }
 ],
 "metadata": {
  "kernelspec": {
   "display_name": ".venv",
   "language": "python",
   "name": "python3"
  },
  "language_info": {
   "codemirror_mode": {
    "name": "ipython",
    "version": 3
   },
   "file_extension": ".py",
   "mimetype": "text/x-python",
   "name": "python",
   "nbconvert_exporter": "python",
   "pygments_lexer": "ipython3",
   "version": "3.12.9"
  }
 },
 "nbformat": 4,
 "nbformat_minor": 2
}
