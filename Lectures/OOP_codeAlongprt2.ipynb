{
 "cells": [
  {
   "cell_type": "markdown",
   "metadata": {},
   "source": [
    "# OOP - lecture 16/10 "
   ]
  },
  {
   "cell_type": "markdown",
   "metadata": {},
   "source": [
    "### OOP Encapsulation"
   ]
  },
  {
   "cell_type": "markdown",
   "metadata": {},
   "source": [
    "- information hiding \n",
    "\n",
    "- user don't need to know underlying how it works\n",
    "    - ex a class you need to know the methods you can use and work with and how but not    how it works \n",
    "\n",
    "- exampel : we can hide validation - e.g. proper age for a person \n",
    "\n",
    "- user of your class needs to knwo how to use it - i.e. wich methods and attributes can be used\n",
    "\n",
    "In general \n",
    "- one way to do encapsulation is to use private attributes and methods \n",
    "    - these can't be acessed from outside of the class \n",
    "\n",
    "- however in python there is no such thing as private (everything can be accessed some how\n",
    "- in Python - private by convension by using a underscore prefix (_)\n",
    "\n"
   ]
  },
  {
   "cell_type": "code",
   "execution_count": 1,
   "metadata": {},
   "outputs": [
    {
     "data": {
      "text/plain": [
       "('Miranda', 30)"
      ]
     },
     "execution_count": 1,
     "metadata": {},
     "output_type": "execute_result"
    }
   ],
   "source": [
    "#everything is public \n",
    "class Person:\n",
    "    def __init__(self, name, age): \n",
    "        self.name = name \n",
    "        self.age = age \n",
    "\n",
    "#instanciate a person \n",
    "p1 = Person(\"Miranda\", 30)\n",
    "\n",
    "p1.name, p1.age \n"
   ]
  },
  {
   "cell_type": "code",
   "execution_count": 2,
   "metadata": {},
   "outputs": [
    {
     "data": {
      "text/plain": [
       "-5"
      ]
     },
     "execution_count": 2,
     "metadata": {},
     "output_type": "execute_result"
    }
   ],
   "source": [
    "p2 = Person(\"Ada\", -5)\n",
    "p2.age"
   ]
  }
 ],
 "metadata": {
  "kernelspec": {
   "display_name": ".venv",
   "language": "python",
   "name": "python3"
  },
  "language_info": {
   "codemirror_mode": {
    "name": "ipython",
    "version": 3
   },
   "file_extension": ".py",
   "mimetype": "text/x-python",
   "name": "python",
   "nbconvert_exporter": "python",
   "pygments_lexer": "ipython3",
   "version": "3.12.9"
  }
 },
 "nbformat": 4,
 "nbformat_minor": 2
}
