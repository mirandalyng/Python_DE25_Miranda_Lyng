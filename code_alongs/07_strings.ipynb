{
 "cells": [
  {
   "cell_type": "markdown",
   "metadata": {},
   "source": [
    "# Strings"
   ]
  },
  {
   "cell_type": "markdown",
   "metadata": {},
   "source": [
    "### Some notes from 2/10 "
   ]
  },
  {
   "cell_type": "markdown",
   "metadata": {},
   "source": [
    "#### Concatenate string \n",
    "\n",
    "- concatenate multiplie strings with the \"+\" operator \n",
    "- remenber \"+\" operator works different when it comes to int float etc. It depends on the varieble type. \n",
    "-\n",
    "\n"
   ]
  },
  {
   "cell_type": "code",
   "execution_count": 2,
   "metadata": {},
   "outputs": [
    {
     "data": {
      "text/plain": [
       "'miranda lyng'"
      ]
     },
     "execution_count": 2,
     "metadata": {},
     "output_type": "execute_result"
    }
   ],
   "source": [
    "firstname = \"miranda\" \n",
    "lastname = \"lyng\" \n",
    "\n",
    "full_name = firstname + \" \" + lastname #concatinating strings by using + \n",
    "\n",
    "full_name\n"
   ]
  },
  {
   "cell_type": "code",
   "execution_count": 5,
   "metadata": {},
   "outputs": [],
   "source": [
    "#multiline string \n",
    "\n",
    "work = \"AIengineer AB\"\n",
    "adress = \"Supah cool street\"\n",
    "phone = \"112\"\n",
    "\n",
    "contact_details = f\"\"\"\n",
    "name: {full_name}\n",
    "work: {work}\n",
    "adress: {adress}\n",
    "phone: {phone}\n",
    "\"\"\"\n"
   ]
  },
  {
   "cell_type": "code",
   "execution_count": 6,
   "metadata": {},
   "outputs": [
    {
     "data": {
      "text/plain": [
       "'\\nname: miranda lyng\\nwork: AIengineer AB\\nadress: Supah cool street\\nphone: 112\\n'"
      ]
     },
     "execution_count": 6,
     "metadata": {},
     "output_type": "execute_result"
    }
   ],
   "source": [
    "contact_details"
   ]
  },
  {
   "cell_type": "code",
   "execution_count": 7,
   "metadata": {},
   "outputs": [
    {
     "name": "stdout",
     "output_type": "stream",
     "text": [
      "\n",
      "name: miranda lyng\n",
      "work: AIengineer AB\n",
      "adress: Supah cool street\n",
      "phone: 112\n",
      "\n"
     ]
    }
   ],
   "source": [
    "print(contact_details)"
   ]
  },
  {
   "cell_type": "code",
   "execution_count": 11,
   "metadata": {},
   "outputs": [
    {
     "name": "stdout",
     "output_type": "stream",
     "text": [
      "Weekly menu\n",
      "monday    : chili\n",
      "tuesday   : noodles\n",
      "wendsday  : pokebowl\n",
      "thursday  : panncakes\n",
      "friday    : taco\n",
      "\n"
     ]
    }
   ],
   "source": [
    "meny = [\"chili\", \"noodles\", \"pokebowl\", \"panncakes\", \"taco\"]\n",
    "days = [\"monday\", \"tuesday\", \"wendsday\", \"thursday\", \"friday\"]\n",
    "weekly_menu = \"Weekly menu\\n\"\n",
    "#concatinate string by using loop \n",
    "\n",
    "for day, food in zip(days, meny): \n",
    "    weekly_menu += f\"{day:<10}: {food}\\n\"\n",
    "\n",
    "print(weekly_menu)\n"
   ]
  },
  {
   "cell_type": "code",
   "execution_count": 12,
   "metadata": {},
   "outputs": [
    {
     "data": {
      "text/plain": [
       "\"¡False - it's funny because it's True\""
      ]
     },
     "execution_count": 12,
     "metadata": {},
     "output_type": "execute_result"
    }
   ],
   "source": [
    "#Indexing \n",
    "\n",
    "quote = \"¡False - it's funny because it's True\"\n",
    "\n",
    "quote"
   ]
  },
  {
   "cell_type": "code",
   "execution_count": 13,
   "metadata": {},
   "outputs": [
    {
     "data": {
      "text/plain": [
       "'¡'"
      ]
     },
     "execution_count": 13,
     "metadata": {},
     "output_type": "execute_result"
    }
   ],
   "source": [
    "quote[0]"
   ]
  },
  {
   "cell_type": "code",
   "execution_count": 14,
   "metadata": {},
   "outputs": [
    {
     "data": {
      "text/plain": [
       "'e'"
      ]
     },
     "execution_count": 14,
     "metadata": {},
     "output_type": "execute_result"
    }
   ],
   "source": [
    "quote[-1]"
   ]
  },
  {
   "cell_type": "code",
   "execution_count": 15,
   "metadata": {},
   "outputs": [
    {
     "data": {
      "text/plain": [
       "'¡False'"
      ]
     },
     "execution_count": 15,
     "metadata": {},
     "output_type": "execute_result"
    }
   ],
   "source": [
    "quote[:6]"
   ]
  },
  {
   "cell_type": "code",
   "execution_count": 16,
   "metadata": {},
   "outputs": [
    {
     "data": {
      "text/plain": [
       "\"eurT s'ti esuaceb ynnuf s'ti - eslaF¡\""
      ]
     },
     "execution_count": 16,
     "metadata": {},
     "output_type": "execute_result"
    }
   ],
   "source": [
    "quote[::-1]"
   ]
  },
  {
   "cell_type": "code",
   "execution_count": 18,
   "metadata": {},
   "outputs": [
    {
     "data": {
      "text/plain": [
       "True"
      ]
     },
     "execution_count": 18,
     "metadata": {},
     "output_type": "execute_result"
    }
   ],
   "source": [
    "string_to_check = \"anna\"\n",
    "string_to_check[::-1] == string_to_check"
   ]
  },
  {
   "cell_type": "markdown",
   "metadata": {},
   "source": [
    "## splitting and cleaning a string"
   ]
  },
  {
   "cell_type": "code",
   "execution_count": 1,
   "metadata": {},
   "outputs": [
    {
     "data": {
      "text/plain": [
       "'Math, biology    ,     cHeMistry ,  PrOgramming      '"
      ]
     },
     "execution_count": 1,
     "metadata": {},
     "output_type": "execute_result"
    }
   ],
   "source": [
    "\n",
    "subjects = \"Math, biology    ,     cHeMistry ,  PrOgramming      \"\n",
    "\n",
    "subjects"
   ]
  },
  {
   "cell_type": "code",
   "execution_count": 2,
   "metadata": {},
   "outputs": [
    {
     "data": {
      "text/plain": [
       "['Math', ' biology    ', '     cHeMistry ', '  PrOgramming      ']"
      ]
     },
     "execution_count": 2,
     "metadata": {},
     "output_type": "execute_result"
    }
   ],
   "source": [
    "subjects = subjects.split(\",\")\n",
    "subjects\n",
    "\n",
    "#becomes a list where each of the comma seperates the items "
   ]
  },
  {
   "cell_type": "code",
   "execution_count": 8,
   "metadata": {},
   "outputs": [
    {
     "name": "stdout",
     "output_type": "stream",
     "text": [
      "math has 4 characters\n",
      "biology has 7 characters\n",
      "chemistry has 9 characters\n",
      "programming has 11 characters\n"
     ]
    }
   ],
   "source": [
    "subjects = [subject.strip().lower() for subject in subjects]\n",
    "\n",
    "#strip function cleans it and \n",
    "# lower converts to loweerCase \n",
    "#upper to capital \n",
    "\n",
    "for subject in subjects: \n",
    "    print(f\"{subject} has {len(subject)} characters\")"
   ]
  },
  {
   "cell_type": "markdown",
   "metadata": {},
   "source": [
    "### regex "
   ]
  },
  {
   "cell_type": "markdown",
   "metadata": {},
   "source": [
    "#regular expresstion \n",
    "way to pattern match (different types if stings )"
   ]
  },
  {
   "cell_type": "code",
   "execution_count": 9,
   "metadata": {},
   "outputs": [
    {
     "data": {
      "text/plain": [
       "['katt', 'hatt']"
      ]
     },
     "execution_count": 9,
     "metadata": {},
     "output_type": "execute_result"
    }
   ],
   "source": [
    "import re\n",
    "\n",
    "text = \"Det var en gång en katt som tog på sig en hatt.\"\n",
    "\n",
    "match_list = re.findall(r\".att\", text)\n",
    "match_list"
   ]
  },
  {
   "cell_type": "code",
   "execution_count": 18,
   "metadata": {},
   "outputs": [
    {
     "data": {
      "text/plain": [
       "['19950722-4444', '19581212-2434']"
      ]
     },
     "execution_count": 18,
     "metadata": {},
     "output_type": "execute_result"
    }
   ],
   "source": [
    "personal_number = \"Ida: 19950722-4444, Berit: 19581212-2434, Ada: 050545-1213\"\n",
    "\n",
    "match_long = re.findall(r\"\\d{8}-\\d{4}\", personal_number)\n",
    "\n",
    "match_long"
   ]
  },
  {
   "cell_type": "code",
   "execution_count": 19,
   "metadata": {},
   "outputs": [
    {
     "data": {
      "text/plain": [
       "['950722-4444', '581212-2434', '050545-1213']"
      ]
     },
     "execution_count": 19,
     "metadata": {},
     "output_type": "execute_result"
    }
   ],
   "source": [
    "match_short = re.findall(r\"\\d{6}-\\d{4}\", personal_number)\n",
    "\n",
    "match_short"
   ]
  }
 ],
 "metadata": {
  "kernelspec": {
   "display_name": ".venv",
   "language": "python",
   "name": "python3"
  },
  "language_info": {
   "codemirror_mode": {
    "name": "ipython",
    "version": 3
   },
   "file_extension": ".py",
   "mimetype": "text/x-python",
   "name": "python",
   "nbconvert_exporter": "python",
   "pygments_lexer": "ipython3",
   "version": "3.12.9"
  }
 },
 "nbformat": 4,
 "nbformat_minor": 2
}
