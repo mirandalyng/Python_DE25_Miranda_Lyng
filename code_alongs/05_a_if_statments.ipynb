{
 "cells": [
  {
   "cell_type": "markdown",
   "metadata": {},
   "source": [
    "# a) If statments "
   ]
  },
  {
   "cell_type": "code",
   "execution_count": 3,
   "metadata": {},
   "outputs": [
    {
     "name": "stdout",
     "output_type": "stream",
     "text": [
      "Sorry, you are too young to watch yhos scary movie. \n",
      " Watch this cartoon instead. \n"
     ]
    }
   ],
   "source": [
    "#If-else \n",
    "\n",
    "age = int(input(\"Enter your age: \"))\n",
    "age_limit = 15\n",
    "\n",
    "if(age < age_limit): \n",
    "    print(\"Sorry, you are too young to watch yhos scary movie. \\n Watch this cartoon instead. \")\n",
    "else: \n",
    "    print(\"Enjoy the movie!\")\n",
    "\n"
   ]
  },
  {
   "cell_type": "code",
   "execution_count": 6,
   "metadata": {},
   "outputs": [
    {
     "name": "stdout",
     "output_type": "stream",
     "text": [
      "You get to ride the rollercoaster\n"
     ]
    }
   ],
   "source": [
    "age = 15 \n",
    "height = 150 \n",
    "\n",
    "if age > 11 and 130 < height < 210: \n",
    "    print(\"You get to ride the rollercoaster\")\n",
    "else: \n",
    "    print(\"Come back when you fufill the requirements\")\n",
    "\n",
    "    "
   ]
  },
  {
   "cell_type": "code",
   "execution_count": 8,
   "metadata": {},
   "outputs": [
    {
     "name": "stdout",
     "output_type": "stream",
     "text": [
      "5 is a odd number\n"
     ]
    }
   ],
   "source": [
    "#Modulo operator \n",
    "\n",
    "number = 5 \n",
    "if number % 2 == 0:\n",
    "    print(f\"{number} is a even number\")\n",
    "else: \n",
    "    print(f\"{number} is a odd number\")"
   ]
  },
  {
   "cell_type": "code",
   "execution_count": null,
   "metadata": {},
   "outputs": [],
   "source": [
    "#if - elif - else \n",
    "\n",
    "weight = float(input(\"What is your weight? (kg) \"))\n",
    "\n",
    "if weight < 20:\n",
    "    print(\"Give the patient 500mg\")\n",
    "elif weight < 40: \n",
    "    print(\"Give patient 750mg\")\n",
    "    "
   ]
  }
 ],
 "metadata": {
  "kernelspec": {
   "display_name": ".venv",
   "language": "python",
   "name": "python3"
  },
  "language_info": {
   "codemirror_mode": {
    "name": "ipython",
    "version": 3
   },
   "file_extension": ".py",
   "mimetype": "text/x-python",
   "name": "python",
   "nbconvert_exporter": "python",
   "pygments_lexer": "ipython3",
   "version": "3.12.9"
  }
 },
 "nbformat": 4,
 "nbformat_minor": 2
}
