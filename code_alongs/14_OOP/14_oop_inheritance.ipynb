{
 "cells": [
  {
   "cell_type": "markdown",
   "metadata": {},
   "source": [
    "# 14 OOP Inheritance "
   ]
  },
  {
   "cell_type": "code",
   "execution_count": 1,
   "metadata": {},
   "outputs": [
    {
     "ename": "AttributeError",
     "evalue": "property 'age' of 'Person' object has no setter",
     "output_type": "error",
     "traceback": [
      "\u001b[31m---------------------------------------------------------------------------\u001b[39m",
      "\u001b[31mAttributeError\u001b[39m                            Traceback (most recent call last)",
      "\u001b[36mCell\u001b[39m\u001b[36m \u001b[39m\u001b[32mIn[1]\u001b[39m\u001b[32m, line 14\u001b[39m\n\u001b[32m     10\u001b[39m     \u001b[38;5;129m@property\u001b[39m\n\u001b[32m     11\u001b[39m     \u001b[38;5;28;01mdef\u001b[39;00m\u001b[38;5;250m \u001b[39m\u001b[34mage\u001b[39m(\u001b[38;5;28mself\u001b[39m) -> \u001b[38;5;28mint\u001b[39m: \n\u001b[32m     12\u001b[39m         \u001b[38;5;28;01mreturn\u001b[39;00m \u001b[38;5;28mself\u001b[39m._age \n\u001b[32m---> \u001b[39m\u001b[32m14\u001b[39m \u001b[43mPerson\u001b[49m\u001b[43m(\u001b[49m\u001b[33;43m\"\u001b[39;49m\u001b[33;43mBella\u001b[39;49m\u001b[33;43m\"\u001b[39;49m\u001b[43m,\u001b[49m\u001b[43m \u001b[49m\u001b[32;43m4\u001b[39;49m\u001b[43m)\u001b[49m\n",
      "\u001b[36mCell\u001b[39m\u001b[36m \u001b[39m\u001b[32mIn[1]\u001b[39m\u001b[32m, line 5\u001b[39m, in \u001b[36mPerson.__init__\u001b[39m\u001b[34m(self, name, age)\u001b[39m\n\u001b[32m      4\u001b[39m \u001b[38;5;28;01mdef\u001b[39;00m\u001b[38;5;250m \u001b[39m\u001b[34m__init__\u001b[39m(\u001b[38;5;28mself\u001b[39m, name: \u001b[38;5;28mstr\u001b[39m, age: \u001b[38;5;28mint\u001b[39m) -> \u001b[38;5;28;01mNone\u001b[39;00m: \n\u001b[32m----> \u001b[39m\u001b[32m5\u001b[39m     \u001b[38;5;28;43mself\u001b[39;49m\u001b[43m.\u001b[49m\u001b[43mage\u001b[49m = age\n\u001b[32m      6\u001b[39m     \u001b[38;5;28mself\u001b[39m.name = name\n",
      "\u001b[31mAttributeError\u001b[39m: property 'age' of 'Person' object has no setter"
     ]
    }
   ],
   "source": [
    "class Person: \n",
    "    \"\"\"Base class containing generic methods that are shared by all subclasses\"\"\"\n",
    "\n",
    "    def __init__(self, name: str, age: int) -> None: \n",
    "        self.age = age\n",
    "        self.name = name\n",
    "\n",
    "    \n",
    "    #property \n",
    "    @property\n",
    "    def age(self) -> int: \n",
    "        return self._age \n",
    "\n",
    "    \n",
    "# we get an error because we don't have a age setter \n",
    "    \n",
    "Person(\"Bella\", 4)"
   ]
  },
  {
   "cell_type": "code",
   "execution_count": 16,
   "metadata": {},
   "outputs": [
    {
     "name": "stdout",
     "output_type": "stream",
     "text": [
      "Person Greta says hi\n"
     ]
    }
   ],
   "source": [
    "import re \n",
    "from oldcoins import OldCoinStash\n",
    "class Person: \n",
    "    \"\"\"Base class containing generic methods that are shared by all subclasses\"\"\"\n",
    "\n",
    "    def __init__(self, name: str, age: int) -> None: \n",
    "        self.age = age\n",
    "        self.name = name\n",
    "\n",
    "    \n",
    "    #property \n",
    "    @property\n",
    "    def age(self) -> int: \n",
    "        return self._age \n",
    "    \n",
    "    @age.setter\n",
    "    def age(self, value: int) -> None:\n",
    "        \n",
    "        if not isinstance(value, int): \n",
    "            raise TypeError(f\"Age must be int, not {type(value)}\")\n",
    "        \n",
    "        if not 0 < value < 125: \n",
    "            raise ValueError(\"Age not valid\")\n",
    "        \n",
    "        self._age = value\n",
    "\n",
    "    \n",
    "    @property\n",
    "    def name(self) -> str: \n",
    "        return self._name\n",
    "    \n",
    "    @name.setter\n",
    "    def name(self, value:str) -> None: \n",
    "        if re.search(r\"^[A-ö]+(\\s[A-ö]+)?$\", value.strip()) is None: \n",
    "            raise ValueError(f\"The value {value} is not a valid name\")\n",
    "        \n",
    "        self._name = value\n",
    "    \n",
    "    def say_hi(self) -> None: \n",
    "        print(f\"Person {self.name} says hi\")\n",
    "    \n",
    "\n",
    "\n",
    "#inherit person\n",
    "class Student(Person):\n",
    "    \"\"\"A student is a person that knows a language\"\"\"\n",
    "\n",
    "    def __init__(self, name:str, age:int, language:str) -> None: \n",
    "        #using super() calling parent class (Person) and then it takes in name and age\n",
    "        super().__init__(name, age)\n",
    "        self.language = language\n",
    "    \n",
    "    #Overrides say_hi() from the parent\n",
    "    def say_hi(self): \n",
    "        print(f\"Student {self.name} is {self.age} years old and knows {self.language}\")\n",
    "# we get an error because we don't have a age setter \n",
    "\n",
    "class Viking(Person): \n",
    "    \"\"\"A Viking has an OldCoinStash but is a Person\"\"\"\n",
    "\n",
    "    def __init__(self, name:str, age:int) -> None: \n",
    "        super().__init__(name,age)\n",
    "        self.stash = OldCoinStash(name)\n",
    "\n",
    "    \n",
    "p1 = Person(\"Greta\", 20)\n",
    "p1.say_hi()"
   ]
  },
  {
   "cell_type": "code",
   "execution_count": 17,
   "metadata": {},
   "outputs": [
    {
     "name": "stdout",
     "output_type": "stream",
     "text": [
      "Person Ragnar says hi\n"
     ]
    }
   ],
   "source": [
    "v1 = Viking(\"Ragnar\", 54)\n",
    "\n",
    "v1.say_hi()\n"
   ]
  },
  {
   "cell_type": "code",
   "execution_count": 18,
   "metadata": {},
   "outputs": [
    {
     "data": {
      "text/plain": [
       "{'_age': 54, '_name': 'Ragnar', 'stash': OldCoinStash(owner = 'Ragnar)}"
      ]
     },
     "execution_count": 18,
     "metadata": {},
     "output_type": "execute_result"
    }
   ],
   "source": [
    "v1.__dict__"
   ]
  },
  {
   "cell_type": "code",
   "execution_count": 14,
   "metadata": {},
   "outputs": [
    {
     "name": "stdout",
     "output_type": "stream",
     "text": [
      "Student Örjan is 25 years old and knows Python\n"
     ]
    }
   ],
   "source": [
    "s1 = Student(\"Örjan\", 25, \"Python\")\n",
    "s1.say_hi()"
   ]
  }
 ],
 "metadata": {
  "kernelspec": {
   "display_name": ".venv",
   "language": "python",
   "name": "python3"
  },
  "language_info": {
   "codemirror_mode": {
    "name": "ipython",
    "version": 3
   },
   "file_extension": ".py",
   "mimetype": "text/x-python",
   "name": "python",
   "nbconvert_exporter": "python",
   "pygments_lexer": "ipython3",
   "version": "3.12.9"
  }
 },
 "nbformat": 4,
 "nbformat_minor": 2
}
