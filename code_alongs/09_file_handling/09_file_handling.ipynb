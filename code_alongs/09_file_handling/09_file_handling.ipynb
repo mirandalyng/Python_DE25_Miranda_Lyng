{
 "cells": [
  {
   "cell_type": "markdown",
   "metadata": {},
   "source": [
    "# File Handling "
   ]
  },
  {
   "cell_type": "markdown",
   "metadata": {},
   "source": [
    "## Lecture 2/10"
   ]
  },
  {
   "cell_type": "markdown",
   "metadata": {},
   "source": [
    "- reading text-files  (.txt)\n",
    "\n",
    "- we nede to \n",
    "        \n",
    "        read the file\n",
    "        clean contents\n",
    "        write the clean content to a new file (txt)\n",
    "\n",
    "- String contents is the first data to learn \n",
    "\n"
   ]
  },
  {
   "cell_type": "markdown",
   "metadata": {},
   "source": [
    "### Read file "
   ]
  },
  {
   "cell_type": "markdown",
   "metadata": {},
   "source": [
    "#### Open the file directly"
   ]
  },
  {
   "cell_type": "code",
   "execution_count": 4,
   "metadata": {},
   "outputs": [
    {
     "name": "stdout",
     "output_type": "stream",
     "text": [
      "<_io.TextIOWrapper name='test.txt' mode='r' encoding='UTF-8'>\n",
      "juhighsihsg\n",
      "ihdshgiodshgodsah\n",
      "jksjfalfjaf\n",
      "\n",
      "\n"
     ]
    }
   ],
   "source": [
    "# OPEN test.txt and see the content \n",
    "\n",
    "#build in function open ()\n",
    "#the first argument is a path \"file_name\" and second argument \n",
    "#second argument is the mode of opening (r is reading), (w is writing)\n",
    "\n",
    "f = open(\"test.txt\", \"r\") \n",
    "\n",
    "#it is just a open file but it's not reading the file \n",
    "print(f)\n",
    "\n",
    "#To read the file use read() method \n",
    "#save the contents of the file in a varieble \n",
    "text = f.read()\n",
    "\n",
    "print(text)\n",
    "\n",
    "#if you have used open - close the file \n",
    "f.close()"
   ]
  },
  {
   "cell_type": "markdown",
   "metadata": {},
   "source": [
    "#### Open the file with `with`statment"
   ]
  },
  {
   "cell_type": "code",
   "execution_count": 6,
   "metadata": {},
   "outputs": [
    {
     "name": "stdout",
     "output_type": "stream",
     "text": [
      "juhighsihsg\n",
      "ihdshgiodshgodsah\n",
      "jksjfalfjaf\n",
      "\n",
      "\n"
     ]
    }
   ],
   "source": [
    "#with the with statment does the actions in the with block and closes automatically \n",
    "\n",
    "with open(\"test.txt\",\"r\") as f: \n",
    "    text = f.read()\n",
    "    #will close the file automatically \n",
    "\n",
    "print(text)\n"
   ]
  }
 ],
 "metadata": {
  "kernelspec": {
   "display_name": ".venv",
   "language": "python",
   "name": "python3"
  },
  "language_info": {
   "codemirror_mode": {
    "name": "ipython",
    "version": 3
   },
   "file_extension": ".py",
   "mimetype": "text/x-python",
   "name": "python",
   "nbconvert_exporter": "python",
   "pygments_lexer": "ipython3",
   "version": "3.12.9"
  }
 },
 "nbformat": 4,
 "nbformat_minor": 2
}
