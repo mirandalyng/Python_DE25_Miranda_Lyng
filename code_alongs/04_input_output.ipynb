{
 "cells": [
  {
   "cell_type": "markdown",
   "metadata": {},
   "source": [
    "# Input and Output"
   ]
  },
  {
   "cell_type": "code",
   "execution_count": 1,
   "metadata": {},
   "outputs": [
    {
     "name": "stdout",
     "output_type": "stream",
     "text": [
      "Hello world!\n",
      "My name is Miranda\n"
     ]
    }
   ],
   "source": [
    "#Print statment \n",
    "\n",
    "print(\"Hello world!\")\n",
    "print(\"My name is Miranda\")"
   ]
  },
  {
   "cell_type": "code",
   "execution_count": 4,
   "metadata": {},
   "outputs": [
    {
     "name": "stdout",
     "output_type": "stream",
     "text": [
      "My name is Miranda Lyng\n",
      "My age is 30\n"
     ]
    }
   ],
   "source": [
    "#Variables \n",
    "\n",
    "firstname = \"Miranda\"\n",
    "lastname = \"Lyng\"\n",
    "age = 30\n",
    "\n",
    "print(f\"My name is {firstname} {lastname}\")\n",
    "print(f\"My age is {age}\")\n",
    "\n",
    "    "
   ]
  },
  {
   "cell_type": "code",
   "execution_count": 6,
   "metadata": {},
   "outputs": [
    {
     "name": "stdout",
     "output_type": "stream",
     "text": [
      "My name is Miranda and I am 30 years old. \n"
     ]
    }
   ],
   "source": [
    "#Input from user \n",
    "\n",
    "name = input(\"What is your name?\")\n",
    "age = input(f\"How old are you {name} ?\")\n",
    "print(f\"My name is {name} and I am {age} years old. \")"
   ]
  },
  {
   "cell_type": "code",
   "execution_count": 8,
   "metadata": {},
   "outputs": [
    {
     "name": "stdout",
     "output_type": "stream",
     "text": [
      "Your force is 638.3000000000001N\n",
      "Your force is 638.3N\n"
     ]
    }
   ],
   "source": [
    "#Type coercions\n",
    "\n",
    "#FORCE\n",
    "\n",
    "gravity = 9.82\n",
    "\n",
    "#Converts the string from input to float()\n",
    "mass = float(input(\"Enter your weight in kg? \"))\n",
    "force= mass*gravity\n",
    "\n",
    "print(f\"Your force is {force}N\")\n",
    "\n",
    "#formats the decimal to 1 \n",
    "print(f\"Your force is {force:.1f}N\")\n"
   ]
  },
  {
   "cell_type": "code",
   "execution_count": 10,
   "metadata": {},
   "outputs": [
    {
     "name": "stdout",
     "output_type": "stream",
     "text": [
      "Circle with radius 8.0 has \n",
      " area: 201.06 a.u. \n",
      " circuference: 50.27 l.u.\n"
     ]
    }
   ],
   "source": [
    "#CIRCLE GEOMETRY \n",
    "\n",
    "import math #imports the math module for functions in mathematics \n",
    "\n",
    "radius = float(input(\"Entera a  radius\"))\n",
    "area = math.pi * radius**2 #is the power operator \n",
    "circumference = 2 * math.pi * radius\n",
    "\n",
    "print(f\"Circle with radius {radius} has \\n area: {area:.2f} a.u. \\n circuference: {circumference:.2f} l.u.\")\n"
   ]
  },
  {
   "cell_type": "code",
   "execution_count": 1,
   "metadata": {},
   "outputs": [
    {
     "name": "stdout",
     "output_type": "stream",
     "text": [
      "radius = 7\n",
      "geometry = 'circle'\n",
      "is_unit_circle = False\n",
      "screen_inches = 6.4\n"
     ]
    },
    {
     "data": {
      "text/plain": [
       "(int, str, bool, float)"
      ]
     },
     "execution_count": 1,
     "metadata": {},
     "output_type": "execute_result"
    }
   ],
   "source": [
    "#More on data types \n",
    "\n",
    "#Overwrites the previous value of radius \n",
    "radius = 7 \n",
    "geometry = \"circle\"\n",
    "is_unit_circle = False \n",
    "screen_inches = 6.4 \n",
    "\n",
    "#Self-documenting expression with = operator in f-string \n",
    "print(f\"{radius = }\")\n",
    "print(f\"{geometry = }\")\n",
    "print(f\"{is_unit_circle = }\")\n",
    "print(f\"{screen_inches = }\")\n",
    "\n",
    "#last expression is written out in jupyter notebook \n",
    "type(radius), type(geometry), type(is_unit_circle), type(screen_inches)\n"
   ]
  }
 ],
 "metadata": {
  "kernelspec": {
   "display_name": ".venv",
   "language": "python",
   "name": "python3"
  },
  "language_info": {
   "codemirror_mode": {
    "name": "ipython",
    "version": 3
   },
   "file_extension": ".py",
   "mimetype": "text/x-python",
   "name": "python",
   "nbconvert_exporter": "python",
   "pygments_lexer": "ipython3",
   "version": "3.12.9"
  }
 },
 "nbformat": 4,
 "nbformat_minor": 2
}
