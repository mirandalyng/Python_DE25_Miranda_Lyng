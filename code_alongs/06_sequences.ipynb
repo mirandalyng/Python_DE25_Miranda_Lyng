{
 "cells": [
  {
   "cell_type": "markdown",
   "metadata": {},
   "source": [
    "# Sequences "
   ]
  },
  {
   "cell_type": "markdown",
   "metadata": {},
   "source": [
    "## From Debbies class 30/9 "
   ]
  },
  {
   "cell_type": "markdown",
   "metadata": {},
   "source": [
    "### Scenario 1"
   ]
  },
  {
   "cell_type": "markdown",
   "metadata": {},
   "source": [
    "- dont need to import any extra packages\n",
    "- example: create for loop, if statment, while etc."
   ]
  },
  {
   "cell_type": "markdown",
   "metadata": {},
   "source": [
    "### Scenario 2"
   ]
  },
  {
   "cell_type": "markdown",
   "metadata": {},
   "source": [
    "- need to import an extra package \n",
    "- example: we want to use functions from other existing packages so we don't have to create our own code from skratch. "
   ]
  },
  {
   "cell_type": "markdown",
   "metadata": {},
   "source": [
    "### Scenario 3 "
   ]
  },
  {
   "cell_type": "markdown",
   "metadata": {},
   "source": [
    "- need to import an extra package (that's not included in python installation)\n",
    "- Example: pandas \n",
    "- one extra step: uv pip install into your uv venv first before import "
   ]
  },
  {
   "cell_type": "markdown",
   "metadata": {},
   "source": [
    "### Random module "
   ]
  },
  {
   "cell_type": "code",
   "execution_count": 4,
   "metadata": {},
   "outputs": [
    {
     "data": {
      "text/plain": [
       "6"
      ]
     },
     "execution_count": 4,
     "metadata": {},
     "output_type": "execute_result"
    }
   ],
   "source": [
    "#Random module \n",
    "import random as rnd \n",
    "\n",
    "#generate a dice result from one throw \n",
    "dice_result = rnd.randint(1,6) #example in a dice (1-6)\n",
    "dice_result"
   ]
  },
  {
   "cell_type": "markdown",
   "metadata": {},
   "source": [
    "### Loop through list "
   ]
  },
  {
   "cell_type": "markdown",
   "metadata": {},
   "source": [
    "list is a collections of items/values/data in one object "
   ]
  },
  {
   "cell_type": "code",
   "execution_count": 26,
   "metadata": {},
   "outputs": [
    {
     "name": "stdout",
     "output_type": "stream",
     "text": [
      "My favorite fruits are:\n",
      "1. banana\n",
      "2. apple\n",
      "3. orange\n",
      "4. grape\n"
     ]
    }
   ],
   "source": [
    "fruits = [\"banana\", \"apple\", \"orange\", \"grape\"]\n",
    "i = 0 \n",
    "print(\"My favorite fruits are:\")\n",
    "\n",
    "for fruit in fruits: #fruits refer to a specific list \n",
    "    i += 1\n",
    "    print(f\"{i}. {fruit}\")"
   ]
  },
  {
   "cell_type": "markdown",
   "metadata": {},
   "source": [
    "## A ) Lists"
   ]
  },
  {
   "cell_type": "markdown",
   "metadata": {},
   "source": [
    "In other languages it's array "
   ]
  },
  {
   "cell_type": "code",
   "execution_count": 41,
   "metadata": {},
   "outputs": [],
   "source": [
    "tv_shows = [\"Antique show\",\"Master chef\", \"News\", \"Talent\"]\n",
    "\n",
    "tv_shows[0]\n",
    "\n",
    "tv_shows.append(\"lost\")"
   ]
  },
  {
   "cell_type": "code",
   "execution_count": 42,
   "metadata": {},
   "outputs": [
    {
     "data": {
      "text/plain": [
       "'w'"
      ]
     },
     "execution_count": 42,
     "metadata": {},
     "output_type": "execute_result"
    }
   ],
   "source": [
    "tv_shows[0][-1]\n",
    "#takes the last character in the first thing in the array "
   ]
  },
  {
   "cell_type": "code",
   "execution_count": 43,
   "metadata": {},
   "outputs": [
    {
     "data": {
      "text/plain": [
       "['Master chef', 'News']"
      ]
     },
     "execution_count": 43,
     "metadata": {},
     "output_type": "execute_result"
    }
   ],
   "source": [
    "tv_shows[1:3]\n",
    "#starts at 1 i the array /list \n",
    "#slices the 3 (last one in the list)"
   ]
  },
  {
   "cell_type": "code",
   "execution_count": 44,
   "metadata": {},
   "outputs": [
    {
     "data": {
      "text/plain": [
       "'lost'"
      ]
     },
     "execution_count": 44,
     "metadata": {},
     "output_type": "execute_result"
    }
   ],
   "source": [
    "tv_shows[-1]\n",
    "#Last one in the list "
   ]
  },
  {
   "cell_type": "markdown",
   "metadata": {},
   "source": [
    "# iterate through list with for"
   ]
  },
  {
   "cell_type": "code",
   "execution_count": 10,
   "metadata": {},
   "outputs": [
    {
     "name": "stdout",
     "output_type": "stream",
     "text": [
      "Antique show\n",
      "Master chef\n",
      "News\n",
      "Talent\n"
     ]
    }
   ],
   "source": [
    "for tv_show in tv_shows:\n",
    "    print(tv_show)"
   ]
  },
  {
   "cell_type": "code",
   "execution_count": 11,
   "metadata": {},
   "outputs": [
    {
     "name": "stdout",
     "output_type": "stream",
     "text": [
      "1 Antique show\n",
      "2 Master chef\n",
      "3 News\n",
      "4 Talent\n"
     ]
    }
   ],
   "source": [
    "for i, tv_show in  enumerate(tv_shows,1): \n",
    "    print(i, tv_show)\n",
    "#numerates each tv-show (starts at 1)"
   ]
  },
  {
   "cell_type": "code",
   "execution_count": 16,
   "metadata": {},
   "outputs": [
    {
     "data": {
      "text/plain": [
       "['Antique show', 'Master chef', 'News', 'Yu gi oh']"
      ]
     },
     "execution_count": 16,
     "metadata": {},
     "output_type": "execute_result"
    }
   ],
   "source": [
    "tv_shows[-1] = \"Yu gi oh\"\n",
    "tv_shows\n",
    "\n",
    "#changes the value of the last item in the list"
   ]
  },
  {
   "cell_type": "code",
   "execution_count": 17,
   "metadata": {},
   "outputs": [
    {
     "data": {
      "text/plain": [
       "['Antique show', 'Master chef', 'News', 'Yu gi oh']"
      ]
     },
     "execution_count": 17,
     "metadata": {},
     "output_type": "execute_result"
    }
   ],
   "source": [
    "#sort the list by sort() \n",
    "\n",
    "tv_shows.sort()\n",
    "tv_shows"
   ]
  },
  {
   "cell_type": "markdown",
   "metadata": {},
   "source": [
    "## List comprehension"
   ]
  },
  {
   "cell_type": "code",
   "execution_count": 45,
   "metadata": {},
   "outputs": [
    {
     "data": {
      "text/plain": [
       "[0, 1, 8, 27, 64, 125, 216, 343, 512, 729]"
      ]
     },
     "execution_count": 45,
     "metadata": {},
     "output_type": "execute_result"
    }
   ],
   "source": [
    "#the value for each item in the list cubes is actually a calculation from items in the existing iterable (i.e. range)\n",
    "cubes = [x**3 for x in range(10)]\n",
    "cubes"
   ]
  },
  {
   "cell_type": "code",
   "execution_count": 19,
   "metadata": {},
   "outputs": [
    {
     "data": {
      "text/plain": [
       "[36, 49, 64, 81]"
      ]
     },
     "execution_count": 19,
     "metadata": {},
     "output_type": "execute_result"
    }
   ],
   "source": [
    "[x**2 for x in range(10) if x**2 > 25]"
   ]
  },
  {
   "cell_type": "markdown",
   "metadata": {},
   "source": [
    "## Plot graph"
   ]
  },
  {
   "cell_type": "code",
   "execution_count": 1,
   "metadata": {},
   "outputs": [
    {
     "name": "stderr",
     "output_type": "stream",
     "text": [
      "Matplotlib is building the font cache; this may take a moment.\n"
     ]
    },
    {
     "data": {
      "image/png": "[encoded data removed]",
      "text/plain": [
       "<Figure size 640x480 with 1 Axes>"
      ]
     },
     "metadata": {},
     "output_type": "display_data"
    }
   ],
   "source": [
    "#be om hjälp med matplotlib \n",
    "import matplotlib.pyplot as plt\n",
    "plt.plot([1,2,3],[4,5,6])\n",
    "plt.show()\n",
    "\n"
   ]
  },
  {
   "cell_type": "code",
   "execution_count": null,
   "metadata": {},
   "outputs": [],
   "source": [
    "k = 2 \n",
    "m = 2 \n",
    "y = [k*x * m for x in x]\n",
    "y"
   ]
  },
  {
   "cell_type": "markdown",
   "metadata": {},
   "source": []
  },
  {
   "cell_type": "markdown",
   "metadata": {},
   "source": [
    "## B) Tuples"
   ]
  },
  {
   "cell_type": "markdown",
   "metadata": {},
   "source": [
    "muteble sequences wich eans you can't change it (the items) or assign a new value to the item.\n",
    "\n",
    "Exeption = we can changes an element inside an muteble element. "
   ]
  },
  {
   "cell_type": "code",
   "execution_count": 42,
   "metadata": {},
   "outputs": [
    {
     "data": {
      "text/plain": [
       "['banana', 12, 3.14, True]"
      ]
     },
     "execution_count": 42,
     "metadata": {},
     "output_type": "execute_result"
    }
   ],
   "source": [
    "mixed_tuple = [\"banana\", 12, 3.14, True]\n",
    "mixed_tuple"
   ]
  },
  {
   "cell_type": "code",
   "execution_count": 43,
   "metadata": {},
   "outputs": [
    {
     "data": {
      "text/plain": [
       "12"
      ]
     },
     "execution_count": 43,
     "metadata": {},
     "output_type": "execute_result"
    }
   ],
   "source": [
    "mixed_tuple[1]"
   ]
  },
  {
   "cell_type": "code",
   "execution_count": 44,
   "metadata": {},
   "outputs": [
    {
     "data": {
      "text/plain": [
       "['banana', 12, 3.14]"
      ]
     },
     "execution_count": 44,
     "metadata": {},
     "output_type": "execute_result"
    }
   ],
   "source": [
    "mixed_tuple[:3]"
   ]
  },
  {
   "cell_type": "code",
   "execution_count": 52,
   "metadata": {},
   "outputs": [
    {
     "data": {
      "text/plain": [
       "([1, 2], [2, 5])"
      ]
     },
     "execution_count": 52,
     "metadata": {},
     "output_type": "execute_result"
    }
   ],
   "source": [
    "coordinates = ([1,2], [2,5])\n",
    "coordinates"
   ]
  },
  {
   "cell_type": "code",
   "execution_count": 58,
   "metadata": {},
   "outputs": [
    {
     "data": {
      "text/plain": [
       "([50, 2], [2, 5])"
      ]
     },
     "execution_count": 58,
     "metadata": {},
     "output_type": "execute_result"
    }
   ],
   "source": [
    "coordinates[0][0] = 50\n",
    "coordinates"
   ]
  },
  {
   "cell_type": "markdown",
   "metadata": {},
   "source": [
    "## Tuple unpacking "
   ]
  },
  {
   "cell_type": "code",
   "execution_count": 63,
   "metadata": {},
   "outputs": [
    {
     "data": {
      "text/plain": [
       "1"
      ]
     },
     "execution_count": 63,
     "metadata": {},
     "output_type": "execute_result"
    }
   ],
   "source": [
    "x,y,z = (1,2,3)\n",
    "x"
   ]
  },
  {
   "cell_type": "code",
   "execution_count": 70,
   "metadata": {},
   "outputs": [
    {
     "name": "stdout",
     "output_type": "stream",
     "text": [
      "x = 2, y =1\n"
     ]
    }
   ],
   "source": [
    "x,y = y,x\n",
    "print(f\"{x = }, {y =}\")"
   ]
  },
  {
   "cell_type": "markdown",
   "metadata": {},
   "source": [
    "## C) Sets"
   ]
  },
  {
   "cell_type": "markdown",
   "metadata": {},
   "source": [
    "In sets you have unique values \n",
    "set operations in python you can use in python "
   ]
  },
  {
   "cell_type": "code",
   "execution_count": 75,
   "metadata": {},
   "outputs": [
    {
     "data": {
      "text/plain": [
       "['mirandalyng@gmail.com',\n",
       " 'mirandalyng@gmail.com',\n",
       " 'kajsa@hotmail.com',\n",
       " 'olivia@live.se',\n",
       " 'maxE@telia.com']"
      ]
     },
     "execution_count": 75,
     "metadata": {},
     "output_type": "execute_result"
    }
   ],
   "source": [
    "emails = [\"mirandalyng@gmail.com\",\"mirandalyng@gmail.com\",\"kajsa@hotmail.com\", \"olivia@live.se\", \"maxE@telia.com\"]\n",
    "\n",
    "emails"
   ]
  },
  {
   "cell_type": "code",
   "execution_count": 76,
   "metadata": {},
   "outputs": [
    {
     "data": {
      "text/plain": [
       "{'kajsa@hotmail.com',\n",
       " 'maxE@telia.com',\n",
       " 'mirandalyng@gmail.com',\n",
       " 'olivia@live.se'}"
      ]
     },
     "execution_count": 76,
     "metadata": {},
     "output_type": "execute_result"
    }
   ],
   "source": [
    "set(emails)\n",
    "\n",
    "#Unique (double gets deleted)"
   ]
  },
  {
   "cell_type": "code",
   "execution_count": 77,
   "metadata": {},
   "outputs": [
    {
     "data": {
      "text/plain": [
       "['olivia@live.se',\n",
       " 'mirandalyng@gmail.com',\n",
       " 'kajsa@hotmail.com',\n",
       " 'maxE@telia.com']"
      ]
     },
     "execution_count": 77,
     "metadata": {},
     "output_type": "execute_result"
    }
   ],
   "source": [
    "list(set(emails))\n",
    "#back to list "
   ]
  },
  {
   "cell_type": "markdown",
   "metadata": {},
   "source": [
    "## mathimatical set operation "
   ]
  },
  {
   "cell_type": "markdown",
   "metadata": {},
   "source": [
    "-union \n",
    "-intersection \n",
    "-except \n",
    "\n",
    "<img src = \"https://github.com/kokchun/assets/blob/main/python/intersect.png?raw=true width =200>\n",
    "\n",
    "set A and B (intersection) common in both A and B and return that"
   ]
  },
  {
   "cell_type": "markdown",
   "metadata": {},
   "source": [
    "## Intersection"
   ]
  },
  {
   "cell_type": "code",
   "execution_count": 80,
   "metadata": {},
   "outputs": [
    {
     "data": {
      "text/plain": [
       "{'carla', 'daniel'}"
      ]
     },
     "execution_count": 80,
     "metadata": {},
     "output_type": "execute_result"
    }
   ],
   "source": [
    "first_month_customers = {\"alice\", \"bob\", \"carla\", \"daniel\"}\n",
    "second_month_cutomers = {\"carla\", \"daniel\", \"elena\"}\n",
    "\n",
    "#wich are the returning customers? \n",
    "#carla and daniel is 1 and 2nd month\n",
    "\n",
    "returning_customers = first_month_customers.intersection(second_month_cutomers)\n",
    "returning_customers\n"
   ]
  },
  {
   "cell_type": "markdown",
   "metadata": {},
   "source": [
    "## Union "
   ]
  },
  {
   "cell_type": "markdown",
   "metadata": {},
   "source": [
    "2 sets and returns the Combination from A and B "
   ]
  },
  {
   "cell_type": "code",
   "execution_count": 82,
   "metadata": {},
   "outputs": [
    {
     "data": {
      "text/plain": [
       "{'alice', 'bob', 'carla', 'daniel', 'elena'}"
      ]
     },
     "execution_count": 82,
     "metadata": {},
     "output_type": "execute_result"
    }
   ],
   "source": [
    "all_customers = first_month_customers.union(second_month_cutomers)\n",
    "all_customers\n",
    "#sets removes all the duplicates "
   ]
  },
  {
   "cell_type": "code",
   "execution_count": 83,
   "metadata": {},
   "outputs": [],
   "source": [
    "#A and B seperate \n"
   ]
  },
  {
   "cell_type": "code",
   "execution_count": 85,
   "metadata": {},
   "outputs": [
    {
     "data": {
      "text/plain": [
       "{'alice', 'bob', 'elena'}"
      ]
     },
     "execution_count": 85,
     "metadata": {},
     "output_type": "execute_result"
    }
   ],
   "source": [
    "#combine union and exept intersection \n",
    "\n",
    "one_time_customer = first_month_customers.union(second_month_cutomers) - first_month_customers.intersection(second_month_cutomers)\n",
    "\n",
    "one_time_customer"
   ]
  },
  {
   "cell_type": "markdown",
   "metadata": {},
   "source": [
    "sets have no orders"
   ]
  },
  {
   "cell_type": "markdown",
   "metadata": {},
   "source": [
    "convert to list and tuple "
   ]
  },
  {
   "cell_type": "code",
   "execution_count": 86,
   "metadata": {},
   "outputs": [
    {
     "data": {
      "text/plain": [
       "['bob', 'alice', 'carla', 'daniel', 'elena']"
      ]
     },
     "execution_count": 86,
     "metadata": {},
     "output_type": "execute_result"
    }
   ],
   "source": [
    "list(all_customers)"
   ]
  },
  {
   "cell_type": "code",
   "execution_count": 87,
   "metadata": {},
   "outputs": [
    {
     "data": {
      "text/plain": [
       "('bob', 'alice', 'carla', 'daniel', 'elena')"
      ]
     },
     "execution_count": 87,
     "metadata": {},
     "output_type": "execute_result"
    }
   ],
   "source": [
    "tuple(all_customers)"
   ]
  }
 ],
 "metadata": {
  "kernelspec": {
   "display_name": ".venv",
   "language": "python",
   "name": "python3"
  },
  "language_info": {
   "codemirror_mode": {
    "name": "ipython",
    "version": 3
   },
   "file_extension": ".py",
   "mimetype": "text/x-python",
   "name": "python",
   "nbconvert_exporter": "python",
   "pygments_lexer": "ipython3",
   "version": "3.12.9"
  }
 },
 "nbformat": 4,
 "nbformat_minor": 2
}
