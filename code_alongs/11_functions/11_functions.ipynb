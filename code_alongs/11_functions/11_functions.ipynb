{
 "cells": [
  {
   "cell_type": "markdown",
   "metadata": {},
   "source": [
    "## 11 Functions\n"
   ]
  },
  {
   "cell_type": "code",
   "execution_count": 4,
   "metadata": {},
   "outputs": [
    {
     "data": {
      "text/plain": [
       "25"
      ]
     },
     "execution_count": 4,
     "metadata": {},
     "output_type": "execute_result"
    }
   ],
   "source": [
    "def squarer(x):\n",
    "    return x**2\n",
    "\n",
    "\n",
    "squarer(5)"
   ]
  },
  {
   "cell_type": "code",
   "execution_count": 3,
   "metadata": {},
   "outputs": [
    {
     "data": {
      "text/plain": [
       "9"
      ]
     },
     "execution_count": 3,
     "metadata": {},
     "output_type": "execute_result"
    }
   ],
   "source": [
    "squarer(3)"
   ]
  },
  {
   "cell_type": "code",
   "execution_count": 5,
   "metadata": {},
   "outputs": [
    {
     "data": {
      "text/plain": [
       "[0, 1, 4, 9, 16, 25, 36, 49, 64, 81]"
      ]
     },
     "execution_count": 5,
     "metadata": {},
     "output_type": "execute_result"
    }
   ],
   "source": [
    "[squarer(x) for x in range(10)]"
   ]
  },
  {
   "cell_type": "code",
   "execution_count": 7,
   "metadata": {},
   "outputs": [
    {
     "name": "stdout",
     "output_type": "stream",
     "text": [
      "hello\n"
     ]
    }
   ],
   "source": [
    "# void funciton\n",
    "\n",
    "def say_hello():\n",
    "    print(\"hello\")\n",
    "\n",
    "\n",
    "# need to calal the funciton\n",
    "\n",
    "say_hello()"
   ]
  },
  {
   "cell_type": "markdown",
   "metadata": {},
   "source": [
    "default value\n"
   ]
  },
  {
   "cell_type": "code",
   "execution_count": 8,
   "metadata": {},
   "outputs": [
    {
     "name": "stdout",
     "output_type": "stream",
     "text": [
      "hi friend\n"
     ]
    }
   ],
   "source": [
    "# void funciton\n",
    "\n",
    "def say_hello(name=\"friend\"):\n",
    "    print(f\"hi {name}\")\n",
    "\n",
    "\n",
    "# need to calal the funciton\n",
    "\n",
    "say_hello()"
   ]
  },
  {
   "cell_type": "code",
   "execution_count": 9,
   "metadata": {},
   "outputs": [
    {
     "name": "stdout",
     "output_type": "stream",
     "text": [
      "hi Bella\n"
     ]
    }
   ],
   "source": [
    "say_hello(\"Bella\")"
   ]
  },
  {
   "cell_type": "code",
   "execution_count": 11,
   "metadata": {},
   "outputs": [
    {
     "data": {
      "text/plain": [
       "2"
      ]
     },
     "execution_count": 11,
     "metadata": {},
     "output_type": "execute_result"
    }
   ],
   "source": [
    "def smallest(number_one, number_two):\n",
    "    if number_one > number_two:\n",
    "        return number_two\n",
    "\n",
    "    return number_one\n",
    "\n",
    "\n",
    "smallest(10, 2)"
   ]
  },
  {
   "cell_type": "code",
   "execution_count": 12,
   "metadata": {},
   "outputs": [
    {
     "data": {
      "text/plain": [
       "-5"
      ]
     },
     "execution_count": 12,
     "metadata": {},
     "output_type": "execute_result"
    }
   ],
   "source": [
    "smallest(-5, 10)"
   ]
  },
  {
   "cell_type": "markdown",
   "metadata": {},
   "source": [
    "keyword argument\n"
   ]
  },
  {
   "cell_type": "code",
   "execution_count": 14,
   "metadata": {},
   "outputs": [
    {
     "data": {
      "text/plain": [
       "7"
      ]
     },
     "execution_count": 14,
     "metadata": {},
     "output_type": "execute_result"
    }
   ],
   "source": [
    "def count_words(text):\n",
    "    words = text.split()\n",
    "    return len(words)\n",
    "\n",
    "\n",
    "count_words(text=\"I stand on the shoulders of giants\")"
   ]
  },
  {
   "cell_type": "markdown",
   "metadata": {},
   "source": [
    "arbitrary arguments\n"
   ]
  },
  {
   "cell_type": "code",
   "execution_count": 15,
   "metadata": {},
   "outputs": [
    {
     "name": "stdout",
     "output_type": "stream",
     "text": [
      "(1, 2, 3, 4)\n"
     ]
    }
   ],
   "source": [
    "# how many arguments you want\n",
    "\n",
    "# comes in as a tuple\n",
    "\n",
    "def my_mean(*numbers):\n",
    "    print(numbers)\n",
    "\n",
    "\n",
    "my_mean(1, 2, 3, 4)"
   ]
  },
  {
   "cell_type": "code",
   "execution_count": 16,
   "metadata": {},
   "outputs": [
    {
     "data": {
      "text/plain": [
       "3.3333333333333335"
      ]
     },
     "execution_count": 16,
     "metadata": {},
     "output_type": "execute_result"
    }
   ],
   "source": [
    "def my_mean(*numbers):\n",
    "    sum_ = 0\n",
    "    for number in numbers:\n",
    "        sum_ += number\n",
    "    return sum_/len(numbers)\n",
    "\n",
    "\n",
    "my_mean(1, 4, 5)"
   ]
  },
  {
   "cell_type": "markdown",
   "metadata": {},
   "source": [
    "unpacking arguments\n"
   ]
  },
  {
   "cell_type": "code",
   "execution_count": 18,
   "metadata": {},
   "outputs": [
    {
     "name": "stdout",
     "output_type": "stream",
     "text": [
      "hi Bella you are 4 old\n"
     ]
    }
   ],
   "source": [
    "def say_hello(name, age):\n",
    "    print(f\"hi {name} you are {age} old\")\n",
    "\n",
    "\n",
    "pet = (\"Bella\", 4)\n",
    "\n",
    "say_hello(*pet)  # unpack its tuple with *"
   ]
  },
  {
   "cell_type": "markdown",
   "metadata": {},
   "source": [
    "lambda function inside a function\n"
   ]
  },
  {
   "cell_type": "code",
   "execution_count": 31,
   "metadata": {},
   "outputs": [
    {
     "name": "stdout",
     "output_type": "stream",
     "text": [
      "([2005, 2006, 2007, 2008, 2009, 2010, 2011, 2012, 2013, 2014, 2015, 2016, 2017, 2018, 2019, 2020, 2021, 2022, 2023, 2024], [2587, 2546, 2797, 2817, 2857, 2903, 3160, 3398, 4054, 4937, 5812, 6183, 6210, 5704, 7086, 10283, 12852, 14255, 15162, 16447], [6238, 7582, 8807, 10264, 11286, 11905, 12179, 11946, 12253, 12261, 11670, 11529, 12193, 13797, 15994, 18491, 18540, 17818, 17354, 17380])\n"
     ]
    }
   ],
   "source": [
    "# basicaly a one line funtion\n",
    "\n",
    "def extract_data(filename):\n",
    "    with open(filename, \"r\") as file:\n",
    "        data = file.readlines()\n",
    "\n",
    "    years, it, economy = data\n",
    "    # clean each of the line\n",
    "    # make it to int\n",
    "\n",
    "    def clean_row(row): return [int(item) for item in row.strip().split(\n",
    "        \",\")[1:]]  # 1: skips the first argument\n",
    "    years = clean_row(years)\n",
    "    it = clean_row(it)\n",
    "    economy = clean_row(economy)\n",
    "\n",
    "    return years, it, economy\n",
    "\n",
    "\n",
    "print(extract_data(\"students_yh_it_economy.txt\"))"
   ]
  },
  {
   "cell_type": "markdown",
   "metadata": {},
   "source": [
    "variable number of keywork arguments \\*\\* kwargs\n"
   ]
  },
  {
   "cell_type": "code",
   "execution_count": 35,
   "metadata": {},
   "outputs": [
    {
     "name": "stdout",
     "output_type": "stream",
     "text": [
      "{'x': 5, 'name': 'Bella', 'type': 'rabbit'}\n",
      "rabbit\n"
     ]
    }
   ],
   "source": [
    "def tst_kwargs(**kwargs):\n",
    "    print(kwargs)\n",
    "    print(kwargs.get(\"type\"))\n",
    "\n",
    "\n",
    "# creates a dictionary\n",
    "\n",
    "tst_kwargs(x=5, name=\"Bella\", type=\"rabbit\")"
   ]
  },
  {
   "cell_type": "code",
   "execution_count": 55,
   "metadata": {},
   "outputs": [
    {
     "data": {
      "text/plain": [
       "<Axes: title={'center': 'Number of students in IT'}, xlabel='year', ylabel='number of students'>"
      ]
     },
     "execution_count": 55,
     "metadata": {},
     "output_type": "execute_result"
    },
    {
     "data": {
      "image/png": "[encoded data removed]",
      "text/plain": [
       "<Figure size 640x480 with 1 Axes>"
      ]
     },
     "metadata": {},
     "output_type": "display_data"
    }
   ],
   "source": [
    "import matplotlib.pyplot as plt\n",
    "\n",
    "from matplotlib.ticker import MaxNLocator  # to remove floating in the plot\n",
    "years, it, economy = extract_data(\"students_yh_it_economy.txt\")\n",
    "fig, ax = plt.subplots(1)\n",
    "\n",
    "\n",
    "def plot_data(ax, x, y, **options):\n",
    "    ax.plot(x, y, linewidth=options.get(\"linewidth\", 3))\n",
    "\n",
    "    ax.set(\n",
    "        xlabel=options.get(\"xlabel\"),\n",
    "        ylabel=options.get(\"ylabel\"),\n",
    "        title=options.get(\"title\"),\n",
    "    )\n",
    "    ax.xaxis.set_major_locator(MaxNLocator(integer=True))\n",
    "    ax.spines[[\"top\", \"right\"]].set_visible(False)\n",
    "    return ax\n",
    "\n",
    "\n",
    "plot_data(ax, x=years, y=it, linewidth=2, title=\"Number of students in IT\",\n",
    "          xlabel=\"year\", ylabel=\"number of students\")"
   ]
  },
  {
   "cell_type": "markdown",
   "metadata": {},
   "source": []
  }
 ],
 "metadata": {
  "kernelspec": {
   "display_name": ".venv",
   "language": "python",
   "name": "python3"
  },
  "language_info": {
   "codemirror_mode": {
    "name": "ipython",
    "version": 3
   },
   "file_extension": ".py",
   "mimetype": "text/x-python",
   "name": "python",
   "nbconvert_exporter": "python",
   "pygments_lexer": "ipython3",
   "version": "3.12.9"
  }
 },
 "nbformat": 4,
 "nbformat_minor": 2
}
