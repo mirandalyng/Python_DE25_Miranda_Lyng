{
 "cells": [
  {
   "cell_type": "markdown",
   "metadata": {},
   "source": [
    "# 15 OOP Polymorphism"
   ]
  },
  {
   "cell_type": "markdown",
   "metadata": {},
   "source": [
    "- polymorhism means several shapes \n",
    "- several functions can be used for different types \n",
    "- it behaves different depending on the data type (e.g. string, tuple, set,)\n",
    "- "
   ]
  },
  {
   "cell_type": "markdown",
   "metadata": {},
   "source": [
    "#### len()"
   ]
  },
  {
   "cell_type": "code",
   "execution_count": 1,
   "metadata": {},
   "outputs": [
    {
     "data": {
      "text/plain": [
       "3"
      ]
     },
     "execution_count": 1,
     "metadata": {},
     "output_type": "execute_result"
    }
   ],
   "source": [
    "len([1,2,3])\n"
   ]
  },
  {
   "cell_type": "code",
   "execution_count": 2,
   "metadata": {},
   "outputs": [
    {
     "data": {
      "text/plain": [
       "3"
      ]
     },
     "execution_count": 2,
     "metadata": {},
     "output_type": "execute_result"
    }
   ],
   "source": [
    "len((1,2,3))"
   ]
  },
  {
   "cell_type": "code",
   "execution_count": 3,
   "metadata": {},
   "outputs": [
    {
     "data": {
      "text/plain": [
       "2"
      ]
     },
     "execution_count": 3,
     "metadata": {},
     "output_type": "execute_result"
    }
   ],
   "source": [
    "len({1,4,1})\n",
    "#returns unique values "
   ]
  },
  {
   "cell_type": "code",
   "execution_count": 4,
   "metadata": {},
   "outputs": [
    {
     "data": {
      "text/plain": [
       "5"
      ]
     },
     "execution_count": 4,
     "metadata": {},
     "output_type": "execute_result"
    }
   ],
   "source": [
    "len(\"hello\") #counts the characthers "
   ]
  },
  {
   "cell_type": "markdown",
   "metadata": {},
   "source": [
    "#### +operator"
   ]
  },
  {
   "cell_type": "code",
   "execution_count": 5,
   "metadata": {},
   "outputs": [
    {
     "data": {
      "text/plain": [
       "5"
      ]
     },
     "execution_count": 5,
     "metadata": {},
     "output_type": "execute_result"
    }
   ],
   "source": [
    "2+3"
   ]
  },
  {
   "cell_type": "code",
   "execution_count": 6,
   "metadata": {},
   "outputs": [
    {
     "data": {
      "text/plain": [
       "'23'"
      ]
     },
     "execution_count": 6,
     "metadata": {},
     "output_type": "execute_result"
    }
   ],
   "source": [
    "\"2\" + \"3\""
   ]
  },
  {
   "cell_type": "code",
   "execution_count": 7,
   "metadata": {},
   "outputs": [
    {
     "ename": "TypeError",
     "evalue": "unsupported operand type(s) for +: 'int' and 'str'",
     "output_type": "error",
     "traceback": [
      "\u001b[31m---------------------------------------------------------------------------\u001b[39m",
      "\u001b[31mTypeError\u001b[39m                                 Traceback (most recent call last)",
      "\u001b[36mCell\u001b[39m\u001b[36m \u001b[39m\u001b[32mIn[7]\u001b[39m\u001b[32m, line 1\u001b[39m\n\u001b[32m----> \u001b[39m\u001b[32m1\u001b[39m \u001b[32;43m2\u001b[39;49m\u001b[43m \u001b[49m\u001b[43m+\u001b[49m\u001b[43m \u001b[49m\u001b[33;43m\"\u001b[39;49m\u001b[33;43m3\u001b[39;49m\u001b[33;43m\"\u001b[39;49m \u001b[38;5;66;03m#differnt types doesnt work \u001b[39;00m\n",
      "\u001b[31mTypeError\u001b[39m: unsupported operand type(s) for +: 'int' and 'str'"
     ]
    }
   ],
   "source": [
    "2 + \"3\" #differnt types doesnt work "
   ]
  },
  {
   "cell_type": "markdown",
   "metadata": {},
   "source": [
    "#### multiplication"
   ]
  },
  {
   "cell_type": "code",
   "execution_count": null,
   "metadata": {},
   "outputs": [
    {
     "data": {
      "text/plain": [
       "10"
      ]
     },
     "execution_count": 10,
     "metadata": {},
     "output_type": "execute_result"
    }
   ],
   "source": [
    "2 * 5"
   ]
  },
  {
   "cell_type": "code",
   "execution_count": null,
   "metadata": {},
   "outputs": [
    {
     "data": {
      "text/plain": [
       "'22222'"
      ]
     },
     "execution_count": 11,
     "metadata": {},
     "output_type": "execute_result"
    }
   ],
   "source": [
    "\"2\"*5"
   ]
  },
  {
   "cell_type": "code",
   "execution_count": null,
   "metadata": {},
   "outputs": [
    {
     "ename": "TypeError",
     "evalue": "can't multiply sequence by non-int of type 'float'",
     "output_type": "error",
     "traceback": [
      "\u001b[31m---------------------------------------------------------------------------\u001b[39m",
      "\u001b[31mTypeError\u001b[39m                                 Traceback (most recent call last)",
      "\u001b[36mCell\u001b[39m\u001b[36m \u001b[39m\u001b[32mIn[12]\u001b[39m\u001b[32m, line 1\u001b[39m\n\u001b[32m----> \u001b[39m\u001b[32m1\u001b[39m \u001b[33;43m\"\u001b[39;49m\u001b[33;43m2\u001b[39;49m\u001b[33;43m\"\u001b[39;49m\u001b[43m*\u001b[49m\u001b[32;43m5.2\u001b[39;49m\n",
      "\u001b[31mTypeError\u001b[39m: can't multiply sequence by non-int of type 'float'"
     ]
    }
   ],
   "source": [
    "\"2\"*5.2 "
   ]
  },
  {
   "cell_type": "markdown",
   "metadata": {},
   "source": [
    "### Polymorphism in class methods "
   ]
  },
  {
   "cell_type": "code",
   "execution_count": null,
   "metadata": {},
   "outputs": [
    {
     "name": "stdout",
     "output_type": "stream",
     "text": [
      "I am a fish, with name Pelle\n",
      "blupp blupp blupp\n",
      "I am a fox, with name Ylvis, no one knows how I sound\n"
     ]
    }
   ],
   "source": [
    "class Fish: \n",
    "    def __init__(self, name): \n",
    "        self.name = name\n",
    "    \n",
    "    def __str__(self): \n",
    "        return f\"I am a fish, with name {self.name}\"\n",
    "    \n",
    "    def speak(self): \n",
    "        print(\"blupp blupp blupp\")\n",
    "\n",
    "\n",
    "class Fox: \n",
    "\n",
    "    def __init__(self, name): \n",
    "        self.name = name\n",
    "    \n",
    "    def __str__(self): \n",
    "        return f\"I am a fox, with name {self.name}, no one knows how I sound\"\n",
    "    \n",
    "    def speak(self): \n",
    "        NotImplemented\n",
    "\n",
    "\n",
    "animals = (Fish(\"Pelle\"), Fox(\"Ylvis\"))\n",
    "\n",
    "for animal in animals: \n",
    "    print(animal) #print looks for the __str__ \n",
    "    animal.speak()"
   ]
  },
  {
   "cell_type": "markdown",
   "metadata": {},
   "source": [
    "\n",
    "<div style=\"max-width:66ch;\">\n",
    "\n",
    "## Operator overloading\n",
    "\n",
    "<table style=\"display:inline-block; text-align:left;\">\n",
    "  <tr style=\"background-color: #174A7E; color: white;\">\n",
    "    <th>Operator</th>\n",
    "    <th>Dunder Method</th>\n",
    "  </tr>\n",
    "  <tr>\n",
    "    <td style=\"text-align: center;\">+</td>\n",
    "    <td style=\"text-align: center;\">__add__(self, other)</td>\n",
    "  </tr>\n",
    "  <tr>\n",
    "    <td style=\"text-align: center;\">-</td>\n",
    "    <td style=\"text-align: center;\">__sub__(self, other)</td>\n",
    "  </tr>\n",
    "  <tr>\n",
    "    <td style=\"text-align: center;\">*</td>\n",
    "    <td style=\"text-align: center;\">__mul__(self, other)</td>\n",
    "  </tr>\n",
    "  <tr>\n",
    "    <td style=\"text-align: center;\">/</td>\n",
    "    <td style=\"text-align: center;\">__div__(self, other)</td>\n",
    "  </tr>\n",
    "  <tr>\n",
    "    <td style=\"text-align: center;\">//</td>\n",
    "    <td style=\"text-align: center;\">__floordiv__(self, other)</td>\n",
    "  </tr>\n",
    "  <tr>\n",
    "    <td style=\"text-align: center;\">%</td>\n",
    "    <td style=\"text-align: center;\">__mod__(self, other)</td>\n",
    "  </tr>\n",
    "  <tr>\n",
    "    <td style=\"text-align: center;\">**</td>\n",
    "    <td style=\"text-align: center;\">__pow__(self, other)</td>\n",
    "  </tr>\n",
    "  <tr>\n",
    "    <td style=\"text-align: center;\"><</td>\n",
    "    <td style=\"text-align: center;\">__lt__(self, other)</td>\n",
    "  </tr>\n",
    "  <tr>\n",
    "    <td style=\"text-align: center;\"><=</td>\n",
    "    <td style=\"text-align: center;\">__le__(self, other)</td>\n",
    "  </tr>\n",
    "  <tr>\n",
    "    <td style=\"text-align: center;\">></td>\n",
    "    <td style=\"text-align: center;\">__gt__(self, other)</td>\n",
    "  </tr>\n",
    "  <tr>\n",
    "    <td style=\"text-align: center;\">>=</td>\n",
    "    <td style=\"text-align: center;\">__ge__(self, other)</td>\n",
    "  </tr>\n",
    "  <tr>\n",
    "    <td style=\"text-align: center;\">==</td>\n",
    "    <td style=\"text-align: center;\">__eq__(self, other)</td>\n",
    "  </tr>\n",
    "</table>\n",
    "\n",
    "</div>\n"
   ]
  },
  {
   "cell_type": "code",
   "execution_count": null,
   "metadata": {},
   "outputs": [
    {
     "data": {
      "text/plain": [
       "(1.0, 2.0, 3.0)"
      ]
     },
     "execution_count": 19,
     "metadata": {},
     "output_type": "execute_result"
    }
   ],
   "source": [
    "import matplotlib.pyplot as plt \n",
    "\n",
    "class Vector:\n",
    "    def __init__(self, *numbers: float) -> None: #args is a tuple (returns a tuple)\n",
    "        for number in numbers: \n",
    "            if not isinstance(number, (float, int)): \n",
    "                raise TypeError(f\"{number} is not a valid number in a vector\")\n",
    "            \n",
    "            if not len(numbers): # 0 is Falsy , rest is Truly \n",
    "                raise ValueError(\"Vectors can't be empty\")\n",
    "            \n",
    "\n",
    "            self._numbers = tuple(float(number) for number in numbers) \n",
    "            #creates a genereator that uses a tuple to return a tuple \n",
    "            \n",
    "\n",
    "v1 = Vector(1,2,3)\n",
    "v1\n",
    "\n",
    "v1._numbers #dont Do this "
   ]
  },
  {
   "cell_type": "code",
   "execution_count": null,
   "metadata": {},
   "outputs": [
    {
     "data": {
      "text/plain": [
       "(2.0, 4.0, 5.0)"
      ]
     },
     "execution_count": 24,
     "metadata": {},
     "output_type": "execute_result"
    }
   ],
   "source": [
    "import matplotlib.pyplot as plt \n",
    "\n",
    "class Vector:\n",
    "    def __init__(self, *numbers: float) -> None: #args is a tuple (returns a tuple)\n",
    "        for number in numbers: \n",
    "            if not isinstance(number, (float, int)): \n",
    "                raise TypeError(f\"{number} is not a valid number in a vector\")\n",
    "            \n",
    "            if not len(numbers): # 0 is Falsy , rest is Truly \n",
    "                raise ValueError(\"Vectors can't be empty\")\n",
    "            \n",
    "\n",
    "            self._numbers = tuple(float(number) for number in numbers) \n",
    "            #creates a genereator that uses a tuple to return a tuple \n",
    "\n",
    "    @property\n",
    "    def numbers(self) -> tuple: #should return a tuple \n",
    "        return self._numbers  #just a getter because I don't want it to changes \n",
    "    #get only \n",
    "\n",
    "v2 = Vector(2,4,5)\n",
    "v2.numbers\n"
   ]
  },
  {
   "cell_type": "code",
   "execution_count": null,
   "metadata": {},
   "outputs": [
    {
     "name": "stdout",
     "output_type": "stream",
     "text": [
      "property 'numbers' of 'Vector' object has no setter\n"
     ]
    }
   ],
   "source": [
    "try: \n",
    "    v2.numbers = (1,2)\n",
    "except AttributeError as err: \n",
    "    print(err)"
   ]
  },
  {
   "cell_type": "code",
   "execution_count": null,
   "metadata": {},
   "outputs": [
    {
     "data": {
      "text/plain": [
       "(Vector(-1.0, -2.0, -2.0), 3, -1.0)"
      ]
     },
     "execution_count": 58,
     "metadata": {},
     "output_type": "execute_result"
    }
   ],
   "source": [
    "class Vector:\n",
    "    def __init__(self, *numbers: float) -> None: #args is a tuple (returns a tuple)\n",
    "        for number in numbers: \n",
    "            if not isinstance(number, (float, int)): \n",
    "                raise TypeError(f\"{number} is not a valid number in a vector\")\n",
    "            \n",
    "            if not len(numbers): # 0 is Falsy , rest is Truly \n",
    "                raise ValueError(\"Vectors can't be empty\")\n",
    "            \n",
    "\n",
    "            self._numbers = tuple(float(number) for number in numbers) \n",
    "            #creates a genereator that uses a tuple to return a tuple \n",
    "\n",
    "    @property\n",
    "    def numbers(self) -> tuple: #should return a tuple \n",
    "        return self._numbers  #just a getter because I don't want it to changes \n",
    "    #get only \n",
    "\n",
    "\n",
    "    def __add__(self, other: Vector) -> Vector: \n",
    "\n",
    "        #implement the validate on len \n",
    "        if self.validate_vectors(other):\n",
    "\n",
    "        #operator overlioading \n",
    "        #the inctance itself wich is a vector and put in another vecotor and return a vector \n",
    "            \n",
    "            #if its same lenght do this -> \n",
    "            numbers = (num1 + num2 for num1, num2 in zip(self.numbers, other.numbers))\n",
    "            return Vector(*numbers)\n",
    "    \n",
    "     \n",
    "    \n",
    "    def __sub__(self, other: Vector) -> Vector: \n",
    "        \n",
    "        if self.validate_vectors(other):\n",
    "\n",
    "        #operator overlioading \n",
    "        #the inctance itself wich is a vector and put in another vecotor and return a vector \n",
    "            \n",
    "            #if its same lenght do this -> \n",
    "            numbers = (num1 - num2 for num1, num2 in zip(self.numbers, other.numbers))\n",
    "            return Vector(*numbers)\n",
    "    \n",
    "\n",
    "\n",
    "    #validate both vectors (self and other are the same lenght)\n",
    "    #if so return true \n",
    "    #else return type error - false \n",
    "\n",
    "\n",
    "    #can't use len() yet. need to implement __len__\n",
    "    def validate_vectors(self, other: Vector) -> bool: \n",
    "        if not isinstance(other, Vector) or len(other) != len(self): \n",
    "            raise TypeError(f\"both must be Vector and have same lenght\")\n",
    "        \n",
    "        return len(self) == len(other)\n",
    "    \n",
    "\n",
    "    def __len__(self) -> int: \n",
    "        return len(self.numbers)\n",
    "    \n",
    "\n",
    "    def __repr__(self) -> str: \n",
    "        return f\"Vector{self.numbers}\"\n",
    "    \n",
    "\n",
    "    #bracket operator works \n",
    "    def __getitem__(self, item: int) -> float: \n",
    "        return self.numbers[item]\n",
    "\n",
    "    \n",
    "    #multiplication \n",
    "    def __mul__(self, value: int|float) -> Vector: \n",
    "        \n",
    "        if not isinstance(value, (int, float)): \n",
    "            raise TypeError(f\"The value for multiplication must be int or float, not {type(value)}\")\n",
    "        \n",
    "        numbers = (value*number for  number in self.numbers)\n",
    "        return Vector(*numbers)\n",
    "            \n",
    "    \n",
    "\n",
    "\n",
    "\n",
    "\n",
    "v1 = Vector(1,2,3)\n",
    "v2 = Vector(2,4,5)\n",
    "\n",
    "v3 = v1 - v2\n",
    "\n",
    "v3, len(v3), v3[0]"
   ]
  },
  {
   "cell_type": "code",
   "execution_count": null,
   "metadata": {},
   "outputs": [
    {
     "data": {
      "text/plain": [
       "Vector(5.0, 10.0, 15.0)"
      ]
     },
     "execution_count": 59,
     "metadata": {},
     "output_type": "execute_result"
    }
   ],
   "source": [
    "v1 * 5"
   ]
  },
  {
   "cell_type": "code",
   "execution_count": null,
   "metadata": {},
   "outputs": [
    {
     "ename": "TypeError",
     "evalue": "unsupported operand type(s) for *: 'int' and 'Vector'",
     "output_type": "error",
     "traceback": [
      "\u001b[31m---------------------------------------------------------------------------\u001b[39m",
      "\u001b[31mTypeError\u001b[39m                                 Traceback (most recent call last)",
      "\u001b[36mCell\u001b[39m\u001b[36m \u001b[39m\u001b[32mIn[61]\u001b[39m\u001b[32m, line 1\u001b[39m\n\u001b[32m----> \u001b[39m\u001b[32m1\u001b[39m \u001b[32;43m5\u001b[39;49m\u001b[43m \u001b[49m\u001b[43m*\u001b[49m\u001b[43m \u001b[49m\u001b[43mv1\u001b[49m \u001b[38;5;66;03m#need to be able to reverse it for this to work \u001b[39;00m\n",
      "\u001b[31mTypeError\u001b[39m: unsupported operand type(s) for *: 'int' and 'Vector'"
     ]
    }
   ],
   "source": [
    "5 * v1 #need to be able to reverse it for this to work "
   ]
  },
  {
   "cell_type": "code",
   "execution_count": 25,
   "metadata": {},
   "outputs": [],
   "source": [
    "import matplotlib.pyplot as plt\n",
    "from __future__ import annotations\n",
    "\n",
    "class Vector:\n",
    "    def __init__(self, *numbers: float) -> None: #args is a tuple (returns a tuple)\n",
    "        for number in numbers: \n",
    "            if not isinstance(number, (float, int)): \n",
    "                raise TypeError(f\"{number} is not a valid number in a vector\")\n",
    "            \n",
    "            if not len(numbers): # 0 is Falsy , rest is Truly \n",
    "                raise ValueError(\"Vectors can't be empty\")\n",
    "            \n",
    "\n",
    "            self._numbers = tuple(float(number) for number in numbers) \n",
    "            #creates a genereator that uses a tuple to return a tuple \n",
    "\n",
    "    @property\n",
    "    def numbers(self) -> tuple: #should return a tuple \n",
    "        return self._numbers  #just a getter because I don't want it to changes \n",
    "    #get only \n",
    "\n",
    "\n",
    "    def __add__(self, other: Vector) -> Vector: \n",
    "\n",
    "        #implement the validate on len \n",
    "        if self.validate_vectors(other):\n",
    "\n",
    "        #operator overlioading \n",
    "        #the inctance itself wich is a vector and put in another vecotor and return a vector \n",
    "            \n",
    "            #if its same lenght do this -> \n",
    "            numbers = (num1 + num2 for num1, num2 in zip(self.numbers, other.numbers))\n",
    "            return Vector(*numbers)\n",
    "    \n",
    "     \n",
    "    \n",
    "    def __sub__(self, other: Vector) -> Vector: \n",
    "        \n",
    "        if self.validate_vectors(other):\n",
    "\n",
    "        #operator overlioading \n",
    "        #the inctance itself wich is a vector and put in another vecotor and return a vector \n",
    "            \n",
    "            #if its same lenght do this -> \n",
    "            numbers = (num1 - num2 for num1, num2 in zip(self.numbers, other.numbers))\n",
    "            return Vector(*numbers)\n",
    "    \n",
    "\n",
    "    #multiplication \n",
    "    def __mul__(self, value: int|float) -> Vector: \n",
    "        print(\"__mul__ called\")\n",
    "        if not isinstance(value, (int, float)): \n",
    "            raise TypeError(f\"The value for multiplication must be int or float, not {type(value)}\")\n",
    "        \n",
    "        numbers = (value*number for  number in self.numbers)\n",
    "        return Vector(*numbers)\n",
    "\n",
    "    #reversed multiplication \n",
    "    def __rmul__(self, value: float) -> Vector: \n",
    "        print(\"__rmul__ called\")\n",
    "        return self*value \n",
    "\n",
    "\n",
    "    #validate both vectors (self and other are the same lenght)\n",
    "    #if so return true \n",
    "    #else return type error - false \n",
    "\n",
    "\n",
    "    #can't use len() yet. need to implement __len__\n",
    "    def validate_vectors(self, other: Vector) -> bool: \n",
    "        if not isinstance(other, Vector) or len(other) != len(self): \n",
    "            raise TypeError(f\"both must be Vector and have same lenght\")\n",
    "        \n",
    "        return len(self) == len(other)\n",
    "    \n",
    "\n",
    "    def __len__(self) -> int: \n",
    "        return len(self.numbers)\n",
    "    \n",
    "\n",
    "    def __repr__(self) -> str: \n",
    "        return f\"Vector{self.numbers}\"\n",
    "    \n",
    "\n",
    "    #bracket operator works \n",
    "    def __getitem__(self, item: int) -> float: \n",
    "        return self.numbers[item]\n",
    "\n",
    "    \n",
    "    def plot(self, *others: Vector) -> None: \n",
    "        X, Y = [], []\n",
    "\n",
    "        #\"looping and adding hte x and y value \"\n",
    "        for vector in tuple(others):\n",
    "            #validtaion for 2D\n",
    "            X.append(vector[0]) \n",
    "            Y.append(vector[1])\n",
    "\n",
    "        \n",
    "        X.append(self[0]) #FIRST VALUE \n",
    "        Y.append(self[1])  # SECOND VALUE \n",
    "\n",
    "\n",
    "\n",
    "        originX = originY = tuple(0 for _ in range(len(X))) #the origings as is required \n",
    "        #plots \n",
    "\n",
    "        _, ax = plt.subplots(1)\n",
    "        ax.quiver(originX, originY, X, Y, scale = 1, scale_units = \"xy\", angles = \"xy\") #starting points \n",
    "        ax.set(\n",
    "            xlabel = \"x\",\n",
    "            ylabel = \"y\",\n",
    "            title = f\"{self}, {others}\", \n",
    "            xlim =(0,10), \n",
    "            ylim = (0, 10)\n",
    "        )\n",
    "        ax.grid()\n",
    "\n",
    "v1 = Vector(1,2,3)\n",
    "\n"
   ]
  },
  {
   "cell_type": "code",
   "execution_count": 26,
   "metadata": {},
   "outputs": [
    {
     "data": {
      "image/png": "[encoded data removed]",
      "text/plain": [
       "<Figure size 640x480 with 1 Axes>"
      ]
     },
     "metadata": {},
     "output_type": "display_data"
    }
   ],
   "source": [
    "v2 = Vector(3,4)\n",
    "v3 = Vector(2,6)\n",
    "v4 = v2 + v3\n",
    "\n",
    "v4.plot(v2,v3)"
   ]
  }
 ],
 "metadata": {
  "kernelspec": {
   "display_name": ".venv",
   "language": "python",
   "name": "python3"
  },
  "language_info": {
   "codemirror_mode": {
    "name": "ipython",
    "version": 3
   },
   "file_extension": ".py",
   "mimetype": "text/x-python",
   "name": "python",
   "nbconvert_exporter": "python",
   "pygments_lexer": "ipython3",
   "version": "3.12.9"
  }
 },
 "nbformat": 4,
 "nbformat_minor": 2
}
