{
 "cells": [
  {
   "cell_type": "markdown",
   "metadata": {},
   "source": [
    "# OOP (object oriented programming)"
   ]
  },
  {
   "cell_type": "markdown",
   "metadata": {},
   "source": [
    "### A) OOP Fundementals "
   ]
  },
  {
   "cell_type": "markdown",
   "metadata": {},
   "source": [
    "- creating classing \n",
    "- cleaner code\n",
    "- methods inside the classes (similare to functions)"
   ]
  },
  {
   "cell_type": "markdown",
   "metadata": {},
   "source": [
    "Class \n",
    "- the class itself is an object in python\n",
    "- ex the same bluebrint to built different houses \n",
    "- from the class you can create different instanses (instansiation from the class)\n",
    "- they are not the same, but they look the same because of the use of the same class"
   ]
  },
  {
   "cell_type": "code",
   "execution_count": 10,
   "metadata": {},
   "outputs": [
    {
     "data": {
      "text/plain": [
       "'Mirre'"
      ]
     },
     "execution_count": 10,
     "metadata": {},
     "output_type": "execute_result"
    }
   ],
   "source": [
    "class Admission: \n",
    "    def __init__(self, school, program, name, accept): #initialising different things \n",
    "        #parameters to this method\n",
    "\n",
    "        #self referes to the instance of self \n",
    "        self.school = school \n",
    "        self.program = program\n",
    "        self.name = name\n",
    "        self.accept = accept \n",
    "\n",
    "    \n",
    "person1= Admission(\"cool school\", \"AI\", accept=True, name = \"Miranda\")\n",
    "\n",
    "#\"this person is in main.admission and a memory adress  this is a admission adress\"\n",
    "person1\n",
    "\n",
    "#acess the attributes by . \n",
    "person1.school\n",
    "person1.name\n",
    "\n",
    "#you can change it\n",
    "person1.name = \"Mirre\"\n",
    "\n",
    "person1.name\n"
   ]
  },
  {
   "cell_type": "code",
   "execution_count": 11,
   "metadata": {},
   "outputs": [
    {
     "data": {
      "text/plain": [
       "('Data engineering', 'AI')"
      ]
     },
     "execution_count": 11,
     "metadata": {},
     "output_type": "execute_result"
    }
   ],
   "source": [
    "person2= Admission(\"cooler school\", \"Data engineering\", accept=False, name=\"Kajsa\")\n",
    "person2.program, person1.program"
   ]
  },
  {
   "cell_type": "code",
   "execution_count": 12,
   "metadata": {},
   "outputs": [
    {
     "data": {
      "text/plain": [
       "False"
      ]
     },
     "execution_count": 12,
     "metadata": {},
     "output_type": "execute_result"
    }
   ],
   "source": [
    "person1 == person2"
   ]
  },
  {
   "cell_type": "code",
   "execution_count": 14,
   "metadata": {},
   "outputs": [
    {
     "data": {
      "text/plain": [
       "('0x104b6f680', '0x104b6d460')"
      ]
     },
     "execution_count": 14,
     "metadata": {},
     "output_type": "execute_result"
    }
   ],
   "source": [
    "hex(id(person1)), hex(id(person2))  #check memory adresses "
   ]
  },
  {
   "cell_type": "markdown",
   "metadata": {},
   "source": [
    "__ repr __   \n",
    "(representing the object or instance)"
   ]
  },
  {
   "cell_type": "code",
   "execution_count": 21,
   "metadata": {},
   "outputs": [
    {
     "data": {
      "text/plain": [
       "Admission(school = 'Cool school', program = 'Java', name = 'Miranda Lyng', accept = True)"
      ]
     },
     "execution_count": 21,
     "metadata": {},
     "output_type": "execute_result"
    }
   ],
   "source": [
    "class Admission: \n",
    "    def __init__(self, school, program, name, accept): #initialising different things \n",
    "        #parameters to this method\n",
    "\n",
    "        #self referes to the instance of self \n",
    "        self.school = school \n",
    "        self.program = program\n",
    "        self.name = name\n",
    "        self.accept = accept \n",
    "    \n",
    "    def __str__(self): \n",
    "        return f\"{self.name} has applied to {self.program}, accepted: {self.accept}\"\n",
    "\n",
    "    def __repr__(self):\n",
    "        return f\"Admission(school = '{self.school}', program = '{self.program}', name = '{self.name}', accept = {self.accept})\" #you need to write how people should use this class \n",
    "    \n",
    "\n",
    "student = Admission(\"Cool school\", \"Java\", \"Miranda Lyng\", True) #the output is more readeble \n",
    "student\n",
    "\n",
    "\n"
   ]
  },
  {
   "cell_type": "code",
   "execution_count": 22,
   "metadata": {},
   "outputs": [
    {
     "name": "stdout",
     "output_type": "stream",
     "text": [
      "Miranda Lyng has applied to Java, accepted: True\n"
     ]
    }
   ],
   "source": [
    "#loooks for the str__ \n",
    "print(student)"
   ]
  },
  {
   "cell_type": "code",
   "execution_count": null,
   "metadata": {},
   "outputs": [],
   "source": [
    "str(student)"
   ]
  },
  {
   "cell_type": "markdown",
   "metadata": {},
   "source": []
  }
 ],
 "metadata": {
  "kernelspec": {
   "display_name": ".venv",
   "language": "python",
   "name": "python3"
  },
  "language_info": {
   "codemirror_mode": {
    "name": "ipython",
    "version": 3
   },
   "file_extension": ".py",
   "mimetype": "text/x-python",
   "name": "python",
   "nbconvert_exporter": "python",
   "pygments_lexer": "ipython3",
   "version": "3.12.9"
  }
 },
 "nbformat": 4,
 "nbformat_minor": 2
}
