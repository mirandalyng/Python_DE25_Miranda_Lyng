{
 "cells": [
  {
   "cell_type": "markdown",
   "metadata": {},
   "source": [
    "# OOP (object oriented programming)"
   ]
  },
  {
   "cell_type": "markdown",
   "metadata": {},
   "source": [
    "### A) OOP Fundementals "
   ]
  },
  {
   "cell_type": "markdown",
   "metadata": {},
   "source": [
    "- creating classing \n",
    "- cleaner code\n",
    "- methods inside the classes (similare to functions)"
   ]
  },
  {
   "cell_type": "markdown",
   "metadata": {},
   "source": [
    "Class \n",
    "- the class itself is an object in python\n",
    "- ex the same bluebrint to built different houses \n",
    "- from the class you can create different instanses (instansiation from the class)\n",
    "- they are not the same, but they look the same because of the use of the same class"
   ]
  },
  {
   "cell_type": "code",
   "execution_count": 10,
   "metadata": {},
   "outputs": [
    {
     "data": {
      "text/plain": [
       "'Mirre'"
      ]
     },
     "execution_count": 10,
     "metadata": {},
     "output_type": "execute_result"
    }
   ],
   "source": [
    "class Admission: \n",
    "    def __init__(self, school, program, name, accept): #initialising different things \n",
    "        #parameters to this method\n",
    "\n",
    "        #self referes to the instance of self \n",
    "        self.school = school \n",
    "        self.program = program\n",
    "        self.name = name\n",
    "        self.accept = accept \n",
    "\n",
    "    \n",
    "person1= Admission(\"cool school\", \"AI\", accept=True, name = \"Miranda\")\n",
    "\n",
    "#\"this person is in main.admission and a memory adress  this is a admission adress\"\n",
    "person1\n",
    "\n",
    "#acess the attributes by . \n",
    "person1.school\n",
    "person1.name\n",
    "\n",
    "#you can change it\n",
    "person1.name = \"Mirre\"\n",
    "\n",
    "person1.name\n"
   ]
  },
  {
   "cell_type": "code",
   "execution_count": 11,
   "metadata": {},
   "outputs": [
    {
     "data": {
      "text/plain": [
       "('Data engineering', 'AI')"
      ]
     },
     "execution_count": 11,
     "metadata": {},
     "output_type": "execute_result"
    }
   ],
   "source": [
    "person2= Admission(\"cooler school\", \"Data engineering\", accept=False, name=\"Kajsa\")\n",
    "person2.program, person1.program"
   ]
  },
  {
   "cell_type": "code",
   "execution_count": 12,
   "metadata": {},
   "outputs": [
    {
     "data": {
      "text/plain": [
       "False"
      ]
     },
     "execution_count": 12,
     "metadata": {},
     "output_type": "execute_result"
    }
   ],
   "source": [
    "person1 == person2"
   ]
  },
  {
   "cell_type": "code",
   "execution_count": 14,
   "metadata": {},
   "outputs": [
    {
     "data": {
      "text/plain": [
       "('0x104b6f680', '0x104b6d460')"
      ]
     },
     "execution_count": 14,
     "metadata": {},
     "output_type": "execute_result"
    }
   ],
   "source": [
    "hex(id(person1)), hex(id(person2))  #check memory adresses "
   ]
  },
  {
   "cell_type": "markdown",
   "metadata": {},
   "source": [
    "__ repr __   \n",
    "(representing the object or instance)"
   ]
  },
  {
   "cell_type": "code",
   "execution_count": 21,
   "metadata": {},
   "outputs": [
    {
     "data": {
      "text/plain": [
       "Admission(school = 'Cool school', program = 'Java', name = 'Miranda Lyng', accept = True)"
      ]
     },
     "execution_count": 21,
     "metadata": {},
     "output_type": "execute_result"
    }
   ],
   "source": [
    "class Admission: \n",
    "    def __init__(self, school, program, name, accept): #initialising different things \n",
    "        #parameters to this method\n",
    "\n",
    "        #self referes to the instance of self \n",
    "        self.school = school \n",
    "        self.program = program\n",
    "        self.name = name\n",
    "        self.accept = accept \n",
    "    \n",
    "    def __str__(self): \n",
    "        return f\"{self.name} has applied to {self.program}, accepted: {self.accept}\"\n",
    "\n",
    "    def __repr__(self):\n",
    "        return f\"Admission(school = '{self.school}', program = '{self.program}', name = '{self.name}', accept = {self.accept})\" #you need to write how people should use this class \n",
    "    \n",
    "\n",
    "student = Admission(\"Cool school\", \"Java\", \"Miranda Lyng\", True) #the output is more readeble \n",
    "student\n",
    "\n",
    "\n"
   ]
  },
  {
   "cell_type": "code",
   "execution_count": 22,
   "metadata": {},
   "outputs": [
    {
     "name": "stdout",
     "output_type": "stream",
     "text": [
      "Miranda Lyng has applied to Java, accepted: True\n"
     ]
    }
   ],
   "source": [
    "#loooks for the str__ \n",
    "print(student)"
   ]
  },
  {
   "cell_type": "code",
   "execution_count": 23,
   "metadata": {},
   "outputs": [
    {
     "data": {
      "text/plain": [
       "'Miranda Lyng has applied to Java, accepted: True'"
      ]
     },
     "execution_count": 23,
     "metadata": {},
     "output_type": "execute_result"
    }
   ],
   "source": [
    "str(student)"
   ]
  },
  {
   "cell_type": "markdown",
   "metadata": {},
   "source": [
    "### B) Encapsulation (OOP)"
   ]
  },
  {
   "cell_type": "markdown",
   "metadata": {},
   "source": [
    "- encapsulations (hide information that is not intreseting )\n",
    "- private attributes \n",
    "- private methods \n",
    "\n",
    "- private by convenstion _ before the attrubute or classname so that other developer now that it's private "
   ]
  },
  {
   "cell_type": "code",
   "execution_count": 26,
   "metadata": {},
   "outputs": [
    {
     "data": {
      "text/plain": [
       "Patient(Olivia)"
      ]
     },
     "execution_count": 26,
     "metadata": {},
     "output_type": "execute_result"
    }
   ],
   "source": [
    "class Patient: \n",
    "    def __init__(self, name, diagnosis): \n",
    "        self._name=name \n",
    "        \n",
    "    def __repr__(self): \n",
    "        #it should'nt be accessed inside outside the class \n",
    "        return f\"Patient({self._name})\"\n",
    "    \n",
    "\n",
    "patient1 = Patient(\"Olivia\", \"migrain\")\n",
    "\n",
    "patient1"
   ]
  },
  {
   "cell_type": "code",
   "execution_count": 27,
   "metadata": {},
   "outputs": [
    {
     "ename": "AttributeError",
     "evalue": "'Patient' object has no attribute 'name'",
     "output_type": "error",
     "traceback": [
      "\u001b[31m---------------------------------------------------------------------------\u001b[39m",
      "\u001b[31mAttributeError\u001b[39m                            Traceback (most recent call last)",
      "\u001b[36mCell\u001b[39m\u001b[36m \u001b[39m\u001b[32mIn[27]\u001b[39m\u001b[32m, line 1\u001b[39m\n\u001b[32m----> \u001b[39m\u001b[32m1\u001b[39m \u001b[43mpatient1\u001b[49m\u001b[43m.\u001b[49m\u001b[43mname\u001b[49m\n",
      "\u001b[31mAttributeError\u001b[39m: 'Patient' object has no attribute 'name'"
     ]
    }
   ],
   "source": [
    "patient1.name"
   ]
  },
  {
   "cell_type": "code",
   "execution_count": 28,
   "metadata": {},
   "outputs": [
    {
     "data": {
      "text/plain": [
       "'Olivia'"
      ]
     },
     "execution_count": 28,
     "metadata": {},
     "output_type": "execute_result"
    }
   ],
   "source": [
    "patient1._name"
   ]
  },
  {
   "cell_type": "markdown",
   "metadata": {},
   "source": [
    "- it is possible to acess private attrubut , but you shouln't do that "
   ]
  },
  {
   "cell_type": "code",
   "execution_count": 29,
   "metadata": {},
   "outputs": [
    {
     "data": {
      "text/plain": [
       "Patient(Bella)"
      ]
     },
     "execution_count": 29,
     "metadata": {},
     "output_type": "execute_result"
    }
   ],
   "source": [
    "patient1._name = \"Bella\"\n",
    "patient1"
   ]
  },
  {
   "cell_type": "code",
   "execution_count": 32,
   "metadata": {},
   "outputs": [
    {
     "data": {
      "text/plain": [
       "Patient(anna, headache)"
      ]
     },
     "execution_count": 32,
     "metadata": {},
     "output_type": "execute_result"
    }
   ],
   "source": [
    "class Patient: \n",
    "    def __init__(self, name, diagnosis): \n",
    "        self._name=name \n",
    "        self.__diagnosis = diagnosis\n",
    "        \n",
    "    def __repr__(self): \n",
    "        #it should'nt be accessed inside outside the class \n",
    "        return f\"Patient({self._name}, {self.__diagnosis})\"\n",
    "\n",
    "\n",
    "patient2 = Patient(\"anna\", \"headache\")\n",
    "patient2"
   ]
  },
  {
   "cell_type": "code",
   "execution_count": 33,
   "metadata": {},
   "outputs": [
    {
     "ename": "AttributeError",
     "evalue": "'Patient' object has no attribute '__diagnosis'",
     "output_type": "error",
     "traceback": [
      "\u001b[31m---------------------------------------------------------------------------\u001b[39m",
      "\u001b[31mAttributeError\u001b[39m                            Traceback (most recent call last)",
      "\u001b[36mCell\u001b[39m\u001b[36m \u001b[39m\u001b[32mIn[33]\u001b[39m\u001b[32m, line 1\u001b[39m\n\u001b[32m----> \u001b[39m\u001b[32m1\u001b[39m \u001b[43mpatient2\u001b[49m\u001b[43m.\u001b[49m\u001b[43m__diagnosis\u001b[49m\n",
      "\u001b[31mAttributeError\u001b[39m: 'Patient' object has no attribute '__diagnosis'"
     ]
    }
   ],
   "source": [
    "patient2.__diagnosis"
   ]
  },
  {
   "cell_type": "markdown",
   "metadata": {},
   "source": [
    "- shows all the object "
   ]
  },
  {
   "cell_type": "code",
   "execution_count": 34,
   "metadata": {},
   "outputs": [
    {
     "data": {
      "text/plain": [
       "{'_name': 'anna', '_Patient__diagnosis': 'headache'}"
      ]
     },
     "execution_count": 34,
     "metadata": {},
     "output_type": "execute_result"
    }
   ],
   "source": [
    "patient2.__dict__"
   ]
  },
  {
   "cell_type": "markdown",
   "metadata": {},
   "source": [
    "name mangling "
   ]
  },
  {
   "cell_type": "code",
   "execution_count": 35,
   "metadata": {},
   "outputs": [
    {
     "data": {
      "text/plain": [
       "'headache'"
      ]
     },
     "execution_count": 35,
     "metadata": {},
     "output_type": "execute_result"
    }
   ],
   "source": [
    "patient2._Patient__diagnosis"
   ]
  },
  {
   "cell_type": "code",
   "execution_count": 51,
   "metadata": {},
   "outputs": [
    {
     "data": {
      "text/plain": [
       "OldCoinStash(owner = 'Ragnar)"
      ]
     },
     "execution_count": 51,
     "metadata": {},
     "output_type": "execute_result"
    }
   ],
   "source": [
    "class OldCoinStash: \n",
    "    def __init__(self, owner): \n",
    "        self.owner = owner\n",
    "\n",
    "        self._riksdaler = 0 \n",
    "        self._skilling = 0 \n",
    "\n",
    "    def deposit(self, riksdaler, skilling): \n",
    "        if riksdaler < 0 or skilling < 0: \n",
    "            raise ValueError(f\"You try to deposit {riksdaler} and {skilling}. They have to be positive.\")\n",
    "        self._riksdaler += riksdaler\n",
    "        self._skilling += skilling\n",
    "\n",
    "    def withdraw(self, rikstaler, skilling): \n",
    "        if rikstaler > self._riksdaler or skilling > self._skilling:\n",
    "            raise ValueError(f\"You can't withdraw more than you have in your stash.\")\n",
    "        \n",
    "        self._riksdaler -= rikstaler\n",
    "        self._skilling -= skilling\n",
    "\n",
    "    def checkBalance(self): \n",
    "        return f\"Coins in stash: {self._riksdaler} rikstaler, {self._skilling} skilling\"\n",
    "    \n",
    "\n",
    "    def __repr__(self): \n",
    "        return f\"OldCoinStash(owner = '{self.owner})\"\n",
    "\n",
    "stash1 = OldCoinStash(\"Ragnar\")\n",
    "\n",
    "stash1\n"
   ]
  },
  {
   "cell_type": "code",
   "execution_count": 64,
   "metadata": {},
   "outputs": [
    {
     "name": "stdout",
     "output_type": "stream",
     "text": [
      "You try to deposit -5 and 2. They have to be positive.\n"
     ]
    }
   ],
   "source": [
    "try: \n",
    "    stash1.deposit(-5,2)\n",
    "except ValueError as e: \n",
    "    print(e)"
   ]
  },
  {
   "cell_type": "code",
   "execution_count": 54,
   "metadata": {},
   "outputs": [
    {
     "name": "stdout",
     "output_type": "stream",
     "text": [
      "You try to deposit 0 and -2. They have to be positive.\n"
     ]
    }
   ],
   "source": [
    "try: \n",
    "    stash1.deposit(0,-2)\n",
    "except ValueError as e: \n",
    "    print(e)"
   ]
  },
  {
   "cell_type": "code",
   "execution_count": 65,
   "metadata": {},
   "outputs": [],
   "source": [
    "try: \n",
    "    stash1.deposit(2,0)\n",
    "except ValueError as e: \n",
    "    print(e)"
   ]
  },
  {
   "cell_type": "code",
   "execution_count": 66,
   "metadata": {},
   "outputs": [
    {
     "data": {
      "text/plain": [
       "'Coins in stash: 94 rikstaler, 8 skilling'"
      ]
     },
     "execution_count": 66,
     "metadata": {},
     "output_type": "execute_result"
    }
   ],
   "source": [
    "stash1.deposit(10,2)\n",
    "stash1.checkBalance()"
   ]
  },
  {
   "cell_type": "markdown",
   "metadata": {},
   "source": []
  }
 ],
 "metadata": {
  "kernelspec": {
   "display_name": ".venv",
   "language": "python",
   "name": "python3"
  },
  "language_info": {
   "codemirror_mode": {
    "name": "ipython",
    "version": 3
   },
   "file_extension": ".py",
   "mimetype": "text/x-python",
   "name": "python",
   "nbconvert_exporter": "python",
   "pygments_lexer": "ipython3",
   "version": "3.12.9"
  }
 },
 "nbformat": 4,
 "nbformat_minor": 2
}
