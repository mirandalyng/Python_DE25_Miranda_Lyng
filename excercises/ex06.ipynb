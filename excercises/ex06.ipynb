{
 "cells": [
  {
   "cell_type": "markdown",
   "metadata": {},
   "source": [
    "# Exercise 6 - OOP "
   ]
  },
  {
   "cell_type": "markdown",
   "metadata": {},
   "source": [
    "### 0. Unit conversion (*)\n",
    "Create a class for converting US units to the metric system. It should have the following bound methods:\n",
    "\n",
    "__init__ (self, value)\n",
    "\n",
    "inch_to_cm(self)\n",
    "\n",
    "foot_to_meters(self)\n",
    "\n",
    "pound_to_kg(self)\n",
    "\n",
    "__repr__(self)\n",
    "\n",
    "\n",
    "Make sure that value is the correct type and format, raise suitable exceptions in case it isn't. Make value into property with getter and setter. Test your class manually by instantiating an object from it and test different methods. (*)\n",
    "\n",
    "\n"
   ]
  },
  {
   "cell_type": "code",
   "execution_count": 7,
   "metadata": {},
   "outputs": [],
   "source": [
    "class Converting: \n",
    "\n",
    "    def __init__(self, value): \n",
    "        self.value = value \n",
    "\n",
    "    def __repr__(self): \n",
    "        return f\"Converting(input value to convert: {self.value})\"\n",
    "    \n",
    "    @property\n",
    "    def value(self): \n",
    "        print(\"value getter is called\")\n",
    "\n",
    "        return self._value\n",
    "\n",
    "    @value.setter\n",
    "    def value(self, inputvalue):\n",
    "        print(\"value setter is getting called\")\n",
    "\n",
    "        if not isinstance(inputvalue,(int, float)): \n",
    "            raise TypeError(f\"The input value must be an int or float, not {type(inputvalue).__name__}\")\n",
    "        \n",
    "        if inputvalue < 0 : \n",
    "            raise ValueError(f\"The input value must be a positive number or 0, not {inputvalue}\")\n",
    "        \n",
    "        self._value = inputvalue\n",
    "\n",
    "                 \n",
    "    def inch_to_cm(self):\n",
    "\n",
    "        inches = self.value\n",
    "\n",
    "        centimeters = inches * 2.54\n",
    "\n",
    "        return centimeters\n",
    "\n",
    "    def foot_to_meters(self): \n",
    "\n",
    "        foot = self.value \n",
    "\n",
    "        meters = foot * 0.3048\n",
    "\n",
    "        return meters\n",
    "\n",
    "\n",
    "    def pound_to_kg(self):\n",
    "        pound = self.value \n",
    "\n",
    "        kg = pound * 0.45359237\n",
    "\n",
    "        return kg\n",
    "\n",
    "\n",
    "    "
   ]
  },
  {
   "cell_type": "code",
   "execution_count": 8,
   "metadata": {},
   "outputs": [
    {
     "name": "stdout",
     "output_type": "stream",
     "text": [
      "value setter is getting called\n"
     ]
    }
   ],
   "source": [
    "inch1 = Converting(200)"
   ]
  },
  {
   "cell_type": "code",
   "execution_count": 9,
   "metadata": {},
   "outputs": [
    {
     "name": "stdout",
     "output_type": "stream",
     "text": [
      "value getter is called\n"
     ]
    },
    {
     "data": {
      "text/plain": [
       "508.0"
      ]
     },
     "execution_count": 9,
     "metadata": {},
     "output_type": "execute_result"
    }
   ],
   "source": [
    "inch1.inch_to_cm()"
   ]
  },
  {
   "cell_type": "code",
   "execution_count": 10,
   "metadata": {},
   "outputs": [
    {
     "name": "stdout",
     "output_type": "stream",
     "text": [
      "value setter is getting called\n"
     ]
    }
   ],
   "source": [
    "inch2 = Converting(10)\n"
   ]
  },
  {
   "cell_type": "code",
   "execution_count": 11,
   "metadata": {},
   "outputs": [
    {
     "name": "stdout",
     "output_type": "stream",
     "text": [
      "value getter is called\n"
     ]
    },
    {
     "data": {
      "text/plain": [
       "25.4"
      ]
     },
     "execution_count": 11,
     "metadata": {},
     "output_type": "execute_result"
    }
   ],
   "source": [
    "inch2.inch_to_cm()"
   ]
  },
  {
   "cell_type": "code",
   "execution_count": 12,
   "metadata": {},
   "outputs": [
    {
     "name": "stdout",
     "output_type": "stream",
     "text": [
      "value setter is getting called\n",
      "value getter is called\n"
     ]
    },
    {
     "data": {
      "text/plain": [
       "3.048"
      ]
     },
     "execution_count": 12,
     "metadata": {},
     "output_type": "execute_result"
    }
   ],
   "source": [
    "foot1 = Converting(10)\n",
    "foot1.foot_to_meters()"
   ]
  },
  {
   "cell_type": "code",
   "execution_count": 13,
   "metadata": {},
   "outputs": [
    {
     "name": "stdout",
     "output_type": "stream",
     "text": [
      "value setter is getting called\n",
      "value getter is called\n"
     ]
    },
    {
     "data": {
      "text/plain": [
       "0.9144000000000001"
      ]
     },
     "execution_count": 13,
     "metadata": {},
     "output_type": "execute_result"
    }
   ],
   "source": [
    "foot2 = Converting(3)\n",
    "foot2.foot_to_meters()"
   ]
  },
  {
   "cell_type": "code",
   "execution_count": 14,
   "metadata": {},
   "outputs": [
    {
     "name": "stdout",
     "output_type": "stream",
     "text": [
      "value setter is getting called\n",
      "value getter is called\n"
     ]
    },
    {
     "data": {
      "text/plain": [
       "15.42214058"
      ]
     },
     "execution_count": 14,
     "metadata": {},
     "output_type": "execute_result"
    }
   ],
   "source": [
    "kg1 = Converting(34)\n",
    "kg1.pound_to_kg()"
   ]
  },
  {
   "cell_type": "code",
   "execution_count": 17,
   "metadata": {},
   "outputs": [
    {
     "name": "stdout",
     "output_type": "stream",
     "text": [
      "value setter is getting called\n",
      "The input value must be an int or float, not str\n"
     ]
    }
   ],
   "source": [
    "\n",
    "try: \n",
    "    c1 = Converting(\"hej\")\n",
    "    \n",
    "    \n",
    "except ValueError and TypeError as err:  \n",
    "    print(err)  "
   ]
  },
  {
   "cell_type": "markdown",
   "metadata": {},
   "source": [
    "### 1. Person (*)\n",
    "Create a class named Person, with parameterized constructor with the following parameters:\n",
    "\n",
    "- name\n",
    "- age\n",
    "- email\n",
    "\n",
    "Turn name, age, email into properties with following validations in their setters:\n",
    "\n",
    "- name - must be string\n",
    "- age - must be number between 0 and 125\n",
    "- email - must include an @ sign\n",
    "\n",
    "It should also have __repr__ method to represent the Person class in a neat way.\n",
    "\n",
    "Also create a method say_hello() that prints"
   ]
  },
  {
   "cell_type": "code",
   "execution_count": 41,
   "metadata": {},
   "outputs": [],
   "source": [
    "class Person:\n",
    "    def __init__(self, name, age, email): \n",
    "        self.name = name\n",
    "        self.age = age \n",
    "        self.email = email\n",
    "\n",
    "\n",
    "    def __repr__(self): \n",
    "        return f\"Person('{self.name}', {self.age}, '{self.email}')\"\n",
    "    \n",
    "#.......name property..........\n",
    "    @property\n",
    "    def name(self):\n",
    "        return self._name \n",
    "    \n",
    "    @name.setter \n",
    "    def name(self, name_value): \n",
    "        if type (name_value) is not str: \n",
    "            raise TypeError(f\"Name must be of type string, not {type(name_value)}\")\n",
    "        \n",
    "        self._name = name_value\n",
    "\n",
    "    \n",
    "\n",
    "    #.......age property..........\n",
    "    @property\n",
    "    def age(self):\n",
    "        return self._age \n",
    "    \n",
    "    @age.setter \n",
    "    def age(self, age_value): \n",
    "        if type (age_value) is not int: \n",
    "            raise TypeError(f\"Age must be of type int, not {type(age_value)}\")\n",
    "        \n",
    "        \n",
    "        self._age = age_value\n",
    "\n",
    "\n",
    "#.......email property..........\n",
    "    \n",
    "    @property\n",
    "    def email(self): \n",
    "        return self._email \n",
    "        \n",
    "\n",
    "    @email.setter \n",
    "    def email(self, email_value): \n",
    "        if email_value.find(\"@\") <= 0:  \n",
    "            raise ValueError(f\"The email must contain '@'. Please enter a valdid adress.\")\n",
    "            \n",
    "        self._email = email_value\n",
    "\n",
    "\n",
    "    def say_hello(self): \n",
    "        print(f\"Hi my name is {self.name}, and I am {self.age} years old. My email adress is: {self.email}\")"
   ]
  },
  {
   "cell_type": "markdown",
   "metadata": {},
   "source": [
    "correct person "
   ]
  },
  {
   "cell_type": "code",
   "execution_count": 43,
   "metadata": {},
   "outputs": [
    {
     "name": "stdout",
     "output_type": "stream",
     "text": [
      "Hi my name is Miranda, and I am 30 years old. My email adress is: lyngmiranda@gmail.com\n"
     ]
    }
   ],
   "source": [
    "p1 = Person(\"Miranda\", 30, \"lyngmiranda@gmail.com\")\n",
    "\n",
    "p1\n",
    "\n",
    "p1.say_hello()"
   ]
  },
  {
   "cell_type": "markdown",
   "metadata": {},
   "source": [
    "trying name "
   ]
  },
  {
   "cell_type": "code",
   "execution_count": 25,
   "metadata": {},
   "outputs": [
    {
     "ename": "TypeError",
     "evalue": "Name must be of type string, not <class 'int'>",
     "output_type": "error",
     "traceback": [
      "\u001b[31m---------------------------------------------------------------------------\u001b[39m",
      "\u001b[31mTypeError\u001b[39m                                 Traceback (most recent call last)",
      "\u001b[36mCell\u001b[39m\u001b[36m \u001b[39m\u001b[32mIn[25]\u001b[39m\u001b[32m, line 1\u001b[39m\n\u001b[32m----> \u001b[39m\u001b[32m1\u001b[39m p2 = \u001b[43mPerson\u001b[49m\u001b[43m(\u001b[49m\u001b[32;43m23\u001b[39;49m\u001b[43m,\u001b[49m\u001b[43m \u001b[49m\u001b[32;43m30\u001b[39;49m\u001b[43m,\u001b[49m\u001b[43m \u001b[49m\u001b[33;43m\"\u001b[39;49m\u001b[33;43mlyngmiranda@gmail.com\u001b[39;49m\u001b[33;43m\"\u001b[39;49m\u001b[43m)\u001b[49m\n",
      "\u001b[36mCell\u001b[39m\u001b[36m \u001b[39m\u001b[32mIn[23]\u001b[39m\u001b[32m, line 3\u001b[39m, in \u001b[36mPerson.__init__\u001b[39m\u001b[34m(self, name, age, email)\u001b[39m\n\u001b[32m      2\u001b[39m \u001b[38;5;28;01mdef\u001b[39;00m\u001b[38;5;250m \u001b[39m\u001b[34m__init__\u001b[39m(\u001b[38;5;28mself\u001b[39m, name, age, email): \n\u001b[32m----> \u001b[39m\u001b[32m3\u001b[39m     \u001b[38;5;28;43mself\u001b[39;49m\u001b[43m.\u001b[49m\u001b[43mname\u001b[49m = name\n\u001b[32m      4\u001b[39m     \u001b[38;5;28mself\u001b[39m.age = age \n\u001b[32m      5\u001b[39m     \u001b[38;5;28mself\u001b[39m.email = email\n",
      "\u001b[36mCell\u001b[39m\u001b[36m \u001b[39m\u001b[32mIn[23]\u001b[39m\u001b[32m, line 19\u001b[39m, in \u001b[36mPerson.name\u001b[39m\u001b[34m(self, name_value)\u001b[39m\n\u001b[32m     16\u001b[39m \u001b[38;5;129m@name\u001b[39m.setter \n\u001b[32m     17\u001b[39m \u001b[38;5;28;01mdef\u001b[39;00m\u001b[38;5;250m \u001b[39m\u001b[34mname\u001b[39m(\u001b[38;5;28mself\u001b[39m, name_value): \n\u001b[32m     18\u001b[39m     \u001b[38;5;28;01mif\u001b[39;00m \u001b[38;5;28mtype\u001b[39m (name_value) \u001b[38;5;129;01mis\u001b[39;00m \u001b[38;5;129;01mnot\u001b[39;00m \u001b[38;5;28mstr\u001b[39m: \n\u001b[32m---> \u001b[39m\u001b[32m19\u001b[39m         \u001b[38;5;28;01mraise\u001b[39;00m \u001b[38;5;167;01mTypeError\u001b[39;00m(\u001b[33mf\u001b[39m\u001b[33m\"\u001b[39m\u001b[33mName must be of type string, not \u001b[39m\u001b[38;5;132;01m{\u001b[39;00m\u001b[38;5;28mtype\u001b[39m(name_value)\u001b[38;5;132;01m}\u001b[39;00m\u001b[33m\"\u001b[39m)\n\u001b[32m     21\u001b[39m     \u001b[38;5;28mself\u001b[39m._name = name_value\n",
      "\u001b[31mTypeError\u001b[39m: Name must be of type string, not <class 'int'>"
     ]
    }
   ],
   "source": [
    "p2 = Person(23, 30, \"lyngmiranda@gmail.com\")"
   ]
  },
  {
   "cell_type": "markdown",
   "metadata": {},
   "source": [
    "trying age"
   ]
  },
  {
   "cell_type": "code",
   "execution_count": 28,
   "metadata": {},
   "outputs": [
    {
     "ename": "TypeError",
     "evalue": "Age must be of type int, not <class 'str'>",
     "output_type": "error",
     "traceback": [
      "\u001b[31m---------------------------------------------------------------------------\u001b[39m",
      "\u001b[31mTypeError\u001b[39m                                 Traceback (most recent call last)",
      "\u001b[36mCell\u001b[39m\u001b[36m \u001b[39m\u001b[32mIn[28]\u001b[39m\u001b[32m, line 1\u001b[39m\n\u001b[32m----> \u001b[39m\u001b[32m1\u001b[39m p3 = \u001b[43mPerson\u001b[49m\u001b[43m(\u001b[49m\u001b[33;43m\"\u001b[39;49m\u001b[33;43mMiranda\u001b[39;49m\u001b[33;43m\"\u001b[39;49m\u001b[43m,\u001b[49m\u001b[43m \u001b[49m\u001b[33;43m\"\u001b[39;49m\u001b[33;43m30\u001b[39;49m\u001b[33;43m\"\u001b[39;49m\u001b[43m,\u001b[49m\u001b[43m \u001b[49m\u001b[33;43m\"\u001b[39;49m\u001b[33;43mlyngmiranda@gmail.com\u001b[39;49m\u001b[33;43m\"\u001b[39;49m\u001b[43m)\u001b[49m\n",
      "\u001b[36mCell\u001b[39m\u001b[36m \u001b[39m\u001b[32mIn[27]\u001b[39m\u001b[32m, line 4\u001b[39m, in \u001b[36mPerson.__init__\u001b[39m\u001b[34m(self, name, age, email)\u001b[39m\n\u001b[32m      2\u001b[39m \u001b[38;5;28;01mdef\u001b[39;00m\u001b[38;5;250m \u001b[39m\u001b[34m__init__\u001b[39m(\u001b[38;5;28mself\u001b[39m, name, age, email): \n\u001b[32m      3\u001b[39m     \u001b[38;5;28mself\u001b[39m.name = name\n\u001b[32m----> \u001b[39m\u001b[32m4\u001b[39m     \u001b[38;5;28;43mself\u001b[39;49m\u001b[43m.\u001b[49m\u001b[43mage\u001b[49m = age \n\u001b[32m      5\u001b[39m     \u001b[38;5;28mself\u001b[39m.email = email\n",
      "\u001b[36mCell\u001b[39m\u001b[36m \u001b[39m\u001b[32mIn[27]\u001b[39m\u001b[32m, line 33\u001b[39m, in \u001b[36mPerson.age\u001b[39m\u001b[34m(self, age_value)\u001b[39m\n\u001b[32m     30\u001b[39m \u001b[38;5;129m@age\u001b[39m.setter \n\u001b[32m     31\u001b[39m \u001b[38;5;28;01mdef\u001b[39;00m\u001b[38;5;250m \u001b[39m\u001b[34mage\u001b[39m(\u001b[38;5;28mself\u001b[39m, age_value): \n\u001b[32m     32\u001b[39m     \u001b[38;5;28;01mif\u001b[39;00m \u001b[38;5;28mtype\u001b[39m (age_value) \u001b[38;5;129;01mis\u001b[39;00m \u001b[38;5;129;01mnot\u001b[39;00m \u001b[38;5;28mint\u001b[39m: \n\u001b[32m---> \u001b[39m\u001b[32m33\u001b[39m         \u001b[38;5;28;01mraise\u001b[39;00m \u001b[38;5;167;01mTypeError\u001b[39;00m(\u001b[33mf\u001b[39m\u001b[33m\"\u001b[39m\u001b[33mAge must be of type int, not \u001b[39m\u001b[38;5;132;01m{\u001b[39;00m\u001b[38;5;28mtype\u001b[39m(age_value)\u001b[38;5;132;01m}\u001b[39;00m\u001b[33m\"\u001b[39m)\n\u001b[32m     36\u001b[39m     \u001b[38;5;28mself\u001b[39m._age = age_value\n",
      "\u001b[31mTypeError\u001b[39m: Age must be of type int, not <class 'str'>"
     ]
    }
   ],
   "source": [
    "p3 = Person(\"Miranda\", \"30\", \"lyngmiranda@gmail.com\")"
   ]
  },
  {
   "cell_type": "markdown",
   "metadata": {},
   "source": [
    "trying eamail"
   ]
  },
  {
   "cell_type": "code",
   "execution_count": 29,
   "metadata": {},
   "outputs": [
    {
     "ename": "ValueError",
     "evalue": "The email must contain '@'. Please enter a valdid adress.",
     "output_type": "error",
     "traceback": [
      "\u001b[31m---------------------------------------------------------------------------\u001b[39m",
      "\u001b[31mValueError\u001b[39m                                Traceback (most recent call last)",
      "\u001b[36mCell\u001b[39m\u001b[36m \u001b[39m\u001b[32mIn[29]\u001b[39m\u001b[32m, line 1\u001b[39m\n\u001b[32m----> \u001b[39m\u001b[32m1\u001b[39m p4 = \u001b[43mPerson\u001b[49m\u001b[43m(\u001b[49m\u001b[33;43m\"\u001b[39;49m\u001b[33;43mMiranda\u001b[39;49m\u001b[33;43m\"\u001b[39;49m\u001b[43m,\u001b[49m\u001b[43m \u001b[49m\u001b[32;43m30\u001b[39;49m\u001b[43m,\u001b[49m\u001b[43m \u001b[49m\u001b[33;43m\"\u001b[39;49m\u001b[33;43mmirandalyng.com\u001b[39;49m\u001b[33;43m\"\u001b[39;49m\u001b[43m)\u001b[49m\n",
      "\u001b[36mCell\u001b[39m\u001b[36m \u001b[39m\u001b[32mIn[27]\u001b[39m\u001b[32m, line 5\u001b[39m, in \u001b[36mPerson.__init__\u001b[39m\u001b[34m(self, name, age, email)\u001b[39m\n\u001b[32m      3\u001b[39m \u001b[38;5;28mself\u001b[39m.name = name\n\u001b[32m      4\u001b[39m \u001b[38;5;28mself\u001b[39m.age = age \n\u001b[32m----> \u001b[39m\u001b[32m5\u001b[39m \u001b[38;5;28;43mself\u001b[39;49m\u001b[43m.\u001b[49m\u001b[43memail\u001b[49m = email\n",
      "\u001b[36mCell\u001b[39m\u001b[36m \u001b[39m\u001b[32mIn[27]\u001b[39m\u001b[32m, line 49\u001b[39m, in \u001b[36mPerson.email\u001b[39m\u001b[34m(self, email_value)\u001b[39m\n\u001b[32m     46\u001b[39m \u001b[38;5;129m@email\u001b[39m.setter \n\u001b[32m     47\u001b[39m \u001b[38;5;28;01mdef\u001b[39;00m\u001b[38;5;250m \u001b[39m\u001b[34memail\u001b[39m(\u001b[38;5;28mself\u001b[39m, email_value): \n\u001b[32m     48\u001b[39m     \u001b[38;5;28;01mif\u001b[39;00m email_value.find(\u001b[33m\"\u001b[39m\u001b[33m@\u001b[39m\u001b[33m\"\u001b[39m) <= \u001b[32m0\u001b[39m:  \n\u001b[32m---> \u001b[39m\u001b[32m49\u001b[39m         \u001b[38;5;28;01mraise\u001b[39;00m \u001b[38;5;167;01mValueError\u001b[39;00m(\u001b[33mf\u001b[39m\u001b[33m\"\u001b[39m\u001b[33mThe email must contain \u001b[39m\u001b[33m'\u001b[39m\u001b[33m@\u001b[39m\u001b[33m'\u001b[39m\u001b[33m. Please enter a valdid adress.\u001b[39m\u001b[33m\"\u001b[39m)\n\u001b[32m     51\u001b[39m     \u001b[38;5;28mself\u001b[39m._email = email_value\n",
      "\u001b[31mValueError\u001b[39m: The email must contain '@'. Please enter a valdid adress."
     ]
    }
   ],
   "source": [
    "p4 = Person(\"Miranda\", 30, \"mirandalyng.com\")"
   ]
  },
  {
   "cell_type": "code",
   "execution_count": 32,
   "metadata": {},
   "outputs": [
    {
     "data": {
      "text/plain": [
       "Person('Miranda', 30, 'lyngmiranda@gmail.com')"
      ]
     },
     "execution_count": 32,
     "metadata": {},
     "output_type": "execute_result"
    }
   ],
   "source": [
    "p4 = Person(\"Miranda\", 30, \"lyngmiranda@gmail.com\")\n",
    "\n",
    "p4"
   ]
  },
  {
   "cell_type": "markdown",
   "metadata": {},
   "source": [
    "### 2. Student and Teacher (*)"
   ]
  },
  {
   "cell_type": "markdown",
   "metadata": {},
   "source": [
    "Create two classes named Student and Teacher that inherits from Person.\n",
    "\n",
    "The Student class shall have:\n",
    "\n",
    "- study() method that prints out\n",
    "    - study...study...study...more study\n",
    "\n",
    "- override say_hello() with the following message:\n",
    "    - Yo, I am a student, my name is ..., I am ... years old, my email address is ...\n",
    "\n",
    "- The Teacher class shall have:\n",
    "\n",
    "    - teach() method that prints out\n",
    "        - teach...teach...teach...more teaching\n",
    "\n",
    "- Instantiate a Teacher object and a Student object. Call\n",
    "    - teach() and say_hello() methods from your Teacher object.\n",
    "    - study() and say_hello() methods from your Student object."
   ]
  },
  {
   "cell_type": "code",
   "execution_count": null,
   "metadata": {},
   "outputs": [],
   "source": [
    "class Student(Person): \n",
    "    \n",
    "\n",
    "\n",
    "class Teacher(Person): "
   ]
  },
  {
   "cell_type": "markdown",
   "metadata": {},
   "source": [
    "class Student(Person"
   ]
  }
 ],
 "metadata": {
  "kernelspec": {
   "display_name": ".venv",
   "language": "python",
   "name": "python3"
  },
  "language_info": {
   "codemirror_mode": {
    "name": "ipython",
    "version": 3
   },
   "file_extension": ".py",
   "mimetype": "text/x-python",
   "name": "python",
   "nbconvert_exporter": "python",
   "pygments_lexer": "ipython3",
   "version": "3.12.9"
  }
 },
 "nbformat": 4,
 "nbformat_minor": 2
}
