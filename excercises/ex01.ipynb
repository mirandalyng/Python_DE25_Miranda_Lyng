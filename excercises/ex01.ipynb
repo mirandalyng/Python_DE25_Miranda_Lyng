{
 "cells": [
  {
   "cell_type": "markdown",
   "metadata": {},
   "source": [
    "# Exercise 1 - Count with python"
   ]
  },
  {
   "cell_type": "markdown",
   "metadata": {},
   "source": [
    "# 0. Pythagorean theorem (*)\n",
    "a) A right angled triangle has the catheti: a = 3 and b = 4 length units. Compute the hypothenuse of the triangle. (*)\n",
    "\n",
    "b) A right angled triangle has hypothenuse c = 7.0 and a cathetus a = 5.0 length units. Compute the other cathetus and round to one decimal. (*)\n"
   ]
  },
  {
   "cell_type": "code",
   "execution_count": 3,
   "metadata": {},
   "outputs": [
    {
     "name": "stdout",
     "output_type": "stream",
     "text": [
      "Hypotenusa is 5.0\n"
     ]
    }
   ],
   "source": [
    "#a roten ur \n",
    "import math\n",
    "\n",
    "a = 3\n",
    "b = 4 \n",
    "\n",
    "c = math.sqrt(a**2 + b**2)\n",
    "print(f\"Hypotenusa is {c}\")\n",
    "\n"
   ]
  },
  {
   "cell_type": "code",
   "execution_count": 4,
   "metadata": {},
   "outputs": [
    {
     "name": "stdout",
     "output_type": "stream",
     "text": [
      "4.9\n"
     ]
    }
   ],
   "source": [
    "#b \n",
    "#Hypo\n",
    "c = 7.0 \n",
    "#cathetus \n",
    "a = 5.0 \n",
    "\n",
    "b = math.sqrt(c**2 - a**2)\n",
    "\n",
    "print(f\"{b:.1f}\")\n"
   ]
  },
  {
   "cell_type": "markdown",
   "metadata": {},
   "source": [
    "# 1. Classification accuracy (*)\n",
    "A machine learning algorithm has been trained to predict whether or not it would rain the next day. Out of 365 predictions, it got 300 correct, compute the accuracy of this model."
   ]
  },
  {
   "cell_type": "code",
   "execution_count": 11,
   "metadata": {},
   "outputs": [
    {
     "name": "stdout",
     "output_type": "stream",
     "text": [
      "The accuracy of the calculator is 82.2 %\n"
     ]
    }
   ],
   "source": [
    "predictions = 365\n",
    "correct_pre = 300 \n",
    "\n",
    "accuracy = correct_pre / predictions * 100 \n",
    "\n",
    "print(f\"The accuracy of the calculator is {accuracy:.1f} %\")\n"
   ]
  },
  {
   "cell_type": "markdown",
   "metadata": {},
   "source": [
    "# 2. Classification accuracy (*)\n",
    "\n",
    "A machine learning model has been trained to detect fire. Here is the result of its predictions:\n",
    "\n",
    "Calculated the accuracy using the following formula:\n",
    "\n",
    "\n",
    "Is this a good model? Why? Why not?"
   ]
  },
  {
   "cell_type": "code",
   "execution_count": 16,
   "metadata": {},
   "outputs": [
    {
     "name": "stdout",
     "output_type": "stream",
     "text": [
      "98.7 %\n"
     ]
    }
   ],
   "source": [
    "TP = 2 \n",
    "FP = 2 \n",
    "FN = 11 \n",
    "TN = 985\n",
    "\n",
    "accuracy_2 = (TP + TN) / (TP + TN + FP + FN) * 100 \n",
    "\n",
    "print(f\"{accuracy_2:.1f} %\")"
   ]
  },
  {
   "cell_type": "markdown",
   "metadata": {},
   "source": [
    "# 3. File metadata - format print (*)\n",
    "There is a file with the following metadata:\n",
    "\n",
    "name: orders_data.csv\n",
    "file size: 3.14mb\n",
    "modified 2024\n",
    "Create variables for each of them and print out the following to the screen"
   ]
  },
  {
   "cell_type": "code",
   "execution_count": 27,
   "metadata": {},
   "outputs": [
    {
     "name": "stdout",
     "output_type": "stream",
     "text": [
      "=== File metadata === \n",
      " Filename: orders_data.csv \n",
      " Size (MB): 3.14 \n",
      " Last Modidied Year: 2024 \n"
     ]
    }
   ],
   "source": [
    "filename = \"orders_data.csv\"\n",
    "file_size = 3.14\n",
    "modiefied = 2024\n",
    "\n",
    "print(f\"=== File metadata === \\n Filename: {filename} \\n Size (MB): {file_size} \\n Last Modidied Year: {modiefied} \")\n",
    "\n",
    "\n"
   ]
  },
  {
   "cell_type": "markdown",
   "metadata": {},
   "source": [
    "# 4. Unit converter - inch to cm (*)\n",
    "Screen sizes are defined using inches for example my computer has 15'' and it corresponds to the diagonal of the screen. Let the user type in a value in inches and output the result in centimeters."
   ]
  },
  {
   "cell_type": "code",
   "execution_count": 31,
   "metadata": {},
   "outputs": [
    {
     "name": "stdout",
     "output_type": "stream",
     "text": [
      "45 inches is 114.3 cm\n"
     ]
    }
   ],
   "source": [
    "inchesInput = int(input(\"Enter the number in inches that you want to convert to cm\"))\n",
    "\n",
    "inchesInCm = inchesInput * 2.54\n",
    "\n",
    "print(f\"{inchesInput} inches is {inchesInCm:.1f} cm\")"
   ]
  },
  {
   "cell_type": "markdown",
   "metadata": {},
   "source": [
    "# 5. Count characters in a text (*)\n",
    "Create a program to let a user input a text, count the number of characters and print it out to the screen. Space can also be counted as a character here.\n",
    "\n",
    "Hint: len() function"
   ]
  },
  {
   "cell_type": "markdown",
   "metadata": {},
   "source": []
  }
 ],
 "metadata": {
  "kernelspec": {
   "display_name": ".venv",
   "language": "python",
   "name": "python3"
  },
  "language_info": {
   "codemirror_mode": {
    "name": "ipython",
    "version": 3
   },
   "file_extension": ".py",
   "mimetype": "text/x-python",
   "name": "python",
   "nbconvert_exporter": "python",
   "pygments_lexer": "ipython3",
   "version": "3.12.9"
  }
 },
 "nbformat": 4,
 "nbformat_minor": 2
}
