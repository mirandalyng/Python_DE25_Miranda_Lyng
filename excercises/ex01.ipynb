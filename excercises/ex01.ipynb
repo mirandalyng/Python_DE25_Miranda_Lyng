{
 "cells": [
  {
   "cell_type": "markdown",
   "metadata": {},
   "source": [
    "Ask the user to input a number and check if this number is positive, negative or zero and print it out."
   ]
  },
  {
   "cell_type": "code",
   "execution_count": null,
   "metadata": {},
   "outputs": [],
   "source": [
    "number = int(input(\"Enter a number\")) \n",
    "if number > 0:\n",
    "    print(\"This is a positive number\")\n",
    "elif number < 0:\n",
    "    print(\"This is a negative number\")\n",
    "else: \n",
    "    print(\"This is a 0\")"
   ]
  },
  {
   "cell_type": "markdown",
   "metadata": {},
   "source": [
    "Ask the user to input two numbers and check which one is the smallest and print it out."
   ]
  },
  {
   "cell_type": "code",
   "execution_count": null,
   "metadata": {},
   "outputs": [],
   "source": [
    "number_1 = int(input(\"Enter one number\"))\n",
    "number_2 = int(input(\"Enter a second number\"))\n",
    "\n",
    "if number_1 < number_2: \n",
    "    print(number_1, \"is the smallest number\")\n",
    "else: \n",
    "    print(number_2, \"is the smallest number\")"
   ]
  },
  {
   "cell_type": "markdown",
   "metadata": {},
   "source": [
    "Let the user input a number. Check if the number is\n",
    "\n",
    "even or odd\n",
    "is divisible by 5\n",
    "is divisble by 5 and odd"
   ]
  },
  {
   "cell_type": "code",
   "execution_count": null,
   "metadata": {},
   "outputs": [],
   "source": [
    "number = int(input(\"Enter a number\"))\n",
    "\n"
   ]
  }
 ],
 "metadata": {
  "language_info": {
   "name": "python"
  }
 },
 "nbformat": 4,
 "nbformat_minor": 2
}
