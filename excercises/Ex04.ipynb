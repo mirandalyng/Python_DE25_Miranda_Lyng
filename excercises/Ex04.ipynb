{
 "cells": [
  {
   "cell_type": "markdown",
   "metadata": {},
   "source": [
    "# Exercise 4 - working with text and files"
   ]
  },
  {
   "cell_type": "markdown",
   "metadata": {},
   "source": [
    "## 0. Counting words (*)*\n",
    "Count the number of words in this sentence: \"A picture says more than a thousand words, a matematical formula says more than a thousand pictures.\" (*)"
   ]
  },
  {
   "cell_type": "code",
   "execution_count": 5,
   "metadata": {},
   "outputs": [
    {
     "name": "stdout",
     "output_type": "stream",
     "text": [
      "17\n"
     ]
    }
   ],
   "source": [
    "string_to_count = \"A picture says more than a thousand words, a matematical formula says more than a thousand pictures.\"\n",
    "\n",
    "#taking the lenght of the string and then splitting it into list of words depenting on the spaces \n",
    "\n",
    "counted_string = len(string_to_count.split())\n",
    "\n",
    "\n",
    "print(counted_string)"
   ]
  },
  {
   "cell_type": "markdown",
   "metadata": {},
   "source": [
    "## 1. Counting letters (*)\n",
    "Let the user input a word:\n",
    "\n",
    "a) print out the number of letters in the word. (*)\n",
    "\n",
    "b) print out the number of uppercase and lowercase letters of the word (*)"
   ]
  },
  {
   "cell_type": "code",
   "execution_count": 5,
   "metadata": {},
   "outputs": [
    {
     "name": "stdout",
     "output_type": "stream",
     "text": [
      "6\n",
      "Lowecase in HejHEJ is 2\n",
      "Uppercase in HejHEJ is 4\n"
     ]
    }
   ],
   "source": [
    "#a\n",
    "input_word = input(\"Enter a word to count\")\n",
    "\n",
    "counted_word = len(input_word)\n",
    "\n",
    "print(counted_word)\n",
    "\n",
    "\n",
    "#b \n",
    "lowerC = 0 \n",
    "upperC = 0 \n",
    "\n",
    "for i in input_word: \n",
    "    if(i.islower()):\n",
    "        lowerC+=1 \n",
    "    else:\n",
    "        upperC+=1 \n",
    "    \n",
    "print(f\"Lowecase in {input_word} is {lowerC}\")\n",
    "print(f\"Uppercase in {input_word} is {upperC}\")\n"
   ]
  },
  {
   "cell_type": "markdown",
   "metadata": {},
   "source": [
    "## 2. Palindrome (*)\n",
    "A palindrome is a sequence of characters that is the same, when read forward as backwards (ignoring spaces). For example:"
   ]
  },
  {
   "cell_type": "code",
   "execution_count": 8,
   "metadata": {},
   "outputs": [
    {
     "name": "stdout",
     "output_type": "stream",
     "text": [
      "This is not a palindrome: miranda\n"
     ]
    }
   ],
   "source": [
    "input_string = input(\"Input the word you want to reverse\")\n",
    "\n",
    "if input_string[::-1] == input_string:\n",
    "    print(f\"This is a palindrome: {input_string}\")\n",
    "else: \n",
    "    print(f\"This is not a palindrome: {input_string}\")"
   ]
  },
  {
   "cell_type": "markdown",
   "metadata": {},
   "source": [
    "## 3. Vowels (**)\n",
    "Count the number of vowels in this sentence: \"Pure mathematics is, in its way, the poetry of logical ideas\"\n",
    "\n"
   ]
  },
  {
   "cell_type": "code",
   "execution_count": 36,
   "metadata": {},
   "outputs": [
    {
     "name": "stdout",
     "output_type": "stream",
     "text": [
      "20\n"
     ]
    }
   ],
   "source": [
    "string_to_check = \"Pure mathematics is, in its way, the poetry of logical ideas\"\n",
    "\n",
    "vowels = \"aeiouAEIOU\"\n",
    "\n",
    "count = 0 \n",
    "\n",
    "\n",
    "for vow in string_to_check: \n",
    "    if vow in vowels: \n",
    "        count += 1\n",
    "\n",
    "print(count)"
   ]
  },
  {
   "cell_type": "markdown",
   "metadata": {},
   "source": [
    "## 4. Encryption (**)\n",
    "Let the user input a word and:\n",
    "\n",
    "  a)   encrypt the message by replacing each letter with the next letter. If the letter is in the end of the alphabet, use the first letter instead.\n",
    "\n",
    "e.g. in Swedish: \"höst\" \n",
    "→\n",
    " \"iatu\""
   ]
  },
  {
   "cell_type": "code",
   "execution_count": 38,
   "metadata": {},
   "outputs": [
    {
     "name": "stdout",
     "output_type": "stream",
     "text": [
      "eej\n"
     ]
    }
   ],
   "source": [
    "userInputTxt = input(\"Enter a message\")\n",
    "\n",
    "\n",
    "changedStr = userInputTxt.replace(userInputTxt[0], userInputTxt[1])\n",
    "\n",
    "print(changedStr)"
   ]
  },
  {
   "cell_type": "markdown",
   "metadata": {},
   "source": []
  }
 ],
 "metadata": {
  "kernelspec": {
   "display_name": ".venv",
   "language": "python",
   "name": "python3"
  },
  "language_info": {
   "codemirror_mode": {
    "name": "ipython",
    "version": 3
   },
   "file_extension": ".py",
   "mimetype": "text/x-python",
   "name": "python",
   "nbconvert_exporter": "python",
   "pygments_lexer": "ipython3",
   "version": "3.12.9"
  }
 },
 "nbformat": 4,
 "nbformat_minor": 2
}
