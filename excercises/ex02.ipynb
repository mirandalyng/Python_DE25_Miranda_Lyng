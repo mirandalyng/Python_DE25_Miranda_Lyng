{
 "cells": [
  {
   "cell_type": "markdown",
   "metadata": {},
   "source": [
    "# 0.Check sign (*)\n",
    "Ask the user to input a number and check if this number is positive, negative or zero and print it out."
   ]
  },
  {
   "cell_type": "code",
   "execution_count": null,
   "metadata": {},
   "outputs": [],
   "source": [
    "number = int(input(\"Enter a number\")) \n",
    "if number > 0:\n",
    "    print(\"This is a positive number\")\n",
    "elif number < 0:\n",
    "    print(\"This is a negative number\")\n",
    "else: \n",
    "    print(\"This is a 0\")"
   ]
  },
  {
   "cell_type": "markdown",
   "metadata": {},
   "source": [
    "# 1. Smallest (*)\n",
    "Ask the user to input two numbers and check which one is the smallest and print it out."
   ]
  },
  {
   "cell_type": "code",
   "execution_count": null,
   "metadata": {},
   "outputs": [],
   "source": [
    "number_1 = int(input(\"Enter one number\"))\n",
    "number_2 = int(input(\"Enter a second number\"))\n",
    "\n",
    "if number_1 < number_2: \n",
    "    print(number_1, \"is the smallest number\")\n",
    "else: \n",
    "    print(number_2, \"is the smallest number\")"
   ]
  },
  {
   "cell_type": "markdown",
   "metadata": {},
   "source": [
    "# 2. Medicine (*)\n",
    "The information in the following table is stated in a medicine package. Also it is stated that for children weight is more important than age.\n",
    "\n",
    "Age\tNumber of pills\n",
    "Adults & adolescent over 40 kg\tover 12 years\t1-2\n",
    "Children 26-40 kg\t7-12 years\t1/2-1\n",
    "Children 15-25 kg\t3-7 years\t1/2\n"
   ]
  },
  {
   "cell_type": "code",
   "execution_count": null,
   "metadata": {},
   "outputs": [],
   "source": []
  },
  {
   "cell_type": "markdown",
   "metadata": {},
   "source": [
    "# 3. Divisible (*)\n",
    "Let the user input a number. Check if the number is\n",
    "even or odd\n",
    "is divisible by 5\n",
    "is divisble by 5 and odd"
   ]
  },
  {
   "cell_type": "code",
   "execution_count": 20,
   "metadata": {},
   "outputs": [
    {
     "name": "stdout",
     "output_type": "stream",
     "text": [
      "10  är ett jämt nummer som är delbart med 5\n"
     ]
    }
   ],
   "source": [
    "number = int(input(\"Enter a number\"))\n",
    "\n",
    "#Check to see if the number is even or odd and if it's possible to divisible by 5 \n",
    "if(number % 2 == 0) and (number % 5 == 0): \n",
    "    print(number, \" är ett jämt nummer som är delbart med 5\")\n",
    "    #Check to see if the number is odd or odd and if it's possible to divisible by 5 \n",
    "elif(number % 2 != 0) and (number % 5 == 0 ):\n",
    "    print(number, \" är ojämt och går at dela med 5\")\n",
    "elif(number % 2 == 0) and (number % 5 == 1): \n",
    "    print(number, \" is even and not devideble by 5\")\n",
    "else: \n",
    "    print(number, \" is odd and not devideble by 5\")\n"
   ]
  },
  {
   "cell_type": "markdown",
   "metadata": {},
   "source": [
    "The maximum allowed luggage size for boarding an airplane is:\n",
    "\n",
    "weight: 8kg\n",
    "dimensions: 55x40x23cm (length x width x height)\n",
    "Let the user input weight, length, width and height of the luggage. The program should check if the luggage is allowed or not."
   ]
  },
  {
   "cell_type": "code",
   "execution_count": null,
   "metadata": {},
   "outputs": [],
   "source": [
    "max_weight = 8\n",
    "\n",
    "\n",
    "dimensions = int(input(\"insert length\"))"
   ]
  }
 ],
 "metadata": {
  "kernelspec": {
   "display_name": ".venv",
   "language": "python",
   "name": "python3"
  },
  "language_info": {
   "codemirror_mode": {
    "name": "ipython",
    "version": 3
   },
   "file_extension": ".py",
   "mimetype": "text/x-python",
   "name": "python",
   "nbconvert_exporter": "python",
   "pygments_lexer": "ipython3",
   "version": "3.12.9"
  }
 },
 "nbformat": 4,
 "nbformat_minor": 2
}
