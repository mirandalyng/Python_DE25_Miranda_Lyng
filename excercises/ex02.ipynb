{
 "cells": [
  {
   "cell_type": "markdown",
   "metadata": {},
   "source": [
    "# 0.Check sign (*)\n",
    "Ask the user to input a number and check if this number is positive, negative or zero and print it out."
   ]
  },
  {
   "cell_type": "code",
   "execution_count": null,
   "metadata": {},
   "outputs": [],
   "source": [
    "number = int(input(\"Enter a number\")) \n",
    "if number > 0:\n",
    "    print(\"This is a positive number\")\n",
    "elif number < 0:\n",
    "    print(\"This is a negative number\")\n",
    "else: \n",
    "    print(\"This is a 0\")"
   ]
  },
  {
   "cell_type": "markdown",
   "metadata": {},
   "source": [
    "# 1. Smallest (*)\n",
    "Ask the user to input two numbers and check which one is the smallest and print it out."
   ]
  },
  {
   "cell_type": "code",
   "execution_count": null,
   "metadata": {},
   "outputs": [],
   "source": [
    "number_1 = int(input(\"Enter one number\"))\n",
    "number_2 = int(input(\"Enter a second number\"))\n",
    "\n",
    "if number_1 < number_2: \n",
    "    print(number_1, \"is the smallest number\")\n",
    "else: \n",
    "    print(number_2, \"is the smallest number\")"
   ]
  },
  {
   "cell_type": "markdown",
   "metadata": {},
   "source": [
    "# 2. Medicine (*) \n",
    "The information in the following table is stated in a medicine package. Also it is stated that for children weight is more important than age.\n",
    "\n",
    "Age\tNumber of pills\n",
    "Adults & adolescent over 40 kg\tover 12 years\t1-2\n",
    "Children 26-40 kg\t7-12 years\t1/2-1\n",
    "Children 15-25 kg\t3-7 years\t1/2\n"
   ]
  },
  {
   "cell_type": "code",
   "execution_count": 7,
   "metadata": {},
   "outputs": [
    {
     "name": "stdout",
     "output_type": "stream",
     "text": [
      "2 is too young to eat this medicine.\n"
     ]
    }
   ],
   "source": [
    "\n",
    "#Ask the user to input age and weight \n",
    "ageInput = int(input(\"Enter the age of the patient.\"))\n",
    "weightInput = int(input(\"Enter the weight of the patient (KG)\"))\n",
    "\n",
    "\n",
    "if ageInput > 12 and weightInput > 40 :\n",
    "    print(\"The patient should have 1-2 pills\")\n",
    "elif ageInput > 12 and weightInput < 40 :\n",
    "    print(\"You weigh under 40kg so 1 pill is adviced\")\n",
    "elif weightInput < 40 and weightInput > 26 and ageInput > 3:\n",
    "    print(f\"Depending on the childs weight ({weightInput}) (wich is more importand than age), the number of pills is 1/2 - 1.\")\n",
    "elif weightInput > 15 and weightInput < 25 and ageInput > 3 : \n",
    "    print(f\"Depending on the childs weight ({weightInput}) (wich is more importand than age), the number of pills is 1/2.\")\n",
    "else :\n",
    "    print(f\"{ageInput} is too young to eat this medicine.\")\n"
   ]
  },
  {
   "cell_type": "markdown",
   "metadata": {},
   "source": [
    "# 3. Divisible (*)\n",
    "Let the user input a number. Check if the number is\n",
    "even or odd\n",
    "is divisible by 5\n",
    "is divisble by 5 and odd"
   ]
  },
  {
   "cell_type": "code",
   "execution_count": 20,
   "metadata": {},
   "outputs": [
    {
     "name": "stdout",
     "output_type": "stream",
     "text": [
      "10  är ett jämt nummer som är delbart med 5\n"
     ]
    }
   ],
   "source": [
    "number = int(input(\"Enter a number\"))\n",
    "\n",
    "#Check to see if the number is even or odd and if it's possible to divisible by 5 \n",
    "if(number % 2 == 0) and (number % 5 == 0): \n",
    "    print(number, \" är ett jämt nummer som är delbart med 5\")\n",
    "    #Check to see if the number is odd or odd and if it's possible to divisible by 5 \n",
    "elif(number % 2 != 0) and (number % 5 == 0 ):\n",
    "    print(number, \" är ojämt och går at dela med 5\")\n",
    "elif(number % 2 == 0) and (number % 5 == 1): \n",
    "    print(number, \" is even and not devideble by 5\")\n",
    "else: \n",
    "    print(number, \" is odd and not devideble by 5\")\n"
   ]
  },
  {
   "cell_type": "markdown",
   "metadata": {},
   "source": [
    "# 4. Luggage size (*)\n",
    "The maximum allowed luggage size for boarding an airplane is:\n",
    "\n",
    "weight: 8kg\n",
    "dimensions: 55x40x23cm (length x width x height)\n",
    "Let the user input weight, length, width and height of the luggage. The program should check if the luggage is allowed or not."
   ]
  },
  {
   "cell_type": "code",
   "execution_count": 24,
   "metadata": {},
   "outputs": [
    {
     "name": "stdout",
     "output_type": "stream",
     "text": [
      "Welcome to boarder the airplane!\n"
     ]
    }
   ],
   "source": [
    "#Define the max-weight 8 kg\n",
    "max_weight = 8\n",
    "\n",
    "#define the weight length width and height from the user input \n",
    "weightInput = int(input(\"Enter the luggage weight (KG)\"))\n",
    "\n",
    "lengthInput = int(input(\"Enter the luggage length (CM)\"))\n",
    "\n",
    "widthInput = int(input(\"Enter the luggage width (CM)\"))\n",
    "                 \n",
    "heightInput = int(input(\"Enter the luggage height (CM)\"))\n",
    "\n",
    "\n",
    "#If any of the dimensions are too big print that to the user \n",
    "\n",
    "if (lengthInput > 55 or widthInput > 40 or heightInput > 23): \n",
    "    print(\"The dimenstions of the luggage is too big!\")\n",
    "#if the luggage is over 8 kg print that \n",
    "elif weightInput > 8 : \n",
    "    print(\"The luggage weight too much!\")\n",
    "#Otherwie welocme the user to boarder the  plane \n",
    "else: \n",
    "    print(\"Welcome to boarder the airplane!\")\n"
   ]
  },
  {
   "cell_type": "markdown",
   "metadata": {},
   "source": [
    "# 5. Count numbers (*)\n",
    "Use a for statement to count from:\n",
    "\n",
    "a)   -10 to 10 with one increment (*)\n",
    "\n",
    "b)   -10 to 10 with two increment (*)\n",
    "\n"
   ]
  },
  {
   "cell_type": "code",
   "execution_count": null,
   "metadata": {},
   "outputs": [],
   "source": [
    "#a \n",
    "start = -10 \n",
    "end = 11 #needs to be 11 to include number 10\n",
    "step = 1 \n",
    "\n",
    "for i in range(start, end, step):\n",
    "    print(i)"
   ]
  },
  {
   "cell_type": "code",
   "execution_count": null,
   "metadata": {},
   "outputs": [],
   "source": [
    "#b \n",
    "start = -10 \n",
    "end = 11 #needs to be 11 to include number 10\n",
    "step = 2\n",
    "\n",
    "for i in range(start, end, step):\n",
    "    print(i)"
   ]
  },
  {
   "cell_type": "markdown",
   "metadata": {},
   "source": [
    "# 5. Arithmetic sum (*)\n",
    "Use a while statement to compute the following sums:\n",
    "\n",
    "a)   \n",
    "sum =1+2+…+99+100\n",
    "\n",
    "b)   \n",
    "sum =1+3+5+…+97+99\n",
    "\n",
    "Repeat these using a for statement"
   ]
  },
  {
   "cell_type": "code",
   "execution_count": null,
   "metadata": {},
   "outputs": [],
   "source": [
    "#a while \n",
    "\n",
    "#setts the startnum from 1 \n",
    "startNum = 1 \n",
    "\n",
    "#while startnum is less than 101 run the loop\n",
    "while startNum <= 101:\n",
    "    #print num after each iteration\n",
    "    print(startNum)    \n",
    "    #add 1 to the startNum each iteration \n",
    "    startNum += 1"
   ]
  },
  {
   "cell_type": "code",
   "execution_count": null,
   "metadata": {},
   "outputs": [],
   "source": [
    "#b while \n",
    "\n",
    "#setts the startnum from 1 \n",
    "startNum = 1 \n",
    "\n",
    "#while startnum is less than 100 run the loop\n",
    "while startNum <= 100:\n",
    "    #print num after each iteration\n",
    "    print(startNum)    \n",
    "    #add 2 to the startNum each iteration \n",
    "    startNum += 2"
   ]
  },
  {
   "cell_type": "code",
   "execution_count": null,
   "metadata": {},
   "outputs": [],
   "source": [
    "#a for \n",
    "\n",
    "start = 1 \n",
    "end = 101\n",
    "step = 1 \n",
    "\n",
    "for i in range(start,end,step): \n",
    "    print(i)"
   ]
  },
  {
   "cell_type": "code",
   "execution_count": null,
   "metadata": {},
   "outputs": [],
   "source": [
    "#b for \n",
    "\n",
    "start = 1 \n",
    "end = 100\n",
    "step = 2\n",
    "\n",
    "for i in range(start,end,step): \n",
    "    print(i)"
   ]
  },
  {
   "attachments": {
    "image.png": {
     "image/png": "[encoded data removed]"
    }
   },
   "cell_type": "markdown",
   "metadata": {},
   "source": [
    "# 6. Multiplication game (*)\n",
    "a) Create a multiplication game following this flow chart:\n",
    "\n",
    "![image.png](attachment:image.png)"
   ]
  },
  {
   "cell_type": "code",
   "execution_count": 75,
   "metadata": {},
   "outputs": [
    {
     "name": "stdout",
     "output_type": "stream",
     "text": [
      "Good work! Score: 1\n",
      "Good work! Score: 2\n",
      "Good work! Score: 3\n",
      "Game over! Your final score was 3\n"
     ]
    }
   ],
   "source": [
    "#import the random module \n",
    "import random \n",
    "\n",
    "score = 0\n",
    " \n",
    "while True: \n",
    "\n",
    " \n",
    "#randomnizing 2 numbers (x and y) between 1-10\n",
    "#By using the random module + randrage function \n",
    "\n",
    "    randomNumberX = random.randrange(1,11)\n",
    "    randomNumberY = random.randrange(1,11)\n",
    "\n",
    "#calc the total of x times y \n",
    "\n",
    "    userAnswer = int(input(f\"What is {randomNumberX} * {randomNumberY} ? \"))\n",
    "\n",
    "    calcSum = (randomNumberX)*(randomNumberY)\n",
    "\n",
    "\n",
    "    if userAnswer == calcSum:\n",
    "        score += 1 \n",
    "        print(f\"Good work! Score: {score}\")\n",
    "    else: \n",
    "        print(f\"This is the correct answer: {calcSum}\")\n",
    "\n",
    "#ask user to answer x times y\n",
    "\n",
    "    playAgain = input(\"Play again? Press 'y' for yes and 'q' to end game.\")\n",
    "\n",
    "    if playAgain.lower() == \"q\":\n",
    "        print(f\"Game over! Your final score was {score}\")\n",
    "        break\n",
    "\n",
    "    \n",
    " \n",
    "\n",
    "\n"
   ]
  }
 ],
 "metadata": {
  "kernelspec": {
   "display_name": ".venv",
   "language": "python",
   "name": "python3"
  },
  "language_info": {
   "codemirror_mode": {
    "name": "ipython",
    "version": 3
   },
   "file_extension": ".py",
   "mimetype": "text/x-python",
   "name": "python",
   "nbconvert_exporter": "python",
   "pygments_lexer": "ipython3",
   "version": "3.12.9"
  }
 },
 "nbformat": 4,
 "nbformat_minor": 2
}
