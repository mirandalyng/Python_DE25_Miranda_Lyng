{
 "cells": [
  {
   "cell_type": "markdown",
   "metadata": {},
   "source": [
    "## 0. Dice rolls (*)\n",
    "Simulate 10 dice rolls and append the rolls to a list. Do this once again but now use list comprehension instead to create the list.\n",
    "\n",
    "a) sort the list in ascending order (*)\n",
    "\n",
    "b) sort the list in descending order (*)\n",
    "\n",
    "c) find the maximum and minimum value in the list (*)\n",
    "\n",
    "d) calculate the mean (average) of the list (*)\n",
    "\n",
    "e) find the median of the list (*)\n",
    "\n",
    "f) extract only the unique values from the list. The output should be a list (*)"
   ]
  },
  {
   "cell_type": "markdown",
   "metadata": {},
   "source": [
    "# Exercise 3 - sequences"
   ]
  },
  {
   "cell_type": "code",
   "execution_count": 4,
   "metadata": {},
   "outputs": [
    {
     "data": {
      "text/plain": [
       "[1, 1, 2, 2, 3, 4, 4, 5, 6, 6]"
      ]
     },
     "execution_count": 4,
     "metadata": {},
     "output_type": "execute_result"
    }
   ],
   "source": [
    "#List of simulated dice rolls \n",
    "listOfDiceRolls = list((5,2,3,6,1,1,4,2,4,6))\n",
    "\n",
    "#a) sort the list in ascending order (*)\n",
    "listOfDiceRolls.sort()\n",
    "\n",
    "listOfDiceRolls"
   ]
  },
  {
   "cell_type": "code",
   "execution_count": 5,
   "metadata": {},
   "outputs": [
    {
     "data": {
      "text/plain": [
       "[6, 6, 5, 4, 4, 3, 2, 2, 1, 1]"
      ]
     },
     "execution_count": 5,
     "metadata": {},
     "output_type": "execute_result"
    }
   ],
   "source": [
    "#b) sort the list in descending order (*)\n",
    "\n",
    "#By using sort function with reverse and boolean true the list is portraited in a decending order\n",
    "\n",
    "listOfDiceRolls.sort(reverse = True)\n",
    "listOfDiceRolls"
   ]
  },
  {
   "cell_type": "code",
   "execution_count": 9,
   "metadata": {},
   "outputs": [
    {
     "name": "stdout",
     "output_type": "stream",
     "text": [
      "6\n",
      "1\n"
     ]
    }
   ],
   "source": [
    "#c) find the maximum and minimum value in the list (*)\n",
    "\n",
    "#max number \n",
    "\n",
    "max_number = max(listOfDiceRolls)\n",
    "print(max_number)\n",
    "\n",
    "#min number \n",
    "min_number = min(listOfDiceRolls)\n",
    "print(min_number)"
   ]
  },
  {
   "cell_type": "code",
   "execution_count": 11,
   "metadata": {},
   "outputs": [
    {
     "data": {
      "text/plain": [
       "3.4"
      ]
     },
     "execution_count": 11,
     "metadata": {},
     "output_type": "execute_result"
    }
   ],
   "source": [
    "#d) calculate the mean (average) of the list (*)\n",
    "#calculating avrage by using sum / length\n",
    "\n",
    "avrage = sum(listOfDiceRolls)/len(listOfDiceRolls)\n",
    "\n",
    "avrage"
   ]
  },
  {
   "cell_type": "code",
   "execution_count": 12,
   "metadata": {},
   "outputs": [
    {
     "data": {
      "text/plain": [
       "3.5"
      ]
     },
     "execution_count": 12,
     "metadata": {},
     "output_type": "execute_result"
    }
   ],
   "source": [
    "#e) find the median of the list (*)\n",
    "#I find the median of the list by using statistic function \n",
    "\n",
    "import statistics as sta\n",
    "\n",
    "median = sta.median(listOfDiceRolls)\n",
    "\n",
    "median"
   ]
  },
  {
   "cell_type": "code",
   "execution_count": 14,
   "metadata": {},
   "outputs": [
    {
     "name": "stdout",
     "output_type": "stream",
     "text": [
      "[6, 5, 4, 3, 2, 1]\n"
     ]
    }
   ],
   "source": [
    "# f) extract only the unique values from the list. The output should be a list (*)\n",
    "\n",
    "#creating a new empty list \n",
    "unique_list = []\n",
    "\n",
    "#looping through the list of dicerolls \n",
    "for item in listOfDiceRolls: \n",
    "    #check to see if the item is unique \n",
    "    if item not in unique_list: \n",
    "        #if it's unique append the item to the empty list \n",
    "        unique_list.append(item)\n",
    "print(unique_list)\n"
   ]
  },
  {
   "cell_type": "markdown",
   "metadata": {},
   "source": [
    "## Food menu (**)"
   ]
  },
  {
   "cell_type": "markdown",
   "metadata": {},
   "source": [
    "Create a:\n",
    "\n",
    "a) list with the following elements: \"vegetarian lasagna\", \"spaghetti\", \"fish\", \"soup\", \"pancakes\". (*)\n",
    "\n",
    "b) list with the weekdays (*)\n",
    "\n",
    "c) create a food menu with each day corresponding to each food item and print it out like this (*)\n",
    "\n"
   ]
  },
  {
   "cell_type": "code",
   "execution_count": 55,
   "metadata": {},
   "outputs": [
    {
     "name": "stdout",
     "output_type": "stream",
     "text": [
      "Day     Food \n",
      "- - - - - - - - \n",
      "mon     vegetarian lasagna \n",
      "tus     spaghetti \n",
      "wen     fish \n",
      "thu     soup \n",
      "fri     pancakes \n",
      "\n"
     ]
    }
   ],
   "source": [
    "# a\n",
    "foods = [\"vegetarian lasagna\", \"spaghetti\", \"fish\", \"soup\", \"pancakes\"]\n",
    "\n",
    "#b\n",
    "weekdays = [\"mon\", \"tus\", \"wen\", \"thu\", \"fri\", \"sat\", \"sun\"]\n",
    "\n",
    "#c\n",
    "weekly_meny = f\"Day     Food \\n- - - - - - - - \\n\"\n",
    "\n",
    "for day, food in zip(weekdays, foods):\n",
    "\n",
    "    weekly_meny += f\"{day:<7} {food} \\n\"\n",
    "\n",
    "print(weekly_meny)\n"
   ]
  },
  {
   "cell_type": "markdown",
   "metadata": {},
   "source": [
    "## 2. Squares (*)\n",
    "a) Use list comprehension to create a list of squares from -10 to 10 (*)\n",
    "\n",
    "b) Plot this list using matplotlib. (*)"
   ]
  },
  {
   "cell_type": "code",
   "execution_count": 68,
   "metadata": {},
   "outputs": [
    {
     "data": {
      "image/png": "[encoded data removed]",
      "text/plain": [
       "<Figure size 640x480 with 1 Axes>"
      ]
     },
     "metadata": {},
     "output_type": "display_data"
    }
   ],
   "source": [
    "#a \n",
    "squares = [x**2 for x in range(-10, 11)]\n",
    "squares\n",
    "\n",
    "#b \n",
    "import matplotlib.pyplot as plt\n",
    "\n",
    "plt.plot(squares)\n",
    "plt.show()"
   ]
  },
  {
   "cell_type": "markdown",
   "metadata": {},
   "source": [
    "# 3. Chessboard (**)\n",
    "a) Create this list using list comprehension: (*)\n",
    "['A1', 'B1', 'C1', 'D1', 'E1', 'F1', 'G1', 'H1']"
   ]
  },
  {
   "cell_type": "code",
   "execution_count": 5,
   "metadata": {},
   "outputs": [
    {
     "data": {
      "text/plain": [
       "['A1', 'B1', 'C1', 'D1', 'E1', 'F1', 'G1']"
      ]
     },
     "execution_count": 5,
     "metadata": {},
     "output_type": "execute_result"
    }
   ],
   "source": [
    "#a\n",
    "#google to find string function asciii to be able to use alphabetical range \n",
    "import string \n",
    "upper_alf = string.ascii_uppercase\n",
    "\n",
    "alf_list = [string.ascii_uppercase[x]+ \"1\" for x in range(7) ]\n",
    "\n",
    "alf_list"
   ]
  },
  {
   "cell_type": "markdown",
   "metadata": {},
   "source": [
    "b) Create a 2D list to hold the coordinates in a chessboard like this (**)"
   ]
  },
  {
   "cell_type": "code",
   "execution_count": 22,
   "metadata": {},
   "outputs": [
    {
     "name": "stdout",
     "output_type": "stream",
     "text": [
      "[ A1, B1, C1, D1, E1, F1, G1, H1 ],\n",
      "[ A2, B2, C2, D2, E2, F2, G2, H2 ],\n",
      "[ A3, B3, C3, D3, E3, F3, G3, H3 ],\n",
      "[ A4, B4, C4, D4, E4, F4, G4, H4 ],\n",
      "[ A5, B5, C5, D5, E5, F5, G5, H5 ],\n",
      "[ A6, B6, C6, D6, E6, F6, G6, H6 ],\n",
      "[ A7, B7, C7, D7, E7, F7, G7, H7 ],\n",
      "[ A8, B8, C8, D8, E8, F8, G8, H8 ],\n"
     ]
    }
   ],
   "source": [
    "import string\n",
    "\n",
    "upper_a = string.ascii_uppercase\n",
    " \n",
    "board_game = []\n",
    "\n",
    "for x in range(1,9): \n",
    "    row = [(f\"{upper_a[y]}{x}\") for y in range(8)]\n",
    "    board_game.append(row)\n",
    "    \n",
    "\n",
    "\n",
    "\n",
    "\n",
    "for row in board_game:\n",
    "    print('[', ', '.join(row), '],')\n",
    "\n",
    "    \n"
   ]
  },
  {
   "cell_type": "markdown",
   "metadata": {},
   "source": [
    "c) Instead of lists use tuples to hold the coordinates in a chessboard like this (**)"
   ]
  },
  {
   "cell_type": "markdown",
   "metadata": {},
   "source": [
    "((\"A\",1),(\"B\",1),(\"C\",1),(\"D\",1),(\"E\",1),(\"F\",1),(\"G\",1),(\"H\",1)),\n",
    "((\"A\",2),(\"B\",2),(\"C\",2),(\"D\",2),(\"E\",2),(\"F\",2),(\"G\",2),(\"H\",2)),\n",
    "((\"A\",3),(\"B\",3),(\"C\",3),(\"D\",3),(\"E\",3),(\"F\",3),(\"G\",3),(\"H\",3)),\n",
    "((\"A\",4),(\"B\",4),(\"C\",4),(\"D\",4),(\"E\",4),(\"F\",4),(\"G\",4),(\"H\",4)),\n",
    "((\"A\",5),(\"B\",5),(\"C\",5),(\"D\",5),(\"E\",5),(\"F\",5),(\"G\",5),(\"H\",5)),\n",
    "((\"A\",6),(\"B\",6),(\"C\",6),(\"D\",6),(\"E\",6),(\"F\",6),(\"G\",6),(\"H\",6)),\n",
    "((\"A\",7),(\"B\",7),(\"C\",7),(\"D\",7),(\"E\",7),(\"F\",7),(\"G\",7),(\"H\",7)),\n",
    "((\"A\",8),(\"B\",8),(\"C\",8),(\"D\",8),(\"E\",8),(\"F\",8),(\"G\",8),(\"H\",8))"
   ]
  },
  {
   "cell_type": "code",
   "execution_count": 4,
   "metadata": {},
   "outputs": [
    {
     "name": "stdout",
     "output_type": "stream",
     "text": [
      "(('A', 1), ('B', 1), ('C', 1), ('D', 1), ('E', 1), ('F', 1), ('G', 1), ('H', 1))\n",
      "(('A', 2), ('B', 2), ('C', 2), ('D', 2), ('E', 2), ('F', 2), ('G', 2), ('H', 2))\n",
      "(('A', 3), ('B', 3), ('C', 3), ('D', 3), ('E', 3), ('F', 3), ('G', 3), ('H', 3))\n",
      "(('A', 4), ('B', 4), ('C', 4), ('D', 4), ('E', 4), ('F', 4), ('G', 4), ('H', 4))\n",
      "(('A', 5), ('B', 5), ('C', 5), ('D', 5), ('E', 5), ('F', 5), ('G', 5), ('H', 5))\n",
      "(('A', 6), ('B', 6), ('C', 6), ('D', 6), ('E', 6), ('F', 6), ('G', 6), ('H', 6))\n",
      "(('A', 7), ('B', 7), ('C', 7), ('D', 7), ('E', 7), ('F', 7), ('G', 7), ('H', 7))\n",
      "(('A', 8), ('B', 8), ('C', 8), ('D', 8), ('E', 8), ('F', 8), ('G', 8), ('H', 8))\n"
     ]
    }
   ],
   "source": [
    "import string \n",
    "\n",
    "upper_alph = string.ascii_uppercase\n",
    "\n",
    "\n",
    "for x in range(1,9):\n",
    "    row = tuple((upper_alph[y], x) for y in range(8))\n",
    "    print(row)\n",
    "\n"
   ]
  },
  {
   "cell_type": "markdown",
   "metadata": {},
   "source": []
  },
  {
   "cell_type": "markdown",
   "metadata": {},
   "source": [
    "# 4. Dice rolls convergence (**)\n",
    "Simulate:\n",
    "\n",
    "a) 100 dice rolls and count the number of outcome six. (*)\n",
    "\n",
    "b) 10, 100, 1000, 10000, 100000, 1000000 dice rolls. Count the number of outcome six in each simulation and store it in a list. Compute the probability of outcome six in each simulation. (**)\n",
    "\n",
    "c) Use matplotlib to plot this list. (*)"
   ]
  },
  {
   "cell_type": "code",
   "execution_count": 220,
   "metadata": {},
   "outputs": [
    {
     "name": "stdout",
     "output_type": "stream",
     "text": [
      "6\n"
     ]
    }
   ],
   "source": [
    "#a \n",
    "import random\n",
    "dice_list_num = [1,2,3,4,5,6]\n",
    "\n",
    "dice_rolls = []\n",
    "\n",
    "for x in range (1,101):\n",
    "    random_number = random.choice(dice_list_num)\n",
    "    dice_rolls.append(random_number)\n",
    "\n",
    "print(dice_rolls[5])\n",
    "\n"
   ]
  },
  {
   "cell_type": "code",
   "execution_count": 274,
   "metadata": {},
   "outputs": [
    {
     "name": "stdout",
     "output_type": "stream",
     "text": [
      "[5, 1, 6, 6, 4, 5]\n",
      "27\n"
     ]
    },
    {
     "data": {
      "image/png": "[encoded data removed]",
      "text/plain": [
       "<Figure size 640x480 with 1 Axes>"
      ]
     },
     "metadata": {},
     "output_type": "display_data"
    }
   ],
   "source": [
    "#b \n",
    "\n",
    "import random\n",
    "#list with dice (simulates 1-6)\n",
    "dice_list_num = [1,2,3,4,5,6]\n",
    "#empty list to store the 6th values in \n",
    "dice_rolls = []\n",
    "\n",
    "#rolls that starts at 10 \n",
    "rolls = 10\n",
    "\n",
    "#as long as rolls are the same as or less than 100 000 keep going\n",
    "while rolls <= 1000000:\n",
    "    #sets a random number between 1-6 (the dice)\n",
    "    random_number = random.choice(dice_list_num)\n",
    "\n",
    "    #throws the dice * times \n",
    "    list_random = [random_number for _ in range(rolls)]\n",
    "\n",
    "    #append the sixth value to the dice roll list \n",
    "    dice_rolls.append(list_random[5])\n",
    "\n",
    "    #increase the range of rolls with *10 \n",
    "    rolls *= 10\n",
    "\n",
    "#prints the sixth number \n",
    "\n",
    "print(dice_rolls)\n",
    "    \n",
    "#prints the total sum of the dice rolls list \n",
    "print(sum(dice_rolls))\n",
    "\n",
    "\n",
    "#c - matplotlib to visualise the list \n",
    "\n",
    "import matplotlib.pyplot as plt \n",
    "\n",
    "plt.plot(dice_rolls)\n",
    "plt.show()\n"
   ]
  },
  {
   "cell_type": "markdown",
   "metadata": {},
   "source": [
    "# 5. Monte Carlo simulation (***)"
   ]
  },
  {
   "cell_type": "code",
   "execution_count": 25,
   "metadata": {},
   "outputs": [
    {
     "data": {
      "image/png": "[encoded data removed]",
      "text/plain": [
       "<Figure size 640x480 with 1 Axes>"
      ]
     },
     "metadata": {},
     "output_type": "display_data"
    },
    {
     "name": "stdout",
     "output_type": "stream",
     "text": [
      "The relation in inner and outer circle: 3.4964028776978417\n"
     ]
    }
   ],
   "source": [
    "import random \n",
    "import matplotlib.pyplot as plt \n",
    "\n",
    "#start with x and y points to generate a random number between -1 to 1 \n",
    "\n",
    "#range is 5000 for each poing (x,y)\n",
    "x_points = [random.uniform(-1,1) for _ in range(5000)]\n",
    "y_points = [random.uniform(-1,1) for _ in range(5000)]\n",
    "\n",
    "#create a empty list to store each x and y value in\n",
    "points = []\n",
    "\n",
    "\n",
    "\n",
    "#loop the x and y points and store them in points list \n",
    "for x, y in zip(x_points, y_points):\n",
    "    points.append((x, y))\n",
    "\n",
    "    \n",
    "inner_circle = []\n",
    "\n",
    "outer_circle = []\n",
    "\n",
    "for point in points: \n",
    "    x, y = point\n",
    "    distance_squ = x**2 + y**2\n",
    "    if distance_squ < 1:\n",
    "        inner_circle.append(point)\n",
    "    else:\n",
    "        outer_circle.append(point)\n",
    "\n",
    "#googled how to set y,x and colors for the points and to have it as a circle by using equal \n",
    "plt.scatter([x for x, y in inner_circle], [y for x, y in inner_circle], color='green', label='Inside circle')\n",
    "plt.scatter([x for x, y in outer_circle], [y for x, y in outer_circle], color='red', label='Outside circle')\n",
    "plt.axis('equal')\n",
    "plt.legend()\n",
    "plt.show()\n",
    "\n",
    "\n",
    "#b) Calculate the fraction between number of inner points and number of outer points \n",
    "\n",
    "fraction = len(inner_circle) / len(outer_circle)\n",
    "\n",
    "\n",
    "print(f\"The relation in inner and outer circle: {fraction}\")\n",
    "     \n"
   ]
  },
  {
   "cell_type": "markdown",
   "metadata": {},
   "source": [
    "# 6. A cute rabbit among two ferocious snakes (***)"
   ]
  },
  {
   "cell_type": "markdown",
   "metadata": {},
   "source": [
    "There are three identical doors, behind two of them, there are ferocious snakes and behind one of them is a cute little rabbit. Your aim is to pick a door and get the cute rabbit. You start picking one door randomly and suddenly another door opens and snake slithers away pssss. Now you have a choice to either stay with your door or change to the remaining door."
   ]
  },
  {
   "cell_type": "markdown",
   "metadata": {},
   "source": [
    "a) What is your choice and why? (**)\n",
    "I will not change the door, because before I had 33.333% of choosing the right door, now I have 50% \n",
    "I think that you want me to change the door, because they know where the rabbit is. Why else would they had opened the door and then offered me a chance to change ? "
   ]
  },
  {
   "cell_type": "markdown",
   "metadata": {},
   "source": [
    "b) Randomly assign which door has the rabbit, and randomly pick an initial door. Now simulate 10, 100, 1000, 10000, 100000, 1000000 times for staying and for switching doors. Calculate the proportion of finding the rabbits for each set of simulations. Plot the results (**)"
   ]
  },
  {
   "cell_type": "code",
   "execution_count": null,
   "metadata": {},
   "outputs": [],
   "source": [
    "import random \n",
    "\n",
    "\n",
    "#create 3 doors \n",
    "\n",
    "\n",
    "#randomly assign where the rabbit is \n",
    "\n",
    "\n",
    "#randomly select the first door to open \n",
    "\n",
    "\n",
    "\n"
   ]
  },
  {
   "cell_type": "markdown",
   "metadata": {},
   "source": [
    "# 7. Theory\n",
    "a) What is a sequence in Python? Give examples of sequence types.\n",
    "\n",
    "b) What is the difference between a list and a tuple?\n",
    "\n",
    "A tuple can store different value types (ex string, int etc). Also they work different funciton - vise. For example the tuple is not able to append() to. \n",
    "\n",
    "c) How does indexing work in Python sequences? What happens if you use a negative index?\n",
    "\n",
    "\n",
    "\n",
    "d) How does Python handle out-of-range indices in slicing vs indexing?\n",
    "\n",
    "e) Which of the following sequence types are mutable: list, tuple, str, range?\n",
    "\n",
    "f) What is sequence unpacking? Provide an example.\n",
    "\n",
    "g) What are some common use cases for enumerate() and zip() when working with sequences?\n",
    "\n",
    "h) What is the difference between sorted() and .sort() in lists?"
   ]
  },
  {
   "cell_type": "code",
   "execution_count": null,
   "metadata": {},
   "outputs": [],
   "source": []
  }
 ],
 "metadata": {
  "kernelspec": {
   "display_name": ".venv",
   "language": "python",
   "name": "python3"
  },
  "language_info": {
   "codemirror_mode": {
    "name": "ipython",
    "version": 3
   },
   "file_extension": ".py",
   "mimetype": "text/x-python",
   "name": "python",
   "nbconvert_exporter": "python",
   "pygments_lexer": "ipython3",
   "version": "3.12.9"
  }
 },
 "nbformat": 4,
 "nbformat_minor": 2
}
