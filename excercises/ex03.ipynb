{
 "cells": [
  {
   "cell_type": "markdown",
   "metadata": {},
   "source": [
    "# Exercise 3 - sequences"
   ]
  },
  {
   "cell_type": "markdown",
   "metadata": {},
   "source": [
    "## 0. Dice rolls (*)\n",
    "Simulate 10 dice rolls and append the rolls to a list. Do this once again but now use list comprehension instead to create the list.\n",
    "\n",
    "a) sort the list in ascending order (*)\n",
    "\n",
    "b) sort the list in descending order (*)\n",
    "\n",
    "c) find the maximum and minimum value in the list (*)\n",
    "\n",
    "d) calculate the mean (average) of the list (*)\n",
    "\n",
    "e) find the median of the list (*)\n",
    "\n",
    "f) extract only the unique values from the list. The output should be a list (*)"
   ]
  }
 ],
 "metadata": {
  "language_info": {
   "name": "python"
  }
 },
 "nbformat": 4,
 "nbformat_minor": 2
}
