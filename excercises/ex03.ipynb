{
 "cells": [
  {
   "cell_type": "markdown",
   "metadata": {},
   "source": [
    "## 0. Dice rolls (*)\n",
    "Simulate 10 dice rolls and append the rolls to a list. Do this once again but now use list comprehension instead to create the list.\n",
    "\n",
    "a) sort the list in ascending order (*)\n",
    "\n",
    "b) sort the list in descending order (*)\n",
    "\n",
    "c) find the maximum and minimum value in the list (*)\n",
    "\n",
    "d) calculate the mean (average) of the list (*)\n",
    "\n",
    "e) find the median of the list (*)\n",
    "\n",
    "f) extract only the unique values from the list. The output should be a list (*)"
   ]
  },
  {
   "cell_type": "markdown",
   "metadata": {},
   "source": [
    "# Exercise 3 - sequences"
   ]
  },
  {
   "cell_type": "code",
   "execution_count": 4,
   "metadata": {},
   "outputs": [
    {
     "data": {
      "text/plain": [
       "[1, 1, 2, 2, 3, 4, 4, 5, 6, 6]"
      ]
     },
     "execution_count": 4,
     "metadata": {},
     "output_type": "execute_result"
    }
   ],
   "source": [
    "#List of simulated dice rolls \n",
    "listOfDiceRolls = list((5,2,3,6,1,1,4,2,4,6))\n",
    "\n",
    "#a) sort the list in ascending order (*)\n",
    "listOfDiceRolls.sort()\n",
    "\n",
    "listOfDiceRolls"
   ]
  },
  {
   "cell_type": "code",
   "execution_count": 5,
   "metadata": {},
   "outputs": [
    {
     "data": {
      "text/plain": [
       "[6, 6, 5, 4, 4, 3, 2, 2, 1, 1]"
      ]
     },
     "execution_count": 5,
     "metadata": {},
     "output_type": "execute_result"
    }
   ],
   "source": [
    "#b) sort the list in descending order (*)\n",
    "\n",
    "#By using sort function with reverse and boolean true the list is portraited in a decending order\n",
    "\n",
    "listOfDiceRolls.sort(reverse = True)\n",
    "listOfDiceRolls"
   ]
  },
  {
   "cell_type": "code",
   "execution_count": 9,
   "metadata": {},
   "outputs": [
    {
     "name": "stdout",
     "output_type": "stream",
     "text": [
      "6\n",
      "1\n"
     ]
    }
   ],
   "source": [
    "#c) find the maximum and minimum value in the list (*)\n",
    "\n",
    "#max number \n",
    "\n",
    "max_number = max(listOfDiceRolls)\n",
    "print(max_number)\n",
    "\n",
    "#min number \n",
    "min_number = min(listOfDiceRolls)\n",
    "print(min_number)"
   ]
  },
  {
   "cell_type": "code",
   "execution_count": 11,
   "metadata": {},
   "outputs": [
    {
     "data": {
      "text/plain": [
       "3.4"
      ]
     },
     "execution_count": 11,
     "metadata": {},
     "output_type": "execute_result"
    }
   ],
   "source": [
    "#d) calculate the mean (average) of the list (*)\n",
    "#calculating avrage by using sum / length\n",
    "\n",
    "avrage = sum(listOfDiceRolls)/len(listOfDiceRolls)\n",
    "\n",
    "avrage"
   ]
  },
  {
   "cell_type": "code",
   "execution_count": 12,
   "metadata": {},
   "outputs": [
    {
     "data": {
      "text/plain": [
       "3.5"
      ]
     },
     "execution_count": 12,
     "metadata": {},
     "output_type": "execute_result"
    }
   ],
   "source": [
    "#e) find the median of the list (*)\n",
    "#I find the median of the list by using statistic function \n",
    "\n",
    "import statistics as sta\n",
    "\n",
    "median = sta.median(listOfDiceRolls)\n",
    "\n",
    "median"
   ]
  },
  {
   "cell_type": "code",
   "execution_count": 14,
   "metadata": {},
   "outputs": [
    {
     "name": "stdout",
     "output_type": "stream",
     "text": [
      "[6, 5, 4, 3, 2, 1]\n"
     ]
    }
   ],
   "source": [
    "# f) extract only the unique values from the list. The output should be a list (*)\n",
    "\n",
    "#creating a new empty list \n",
    "unique_list = []\n",
    "\n",
    "#looping through the list of dicerolls \n",
    "for item in listOfDiceRolls: \n",
    "    #check to see if the item is unique \n",
    "    if item not in unique_list: \n",
    "        #if it's unique append the item to the empty list \n",
    "        unique_list.append(item)\n",
    "print(unique_list)\n"
   ]
  },
  {
   "cell_type": "markdown",
   "metadata": {},
   "source": [
    "## Food menu (**)"
   ]
  },
  {
   "cell_type": "markdown",
   "metadata": {},
   "source": [
    "Create a:\n",
    "\n",
    "a) list with the following elements: \"vegetarian lasagna\", \"spaghetti\", \"fish\", \"soup\", \"pancakes\". (*)\n",
    "\n",
    "b) list with the weekdays (*)\n",
    "\n",
    "c) create a food menu with each day corresponding to each food item and print it out like this (*)\n",
    "\n"
   ]
  },
  {
   "cell_type": "code",
   "execution_count": 55,
   "metadata": {},
   "outputs": [
    {
     "name": "stdout",
     "output_type": "stream",
     "text": [
      "Day     Food \n",
      "- - - - - - - - \n",
      "mon     vegetarian lasagna \n",
      "tus     spaghetti \n",
      "wen     fish \n",
      "thu     soup \n",
      "fri     pancakes \n",
      "\n"
     ]
    }
   ],
   "source": [
    "# a\n",
    "foods = [\"vegetarian lasagna\", \"spaghetti\", \"fish\", \"soup\", \"pancakes\"]\n",
    "\n",
    "#b\n",
    "weekdays = [\"mon\", \"tus\", \"wen\", \"thu\", \"fri\", \"sat\", \"sun\"]\n",
    "\n",
    "#c\n",
    "weekly_meny = f\"Day     Food \\n- - - - - - - - \\n\"\n",
    "\n",
    "for day, food in zip(weekdays, foods):\n",
    "\n",
    "    weekly_meny += f\"{day:<7} {food} \\n\"\n",
    "\n",
    "print(weekly_meny)\n"
   ]
  },
  {
   "cell_type": "markdown",
   "metadata": {},
   "source": [
    "## 2. Squares (*)\n",
    "a) Use list comprehension to create a list of squares from -10 to 10 (*)\n",
    "\n",
    "b) Plot this list using matplotlib. (*)"
   ]
  },
  {
   "cell_type": "code",
   "execution_count": null,
   "metadata": {},
   "outputs": [],
   "source": []
  }
 ],
 "metadata": {
  "kernelspec": {
   "display_name": ".venv",
   "language": "python",
   "name": "python3"
  },
  "language_info": {
   "codemirror_mode": {
    "name": "ipython",
    "version": 3
   },
   "file_extension": ".py",
   "mimetype": "text/x-python",
   "name": "python",
   "nbconvert_exporter": "python",
   "pygments_lexer": "ipython3",
   "version": "3.12.9"
  }
 },
 "nbformat": 4,
 "nbformat_minor": 2
}
